{
 "cells": [
  {
   "cell_type": "markdown",
   "source": [
    "## Investigating track position on playlist"
   ],
   "metadata": {
    "collapsed": false,
    "pycharm": {
     "name": "#%% md\n"
    }
   }
  },
  {
   "cell_type": "markdown",
   "source": [
    "*Imports*"
   ],
   "metadata": {
    "collapsed": false,
    "pycharm": {
     "name": "#%% md\n"
    }
   }
  },
  {
   "cell_type": "code",
   "execution_count": 6,
   "outputs": [],
   "source": [
    "import pandas as pd\n",
    "import seaborn as sns\n",
    "import sqlite3\n",
    "%matplotlib inline"
   ],
   "metadata": {
    "collapsed": false,
    "pycharm": {
     "name": "#%%\n"
    },
    "ExecuteTime": {
     "end_time": "2024-04-02T19:08:56.741862100Z",
     "start_time": "2024-04-02T19:08:56.703866Z"
    }
   }
  },
  {
   "cell_type": "code",
   "execution_count": 7,
   "outputs": [],
   "source": [
    "conn = sqlite3.connect('../data_storage/spotify.db')"
   ],
   "metadata": {
    "collapsed": false,
    "pycharm": {
     "name": "#%%\n"
    },
    "ExecuteTime": {
     "end_time": "2024-04-02T19:08:57.037860900Z",
     "start_time": "2024-04-02T19:08:56.988861Z"
    }
   }
  },
  {
   "cell_type": "code",
   "execution_count": 9,
   "outputs": [
    {
     "data": {
      "text/plain": "                              track_uri  relative_position\n0  spotify:track:0UaMYEvWZi0ZqiDOoHU3YI           0.000000\n1  spotify:track:6I9VzXrHxO9rA9A5euc8Ak           0.019231\n2  spotify:track:0WqIKmW4BTrj3eJFmnCKMv           0.038462\n3  spotify:track:1AWQoqb9bSvzTjaLralEkT           0.057692\n4  spotify:track:1lzr43nnXAijIGYnCT8M8H           0.076923",
      "text/html": "<div>\n<style scoped>\n    .dataframe tbody tr th:only-of-type {\n        vertical-align: middle;\n    }\n\n    .dataframe tbody tr th {\n        vertical-align: top;\n    }\n\n    .dataframe thead th {\n        text-align: right;\n    }\n</style>\n<table border=\"1\" class=\"dataframe\">\n  <thead>\n    <tr style=\"text-align: right;\">\n      <th></th>\n      <th>track_uri</th>\n      <th>relative_position</th>\n    </tr>\n  </thead>\n  <tbody>\n    <tr>\n      <th>0</th>\n      <td>spotify:track:0UaMYEvWZi0ZqiDOoHU3YI</td>\n      <td>0.000000</td>\n    </tr>\n    <tr>\n      <th>1</th>\n      <td>spotify:track:6I9VzXrHxO9rA9A5euc8Ak</td>\n      <td>0.019231</td>\n    </tr>\n    <tr>\n      <th>2</th>\n      <td>spotify:track:0WqIKmW4BTrj3eJFmnCKMv</td>\n      <td>0.038462</td>\n    </tr>\n    <tr>\n      <th>3</th>\n      <td>spotify:track:1AWQoqb9bSvzTjaLralEkT</td>\n      <td>0.057692</td>\n    </tr>\n    <tr>\n      <th>4</th>\n      <td>spotify:track:1lzr43nnXAijIGYnCT8M8H</td>\n      <td>0.076923</td>\n    </tr>\n  </tbody>\n</table>\n</div>"
     },
     "execution_count": 9,
     "metadata": {},
     "output_type": "execute_result"
    }
   ],
   "source": [
    "statement = '''\n",
    "    SELECT playlist_track.track_uri, (playlist_track.pos*1.0/playlist.num_tracks) AS relative_position\n",
    "    FROM playlist_track\n",
    "    JOIN playlist ON playlist_track.pid=playlist.pid\n",
    "    WHERE playlist.num_tracks > 10\n",
    "    LIMIT 1000000\n",
    "    '''\n",
    "df = pd.read_sql_query(statement, conn)\n",
    "df.head()"
   ],
   "metadata": {
    "collapsed": false,
    "pycharm": {
     "name": "#%%\n"
    },
    "ExecuteTime": {
     "end_time": "2024-04-02T19:10:03.295150100Z",
     "start_time": "2024-04-02T19:10:02.542153800Z"
    }
   }
  },
  {
   "cell_type": "code",
   "execution_count": 10,
   "outputs": [],
   "source": [
    "conn.close()"
   ],
   "metadata": {
    "collapsed": false,
    "pycharm": {
     "name": "#%%\n"
    },
    "ExecuteTime": {
     "end_time": "2024-04-02T19:10:05.883442100Z",
     "start_time": "2024-04-02T19:10:05.843453800Z"
    }
   }
  },
  {
   "cell_type": "code",
   "execution_count": 11,
   "outputs": [],
   "source": [
    "track_list = ['spotify:track:7KXjTSCq5nL1LoYtL7XAwS', 'spotify:track:1xznGGDReH1oQq0xzbwXa3',\n",
    "              'spotify:track:7yyRTcZmCiyzzJlNzGC9Ol', 'spotify:track:7w9bgPAmPTtrkt2v16QWvQ']\n",
    "curated_tracks = df.loc[df['track_uri'].isin(track_list)]"
   ],
   "metadata": {
    "collapsed": false,
    "pycharm": {
     "name": "#%%\n"
    },
    "ExecuteTime": {
     "end_time": "2024-04-02T19:10:07.221678700Z",
     "start_time": "2024-04-02T19:10:07.204699500Z"
    }
   }
  },
  {
   "cell_type": "code",
   "execution_count": 13,
   "outputs": [
    {
     "data": {
      "text/plain": "<Axes: xlabel='track_uri', ylabel='relative_position'>"
     },
     "execution_count": 13,
     "metadata": {},
     "output_type": "execute_result"
    },
    {
     "data": {
      "text/plain": "<Figure size 640x480 with 1 Axes>",
      "image/png": "[encoded data removed]"
     },
     "metadata": {},
     "output_type": "display_data"
    }
   ],
   "source": [
    "sns.boxplot(x='track_uri', y='relative_position', data=curated_tracks)"
   ],
   "metadata": {
    "collapsed": false,
    "pycharm": {
     "name": "#%%\n"
    },
    "ExecuteTime": {
     "end_time": "2024-04-02T19:10:22.364745100Z",
     "start_time": "2024-04-02T19:10:21.902753300Z"
    }
   }
  },
  {
   "cell_type": "code",
   "outputs": [],
   "source": [],
   "metadata": {
    "collapsed": false
   }
  }
 ],
 "metadata": {
  "kernelspec": {
   "display_name": "Python 3",
   "language": "python",
   "name": "python3"
  },
  "language_info": {
   "codemirror_mode": {
    "name": "ipython",
    "version": 2
   },
   "file_extension": ".py",
   "mimetype": "text/x-python",
   "name": "python",
   "nbconvert_exporter": "python",
   "pygments_lexer": "ipython2",
   "version": "2.7.6"
  },
  "pycharm": {
   "stem_cell": {
    "cell_type": "raw",
    "source": [],
    "metadata": {
     "collapsed": false
    }
   }
  }
 },
 "nbformat": 4,
 "nbformat_minor": 0
}
