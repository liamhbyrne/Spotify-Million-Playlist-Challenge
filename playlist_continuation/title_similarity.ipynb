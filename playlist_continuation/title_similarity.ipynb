{
 "cells": [
  {
   "cell_type": "code",
   "execution_count": 2,
   "id": "initial_id",
   "metadata": {
    "collapsed": true,
    "ExecuteTime": {
     "end_time": "2024-05-06T21:01:41.882090600Z",
     "start_time": "2024-05-06T21:01:41.486091800Z"
    }
   },
   "outputs": [],
   "source": [
    "import pandas as pd\n",
    "import sqlite3\n",
    "import numpy as np\n",
    "from tqdm import tqdm\n",
    "import pickle\n",
    "tqdm.pandas()"
   ]
  },
  {
   "cell_type": "code",
   "outputs": [],
   "source": [
    "conn = sqlite3.connect(r'C:\\Users\\liamb\\Downloads\\spotify.db')"
   ],
   "metadata": {
    "collapsed": false,
    "ExecuteTime": {
     "end_time": "2024-05-06T21:15:37.069059700Z",
     "start_time": "2024-05-06T21:15:36.837059900Z"
    }
   },
   "id": "a85603314fd12249",
   "execution_count": 3
  },
  {
   "cell_type": "code",
   "outputs": [
    {
     "data": {
      "text/plain": "                      artist_name                             track_uri  \\\n0                     Nina Simone  spotify:track:2HDwGSgOBJD9lE3BF5JEec   \n1                     Nina Simone  spotify:track:61S0mEfdRtJ62Fc7fPqx0U   \n2                     Ray Charles  spotify:track:2xar08Fq5xra2KKZs5Bw9j   \n3                   Frank Sinatra  spotify:track:2y8Eez5cFFf2JzD546LThM   \n4                   Frank Sinatra  spotify:track:70oCQbSwh1a2iY08n3WfoD   \n...                           ...                                   ...   \n2262287      Ludwig van Beethoven  spotify:track:0j7J1eAab3ZxGssDi6zDS6   \n2262288     Johann Sebastian Bach  spotify:track:27Lw0hWfvxWhVrC5dkGI7o   \n2262289  London Conchord Ensemble  spotify:track:2w6qSS5stCN9CXZpqVJ2AH   \n2262290             Maurice Ravel  spotify:track:2yE3vqnLHCvf5kxg0DliUT   \n2262291     Johann Sebastian Bach  spotify:track:4kIKDIbcUrxd582Nr153Dv   \n\n                                                track_name  \n0                        Sinnerman - Live In New York/1965  \n1                                             Feeling Good  \n2                                         I've Got A Woman  \n3                                       Fly Me To The Moon  \n4                                              That's Life  \n...                                                    ...  \n2262287  Piano Sonata No.8 In C Minor, Op.13 - \"Patheti...  \n2262288  French Suite No. 4 in E-flat Major, BWV815: i....  \n2262289  Bach Concerto in D Minor for Two Violins, BWV ...  \n2262290  Ma mere l'oye (Mother Goose) (version for orch...  \n2262291  The Well-Tempered Clavier, Book 2, BWV 870-893...  \n\n[2262292 rows x 3 columns]",
      "text/html": "<div>\n<style scoped>\n    .dataframe tbody tr th:only-of-type {\n        vertical-align: middle;\n    }\n\n    .dataframe tbody tr th {\n        vertical-align: top;\n    }\n\n    .dataframe thead th {\n        text-align: right;\n    }\n</style>\n<table border=\"1\" class=\"dataframe\">\n  <thead>\n    <tr style=\"text-align: right;\">\n      <th></th>\n      <th>artist_name</th>\n      <th>track_uri</th>\n      <th>track_name</th>\n    </tr>\n  </thead>\n  <tbody>\n    <tr>\n      <th>0</th>\n      <td>Nina Simone</td>\n      <td>spotify:track:2HDwGSgOBJD9lE3BF5JEec</td>\n      <td>Sinnerman - Live In New York/1965</td>\n    </tr>\n    <tr>\n      <th>1</th>\n      <td>Nina Simone</td>\n      <td>spotify:track:61S0mEfdRtJ62Fc7fPqx0U</td>\n      <td>Feeling Good</td>\n    </tr>\n    <tr>\n      <th>2</th>\n      <td>Ray Charles</td>\n      <td>spotify:track:2xar08Fq5xra2KKZs5Bw9j</td>\n      <td>I've Got A Woman</td>\n    </tr>\n    <tr>\n      <th>3</th>\n      <td>Frank Sinatra</td>\n      <td>spotify:track:2y8Eez5cFFf2JzD546LThM</td>\n      <td>Fly Me To The Moon</td>\n    </tr>\n    <tr>\n      <th>4</th>\n      <td>Frank Sinatra</td>\n      <td>spotify:track:70oCQbSwh1a2iY08n3WfoD</td>\n      <td>That's Life</td>\n    </tr>\n    <tr>\n      <th>...</th>\n      <td>...</td>\n      <td>...</td>\n      <td>...</td>\n    </tr>\n    <tr>\n      <th>2262287</th>\n      <td>Ludwig van Beethoven</td>\n      <td>spotify:track:0j7J1eAab3ZxGssDi6zDS6</td>\n      <td>Piano Sonata No.8 In C Minor, Op.13 - \"Patheti...</td>\n    </tr>\n    <tr>\n      <th>2262288</th>\n      <td>Johann Sebastian Bach</td>\n      <td>spotify:track:27Lw0hWfvxWhVrC5dkGI7o</td>\n      <td>French Suite No. 4 in E-flat Major, BWV815: i....</td>\n    </tr>\n    <tr>\n      <th>2262289</th>\n      <td>London Conchord Ensemble</td>\n      <td>spotify:track:2w6qSS5stCN9CXZpqVJ2AH</td>\n      <td>Bach Concerto in D Minor for Two Violins, BWV ...</td>\n    </tr>\n    <tr>\n      <th>2262290</th>\n      <td>Maurice Ravel</td>\n      <td>spotify:track:2yE3vqnLHCvf5kxg0DliUT</td>\n      <td>Ma mere l'oye (Mother Goose) (version for orch...</td>\n    </tr>\n    <tr>\n      <th>2262291</th>\n      <td>Johann Sebastian Bach</td>\n      <td>spotify:track:4kIKDIbcUrxd582Nr153Dv</td>\n      <td>The Well-Tempered Clavier, Book 2, BWV 870-893...</td>\n    </tr>\n  </tbody>\n</table>\n<p>2262292 rows × 3 columns</p>\n</div>"
     },
     "execution_count": 4,
     "metadata": {},
     "output_type": "execute_result"
    }
   ],
   "source": [
    "sql_query = '''\n",
    "    SELECT \n",
    "        artist.artist_name,\n",
    "        track.track_uri, \n",
    "        track.track_name\n",
    "    FROM track\n",
    "    JOIN album ON track.album_uri = album.album_uri\n",
    "    JOIN artist ON album.artist_uri = artist.artist_uri\n",
    "'''\n",
    "track_df = pd.read_sql_query(sql_query, conn)\n",
    "track_df"
   ],
   "metadata": {
    "collapsed": false,
    "ExecuteTime": {
     "end_time": "2024-05-06T21:17:36.756189300Z",
     "start_time": "2024-05-06T21:15:39.978104200Z"
    }
   },
   "id": "14e9cd4ba9f73652",
   "execution_count": 4
  },
  {
   "cell_type": "code",
   "outputs": [],
   "source": [
    "with open(r\"C:\\Users\\liamb\\Documents\\Spotify-Million-Playlist-Challenge\\song_embeddings.pkl\", 'rb') as f:\n",
    "    embeddings_dict = pickle.load(f)"
   ],
   "metadata": {
    "collapsed": false,
    "ExecuteTime": {
     "end_time": "2024-05-06T21:18:18.870769700Z",
     "start_time": "2024-05-06T21:18:05.735989200Z"
    }
   },
   "id": "d9ec3de25444d864",
   "execution_count": 5
  },
  {
   "cell_type": "code",
   "outputs": [],
   "source": [
    "track_uris, embeddings = zip(*embeddings_dict.items())\n",
    "track_uris = np.array(track_uris)\n",
    "embeddings_matrix = np.stack([value for value in embeddings])\n",
    "global_average_embedding = np.mean(embeddings_matrix, axis=0)"
   ],
   "metadata": {
    "collapsed": false,
    "ExecuteTime": {
     "end_time": "2024-05-06T21:18:34.784043300Z",
     "start_time": "2024-05-06T21:18:23.421857600Z"
    }
   },
   "id": "21389dce280aa4b6",
   "execution_count": 6
  },
  {
   "cell_type": "code",
   "outputs": [],
   "source": [
    "def get_closest(artist: str, track: str, n: int):\n",
    "    print(\"Finding track uri\")\n",
    "    track_uri = track_df[(track_df[\"artist_name\"] == artist) & (track_df[\"track_name\"] == track)][\"track_uri\"].values[0]\n",
    "    print(f\"Track URI: {track_uri}\")\n",
    "    print(\"Getting track embedding\")\n",
    "    track_emb = embeddings_dict[track_uri]\n",
    "    print(\"Calculating scores\")\n",
    "    scores = np.dot(embeddings_matrix, track_emb)\n",
    "    print(\"Getting top n indices\")\n",
    "    top_n_indices = np.argpartition(scores, n)[:n]\n",
    "    print(\"Getting top n track uris\")\n",
    "    top_n_track_uris = track_uris[top_n_indices].tolist()\n",
    "    print(\"Getting top n track data using URIs\")\n",
    "    return track_df[track_df[\"track_uri\"].isin(top_n_track_uris)]"
   ],
   "metadata": {
    "collapsed": false,
    "ExecuteTime": {
     "end_time": "2024-05-06T21:24:27.780979300Z",
     "start_time": "2024-05-06T21:24:27.008459300Z"
    }
   },
   "id": "e50b14d1cc657035",
   "execution_count": 11
  },
  {
   "cell_type": "code",
   "outputs": [
    {
     "name": "stdout",
     "output_type": "stream",
     "text": [
      "Finding track uri\n",
      "Track URI: spotify:track:1vrd6UOGamcKNGnSHJQlSt\n",
      "Getting track embedding\n",
      "Calculating scores\n",
      "Getting top n indices\n",
      "Getting top n track uris\n",
      "Getting top n track data using URIs\n"
     ]
    },
    {
     "data": {
      "text/plain": "                             artist_name  \\\n28045                    Ali Farka Touré   \n137559                     Jorge Ben Jor   \n320925                    The Budos Band   \n342718                          Windhand   \n364702                     Truckfighters   \n416755                  CrossFit Junkies   \n578974                             Tesla   \n621983                        Daryl Hall   \n766818                      Kevin Gordon   \n814086                        Neal Claed   \n836082                 Mariachi Misterio   \n871924                        P.s. Eliot   \n925101                Running Red Lights   \n965375            Secret Agent 23 Skidoo   \n994532                       The Jetzons   \n1138404                       DJ Dubstep   \n1143810               The King's Singers   \n1154231                        Laid Blak   \n1156378               The Hollywood Band   \n1224393                          Bri Ray   \n1291882        Los Auténticos Decadentes   \n1332431                       Bloc Party   \n1333978                     Bluford Duck   \n1338937                    Roberta Flack   \n1416384                        Alex Kyza   \n1436963                  As Friends Rust   \n1465711                           Toners   \n1527147             Lucky Boys Confusion   \n1603403                     The Paragons   \n1692510               Condor and Jaybird   \n1698998                      David Bowie   \n1764644                       Elton John   \n1823445                       Stray Cats   \n1836731                        B.B. King   \n1894524                          Roxette   \n1921235                        The Hanks   \n1991797                     Eugène Bozza   \n2004699                     Monica Ramos   \n2022589                       Patchworks   \n2023782                             Skye   \n2024533                           CätCät   \n2029242                             JIBE   \n2051960                 Alice Phoebe Lou   \n2077312  Bow Thayer & Perfect Trainwreck   \n2094145                    Chris Farlowe   \n2094913                            Swimm   \n2149954                    Chad & Jeremy   \n2172196                     Spiritchaser   \n2198016                           Los 40   \n2201794                      Colin James   \n\n                                    track_uri  \\\n28045    spotify:track:7cavYwUJmzqjWozykoPQFg   \n137559   spotify:track:5rjSKhSHGsKP2RJtbRWQkl   \n320925   spotify:track:5zH2THXQhCQJhwXBIxkPCA   \n342718   spotify:track:3bZG5LMoqBiXDwSSi2p2VN   \n364702   spotify:track:4RB0T9OOjyDnDhyuXKUtpH   \n416755   spotify:track:7yAVdA9ELDHP3PNvGMxlka   \n578974   spotify:track:7vYqk8gXAspGFgKXPcAytg   \n621983   spotify:track:7i0Cll8Rn5at9L6eeM7LTS   \n766818   spotify:track:7mkln8h6YmUoqQSgw0zqat   \n814086   spotify:track:7mgzaZ6B86CWyQtAEzxGwN   \n836082   spotify:track:0005rgjsSeVLp1cze57jIN   \n871924   spotify:track:7v4vklIbl8ogy1cE5Zyqfe   \n925101   spotify:track:7f6UIuYeeLfpP30QAzFQc7   \n965375   spotify:track:7xWtCWe85kLb5yJnoJ4Ict   \n994532   spotify:track:7v5aM8ZsI4i9plpOmqaDNz   \n1138404  spotify:track:78gazLrKFjIGjdegXTOUSl   \n1143810  spotify:track:7zNvxEomVHTpMMTBfSDscM   \n1154231  spotify:track:7hd9K2XosQ1NkCiIdY8VYE   \n1156378  spotify:track:7yEcvnpSuF9eBvZJ9OAElF   \n1224393  spotify:track:7zMyrWPVXOupqmCB5VAETv   \n1291882  spotify:track:7grs68RkUktiace3KpuyXd   \n1332431  spotify:track:7vDftJLpZt1qsvwO2nMiUg   \n1333978  spotify:track:7yMoTuHjTe9iCT5RJMwM42   \n1338937  spotify:track:7wRDQtkjFtKjLFmP87n2lj   \n1416384  spotify:track:7xZlIpgar27oGsdCEipAmq   \n1436963  spotify:track:7t227mN0XfVKmFJ5rl3sfm   \n1465711  spotify:track:7jBsrH9JFZeanML4VxNiIX   \n1527147  spotify:track:7tEJvQrFF27L0lKoYP1GZE   \n1603403  spotify:track:7p9R0MlDMBxJJtWBRZNrh1   \n1692510  spotify:track:7x2r4mMXvbBjq7B6JjoUBt   \n1698998  spotify:track:7aRn7vlflgURkCx6qgGY3i   \n1764644  spotify:track:7vyPf3gsYnOzjPUnyFDvuz   \n1823445  spotify:track:7ySA0VXUfUpgKWadRDraGb   \n1836731  spotify:track:7uMGi9uytxI9PLAv2j6TVG   \n1894524  spotify:track:7x2CmMV7mM0zyYVZ14aQk2   \n1921235  spotify:track:7tb2OLYzT9j0vQYGaLkk9B   \n1991797  spotify:track:7t7wTSdObSImJfSveWKkgd   \n2004699  spotify:track:2HweeNVhbSRuiOFtPaaZgj   \n2022589  spotify:track:7pObrUcAMBxFkODlwUEhny   \n2023782  spotify:track:7dqFD2EwwPIgfEyH8t8DxW   \n2024533  spotify:track:7tunDuRohk4lRPQrrYlGLh   \n2029242  spotify:track:7yBGqYm5iiFpaYNHgiIuDp   \n2051960  spotify:track:7zJPfv83ZnHGjyby6fsFpj   \n2077312  spotify:track:7wmfETHJ8Jex5DDI5HQMLr   \n2094145  spotify:track:7mYKoaNObu5MA1B2qHzjwp   \n2094913  spotify:track:7lDpxfyHzGrSgZTZak801t   \n2149954  spotify:track:7onOTd6VeQBulaAkqZnskt   \n2172196  spotify:track:7FCLgybHlklem5XUTS3Kd6   \n2198016  spotify:track:7pRCaan7EUQz3XHdewrjUh   \n2201794  spotify:track:6zp8CuFUrc19a3YZ3K0IFj   \n\n                                                track_name  \n28045                                                 Ruby  \n137559                     Take It Easy My Brother Charles  \n320925                                         Black Venom  \n342718                                             Orchard  \n364702                                      Desert Cruiser  \n416755                         Ice Ice Baby (Crossfit Mix)  \n578974                                        Make It Last  \n621983                                  Why Was It So Easy  \n766818                                Walking on the Levee  \n814086                                Jack It - Radio Edit  \n836082                                     Mi Razón de Ser  \n871924                                    like how you are  \n925101                                       Mulberry Love  \n965375                                             New Day  \n994532                              I Can't Sleep at Night  \n1138404                                             Killer  \n1143810                                       Stille Nacht  \n1154231                                              Lions  \n1156378             Some Kind Of Wonderful (Dirty Dancing)  \n1224393                                  Don't Laugh At Me  \n1291882                                         Pendeviejo  \n1332431  Flux - Live From The Wumu Theater At Madison S...  \n1333978                               Bound - Original Mix  \n1338937                                 We Can Work It Out  \n1416384                Mi Titerita (feat. Young Hollywood)  \n1436963             More Than Just Music, It's A Hairstyle  \n1465711                                 Call Me the Breeze  \n1527147                                     Name in Lights  \n1603403                                I Wanna Be With You  \n1692510                                          The Power  \n1698998                                        Time - Live  \n1764644                                      Wicked Dreams  \n1823445  Something Is Wrong with My Radio - Live at Lor...  \n1836731                             A Fellow Neeeds A Girl  \n1894524                       Come Back (Before You Leave)  \n1921235                              The Wrath of Poseidon  \n1991797       Duettino for 2 Bassoons: I. Allegro moderato  \n2004699              Para Un Angelito (For a Little Angel)  \n2022589                          Deep Ocean (feat. Mr Day)  \n2023782                                      Clock To Stop  \n2024533                    Pioneer Canyon - Neumodel Remix  \n2029242                                   Yesterday's Gone  \n2051960                                                Red  \n2077312                                     Catskill Stone  \n2094145                                        Out of Time  \n2094913                                         First Time  \n2149954                                 Mr. Tambourine Man  \n2172196                These Tears - Original Instrumental  \n2198016                                Take a Chance On Me  \n2201794           Chicks 'N Cars (And The Third World War)  ",
      "text/html": "<div>\n<style scoped>\n    .dataframe tbody tr th:only-of-type {\n        vertical-align: middle;\n    }\n\n    .dataframe tbody tr th {\n        vertical-align: top;\n    }\n\n    .dataframe thead th {\n        text-align: right;\n    }\n</style>\n<table border=\"1\" class=\"dataframe\">\n  <thead>\n    <tr style=\"text-align: right;\">\n      <th></th>\n      <th>artist_name</th>\n      <th>track_uri</th>\n      <th>track_name</th>\n    </tr>\n  </thead>\n  <tbody>\n    <tr>\n      <th>28045</th>\n      <td>Ali Farka Touré</td>\n      <td>spotify:track:7cavYwUJmzqjWozykoPQFg</td>\n      <td>Ruby</td>\n    </tr>\n    <tr>\n      <th>137559</th>\n      <td>Jorge Ben Jor</td>\n      <td>spotify:track:5rjSKhSHGsKP2RJtbRWQkl</td>\n      <td>Take It Easy My Brother Charles</td>\n    </tr>\n    <tr>\n      <th>320925</th>\n      <td>The Budos Band</td>\n      <td>spotify:track:5zH2THXQhCQJhwXBIxkPCA</td>\n      <td>Black Venom</td>\n    </tr>\n    <tr>\n      <th>342718</th>\n      <td>Windhand</td>\n      <td>spotify:track:3bZG5LMoqBiXDwSSi2p2VN</td>\n      <td>Orchard</td>\n    </tr>\n    <tr>\n      <th>364702</th>\n      <td>Truckfighters</td>\n      <td>spotify:track:4RB0T9OOjyDnDhyuXKUtpH</td>\n      <td>Desert Cruiser</td>\n    </tr>\n    <tr>\n      <th>416755</th>\n      <td>CrossFit Junkies</td>\n      <td>spotify:track:7yAVdA9ELDHP3PNvGMxlka</td>\n      <td>Ice Ice Baby (Crossfit Mix)</td>\n    </tr>\n    <tr>\n      <th>578974</th>\n      <td>Tesla</td>\n      <td>spotify:track:7vYqk8gXAspGFgKXPcAytg</td>\n      <td>Make It Last</td>\n    </tr>\n    <tr>\n      <th>621983</th>\n      <td>Daryl Hall</td>\n      <td>spotify:track:7i0Cll8Rn5at9L6eeM7LTS</td>\n      <td>Why Was It So Easy</td>\n    </tr>\n    <tr>\n      <th>766818</th>\n      <td>Kevin Gordon</td>\n      <td>spotify:track:7mkln8h6YmUoqQSgw0zqat</td>\n      <td>Walking on the Levee</td>\n    </tr>\n    <tr>\n      <th>814086</th>\n      <td>Neal Claed</td>\n      <td>spotify:track:7mgzaZ6B86CWyQtAEzxGwN</td>\n      <td>Jack It - Radio Edit</td>\n    </tr>\n    <tr>\n      <th>836082</th>\n      <td>Mariachi Misterio</td>\n      <td>spotify:track:0005rgjsSeVLp1cze57jIN</td>\n      <td>Mi Razón de Ser</td>\n    </tr>\n    <tr>\n      <th>871924</th>\n      <td>P.s. Eliot</td>\n      <td>spotify:track:7v4vklIbl8ogy1cE5Zyqfe</td>\n      <td>like how you are</td>\n    </tr>\n    <tr>\n      <th>925101</th>\n      <td>Running Red Lights</td>\n      <td>spotify:track:7f6UIuYeeLfpP30QAzFQc7</td>\n      <td>Mulberry Love</td>\n    </tr>\n    <tr>\n      <th>965375</th>\n      <td>Secret Agent 23 Skidoo</td>\n      <td>spotify:track:7xWtCWe85kLb5yJnoJ4Ict</td>\n      <td>New Day</td>\n    </tr>\n    <tr>\n      <th>994532</th>\n      <td>The Jetzons</td>\n      <td>spotify:track:7v5aM8ZsI4i9plpOmqaDNz</td>\n      <td>I Can't Sleep at Night</td>\n    </tr>\n    <tr>\n      <th>1138404</th>\n      <td>DJ Dubstep</td>\n      <td>spotify:track:78gazLrKFjIGjdegXTOUSl</td>\n      <td>Killer</td>\n    </tr>\n    <tr>\n      <th>1143810</th>\n      <td>The King's Singers</td>\n      <td>spotify:track:7zNvxEomVHTpMMTBfSDscM</td>\n      <td>Stille Nacht</td>\n    </tr>\n    <tr>\n      <th>1154231</th>\n      <td>Laid Blak</td>\n      <td>spotify:track:7hd9K2XosQ1NkCiIdY8VYE</td>\n      <td>Lions</td>\n    </tr>\n    <tr>\n      <th>1156378</th>\n      <td>The Hollywood Band</td>\n      <td>spotify:track:7yEcvnpSuF9eBvZJ9OAElF</td>\n      <td>Some Kind Of Wonderful (Dirty Dancing)</td>\n    </tr>\n    <tr>\n      <th>1224393</th>\n      <td>Bri Ray</td>\n      <td>spotify:track:7zMyrWPVXOupqmCB5VAETv</td>\n      <td>Don't Laugh At Me</td>\n    </tr>\n    <tr>\n      <th>1291882</th>\n      <td>Los Auténticos Decadentes</td>\n      <td>spotify:track:7grs68RkUktiace3KpuyXd</td>\n      <td>Pendeviejo</td>\n    </tr>\n    <tr>\n      <th>1332431</th>\n      <td>Bloc Party</td>\n      <td>spotify:track:7vDftJLpZt1qsvwO2nMiUg</td>\n      <td>Flux - Live From The Wumu Theater At Madison S...</td>\n    </tr>\n    <tr>\n      <th>1333978</th>\n      <td>Bluford Duck</td>\n      <td>spotify:track:7yMoTuHjTe9iCT5RJMwM42</td>\n      <td>Bound - Original Mix</td>\n    </tr>\n    <tr>\n      <th>1338937</th>\n      <td>Roberta Flack</td>\n      <td>spotify:track:7wRDQtkjFtKjLFmP87n2lj</td>\n      <td>We Can Work It Out</td>\n    </tr>\n    <tr>\n      <th>1416384</th>\n      <td>Alex Kyza</td>\n      <td>spotify:track:7xZlIpgar27oGsdCEipAmq</td>\n      <td>Mi Titerita (feat. Young Hollywood)</td>\n    </tr>\n    <tr>\n      <th>1436963</th>\n      <td>As Friends Rust</td>\n      <td>spotify:track:7t227mN0XfVKmFJ5rl3sfm</td>\n      <td>More Than Just Music, It's A Hairstyle</td>\n    </tr>\n    <tr>\n      <th>1465711</th>\n      <td>Toners</td>\n      <td>spotify:track:7jBsrH9JFZeanML4VxNiIX</td>\n      <td>Call Me the Breeze</td>\n    </tr>\n    <tr>\n      <th>1527147</th>\n      <td>Lucky Boys Confusion</td>\n      <td>spotify:track:7tEJvQrFF27L0lKoYP1GZE</td>\n      <td>Name in Lights</td>\n    </tr>\n    <tr>\n      <th>1603403</th>\n      <td>The Paragons</td>\n      <td>spotify:track:7p9R0MlDMBxJJtWBRZNrh1</td>\n      <td>I Wanna Be With You</td>\n    </tr>\n    <tr>\n      <th>1692510</th>\n      <td>Condor and Jaybird</td>\n      <td>spotify:track:7x2r4mMXvbBjq7B6JjoUBt</td>\n      <td>The Power</td>\n    </tr>\n    <tr>\n      <th>1698998</th>\n      <td>David Bowie</td>\n      <td>spotify:track:7aRn7vlflgURkCx6qgGY3i</td>\n      <td>Time - Live</td>\n    </tr>\n    <tr>\n      <th>1764644</th>\n      <td>Elton John</td>\n      <td>spotify:track:7vyPf3gsYnOzjPUnyFDvuz</td>\n      <td>Wicked Dreams</td>\n    </tr>\n    <tr>\n      <th>1823445</th>\n      <td>Stray Cats</td>\n      <td>spotify:track:7ySA0VXUfUpgKWadRDraGb</td>\n      <td>Something Is Wrong with My Radio - Live at Lor...</td>\n    </tr>\n    <tr>\n      <th>1836731</th>\n      <td>B.B. King</td>\n      <td>spotify:track:7uMGi9uytxI9PLAv2j6TVG</td>\n      <td>A Fellow Neeeds A Girl</td>\n    </tr>\n    <tr>\n      <th>1894524</th>\n      <td>Roxette</td>\n      <td>spotify:track:7x2CmMV7mM0zyYVZ14aQk2</td>\n      <td>Come Back (Before You Leave)</td>\n    </tr>\n    <tr>\n      <th>1921235</th>\n      <td>The Hanks</td>\n      <td>spotify:track:7tb2OLYzT9j0vQYGaLkk9B</td>\n      <td>The Wrath of Poseidon</td>\n    </tr>\n    <tr>\n      <th>1991797</th>\n      <td>Eugène Bozza</td>\n      <td>spotify:track:7t7wTSdObSImJfSveWKkgd</td>\n      <td>Duettino for 2 Bassoons: I. Allegro moderato</td>\n    </tr>\n    <tr>\n      <th>2004699</th>\n      <td>Monica Ramos</td>\n      <td>spotify:track:2HweeNVhbSRuiOFtPaaZgj</td>\n      <td>Para Un Angelito (For a Little Angel)</td>\n    </tr>\n    <tr>\n      <th>2022589</th>\n      <td>Patchworks</td>\n      <td>spotify:track:7pObrUcAMBxFkODlwUEhny</td>\n      <td>Deep Ocean (feat. Mr Day)</td>\n    </tr>\n    <tr>\n      <th>2023782</th>\n      <td>Skye</td>\n      <td>spotify:track:7dqFD2EwwPIgfEyH8t8DxW</td>\n      <td>Clock To Stop</td>\n    </tr>\n    <tr>\n      <th>2024533</th>\n      <td>CätCät</td>\n      <td>spotify:track:7tunDuRohk4lRPQrrYlGLh</td>\n      <td>Pioneer Canyon - Neumodel Remix</td>\n    </tr>\n    <tr>\n      <th>2029242</th>\n      <td>JIBE</td>\n      <td>spotify:track:7yBGqYm5iiFpaYNHgiIuDp</td>\n      <td>Yesterday's Gone</td>\n    </tr>\n    <tr>\n      <th>2051960</th>\n      <td>Alice Phoebe Lou</td>\n      <td>spotify:track:7zJPfv83ZnHGjyby6fsFpj</td>\n      <td>Red</td>\n    </tr>\n    <tr>\n      <th>2077312</th>\n      <td>Bow Thayer &amp; Perfect Trainwreck</td>\n      <td>spotify:track:7wmfETHJ8Jex5DDI5HQMLr</td>\n      <td>Catskill Stone</td>\n    </tr>\n    <tr>\n      <th>2094145</th>\n      <td>Chris Farlowe</td>\n      <td>spotify:track:7mYKoaNObu5MA1B2qHzjwp</td>\n      <td>Out of Time</td>\n    </tr>\n    <tr>\n      <th>2094913</th>\n      <td>Swimm</td>\n      <td>spotify:track:7lDpxfyHzGrSgZTZak801t</td>\n      <td>First Time</td>\n    </tr>\n    <tr>\n      <th>2149954</th>\n      <td>Chad &amp; Jeremy</td>\n      <td>spotify:track:7onOTd6VeQBulaAkqZnskt</td>\n      <td>Mr. Tambourine Man</td>\n    </tr>\n    <tr>\n      <th>2172196</th>\n      <td>Spiritchaser</td>\n      <td>spotify:track:7FCLgybHlklem5XUTS3Kd6</td>\n      <td>These Tears - Original Instrumental</td>\n    </tr>\n    <tr>\n      <th>2198016</th>\n      <td>Los 40</td>\n      <td>spotify:track:7pRCaan7EUQz3XHdewrjUh</td>\n      <td>Take a Chance On Me</td>\n    </tr>\n    <tr>\n      <th>2201794</th>\n      <td>Colin James</td>\n      <td>spotify:track:6zp8CuFUrc19a3YZ3K0IFj</td>\n      <td>Chicks 'N Cars (And The Third World War)</td>\n    </tr>\n  </tbody>\n</table>\n</div>"
     },
     "execution_count": 12,
     "metadata": {},
     "output_type": "execute_result"
    }
   ],
   "source": [
    "get_closest(\"Taylor Swift\", \"Love Story\", 50)"
   ],
   "metadata": {
    "collapsed": false,
    "ExecuteTime": {
     "end_time": "2024-05-06T21:24:33.876670100Z",
     "start_time": "2024-05-06T21:24:32.849111100Z"
    }
   },
   "id": "6c743edd51a322d5",
   "execution_count": 12
  },
  {
   "cell_type": "code",
   "execution_count": 13,
   "outputs": [
    {
     "ename": "KeyboardInterrupt",
     "evalue": "",
     "output_type": "error",
     "traceback": [
      "\u001B[1;31m---------------------------------------------------------------------------\u001B[0m",
      "\u001B[1;31mKeyboardInterrupt\u001B[0m                         Traceback (most recent call last)",
      "Cell \u001B[1;32mIn [13], line 17\u001B[0m\n\u001B[0;32m      3\u001B[0m \u001B[38;5;28;01mfrom\u001B[39;00m \u001B[38;5;21;01mgensim\u001B[39;00m\u001B[38;5;21;01m.\u001B[39;00m\u001B[38;5;21;01mmodels\u001B[39;00m \u001B[38;5;28;01mimport\u001B[39;00m Word2Vec\n\u001B[0;32m      5\u001B[0m query \u001B[38;5;241m=\u001B[39m \u001B[38;5;124m'''\u001B[39m\n\u001B[0;32m      6\u001B[0m \u001B[38;5;124mSELECT PT.pid, PT.track_uri, PT.pos\u001B[39m\n\u001B[0;32m      7\u001B[0m \u001B[38;5;124mFROM playlist_track PT\u001B[39m\n\u001B[1;32m   (...)\u001B[0m\n\u001B[0;32m     14\u001B[0m \u001B[38;5;124mWHERE pid < 1000000\u001B[39m\n\u001B[0;32m     15\u001B[0m \u001B[38;5;124m'''\u001B[39m\n\u001B[1;32m---> 17\u001B[0m playlist_tracks \u001B[38;5;241m=\u001B[39m \u001B[43mpd\u001B[49m\u001B[38;5;241;43m.\u001B[39;49m\u001B[43mread_sql_query\u001B[49m\u001B[43m(\u001B[49m\u001B[43mquery\u001B[49m\u001B[43m,\u001B[49m\u001B[43m \u001B[49m\u001B[43mconn\u001B[49m\u001B[43m)\u001B[49m\n\u001B[0;32m     19\u001B[0m playlists \u001B[38;5;241m=\u001B[39m playlist_tracks\u001B[38;5;241m.\u001B[39mgroupby(\u001B[38;5;124m'\u001B[39m\u001B[38;5;124mpid\u001B[39m\u001B[38;5;124m'\u001B[39m)[\u001B[38;5;124m'\u001B[39m\u001B[38;5;124mtrack_uri\u001B[39m\u001B[38;5;124m'\u001B[39m]\u001B[38;5;241m.\u001B[39mapply(\u001B[38;5;28mlist\u001B[39m)\u001B[38;5;241m.\u001B[39mtolist()\n\u001B[0;32m     21\u001B[0m model \u001B[38;5;241m=\u001B[39m Word2Vec(sentences\u001B[38;5;241m=\u001B[39mplaylists, vector_size\u001B[38;5;241m=\u001B[39m\u001B[38;5;241m100\u001B[39m, window\u001B[38;5;241m=\u001B[39m\u001B[38;5;241m5\u001B[39m, min_count\u001B[38;5;241m=\u001B[39m\u001B[38;5;241m1\u001B[39m, sg\u001B[38;5;241m=\u001B[39m\u001B[38;5;241m1\u001B[39m)\n",
      "File \u001B[1;32m~\\Documents\\graph4stackoverflow\\venv\\lib\\site-packages\\pandas\\io\\sql.py:397\u001B[0m, in \u001B[0;36mread_sql_query\u001B[1;34m(sql, con, index_col, coerce_float, params, parse_dates, chunksize, dtype)\u001B[0m\n\u001B[0;32m    339\u001B[0m \u001B[38;5;124;03m\"\"\"\u001B[39;00m\n\u001B[0;32m    340\u001B[0m \u001B[38;5;124;03mRead SQL query into a DataFrame.\u001B[39;00m\n\u001B[0;32m    341\u001B[0m \n\u001B[1;32m   (...)\u001B[0m\n\u001B[0;32m    394\u001B[0m \u001B[38;5;124;03mparameter will be converted to UTC.\u001B[39;00m\n\u001B[0;32m    395\u001B[0m \u001B[38;5;124;03m\"\"\"\u001B[39;00m\n\u001B[0;32m    396\u001B[0m pandas_sql \u001B[38;5;241m=\u001B[39m pandasSQL_builder(con)\n\u001B[1;32m--> 397\u001B[0m \u001B[38;5;28;01mreturn\u001B[39;00m \u001B[43mpandas_sql\u001B[49m\u001B[38;5;241;43m.\u001B[39;49m\u001B[43mread_query\u001B[49m\u001B[43m(\u001B[49m\n\u001B[0;32m    398\u001B[0m \u001B[43m    \u001B[49m\u001B[43msql\u001B[49m\u001B[43m,\u001B[49m\n\u001B[0;32m    399\u001B[0m \u001B[43m    \u001B[49m\u001B[43mindex_col\u001B[49m\u001B[38;5;241;43m=\u001B[39;49m\u001B[43mindex_col\u001B[49m\u001B[43m,\u001B[49m\n\u001B[0;32m    400\u001B[0m \u001B[43m    \u001B[49m\u001B[43mparams\u001B[49m\u001B[38;5;241;43m=\u001B[39;49m\u001B[43mparams\u001B[49m\u001B[43m,\u001B[49m\n\u001B[0;32m    401\u001B[0m \u001B[43m    \u001B[49m\u001B[43mcoerce_float\u001B[49m\u001B[38;5;241;43m=\u001B[39;49m\u001B[43mcoerce_float\u001B[49m\u001B[43m,\u001B[49m\n\u001B[0;32m    402\u001B[0m \u001B[43m    \u001B[49m\u001B[43mparse_dates\u001B[49m\u001B[38;5;241;43m=\u001B[39;49m\u001B[43mparse_dates\u001B[49m\u001B[43m,\u001B[49m\n\u001B[0;32m    403\u001B[0m \u001B[43m    \u001B[49m\u001B[43mchunksize\u001B[49m\u001B[38;5;241;43m=\u001B[39;49m\u001B[43mchunksize\u001B[49m\u001B[43m,\u001B[49m\n\u001B[0;32m    404\u001B[0m \u001B[43m    \u001B[49m\u001B[43mdtype\u001B[49m\u001B[38;5;241;43m=\u001B[39;49m\u001B[43mdtype\u001B[49m\u001B[43m,\u001B[49m\n\u001B[0;32m    405\u001B[0m \u001B[43m\u001B[49m\u001B[43m)\u001B[49m\n",
      "File \u001B[1;32m~\\Documents\\graph4stackoverflow\\venv\\lib\\site-packages\\pandas\\io\\sql.py:2078\u001B[0m, in \u001B[0;36mSQLiteDatabase.read_query\u001B[1;34m(self, sql, index_col, coerce_float, params, parse_dates, chunksize, dtype)\u001B[0m\n\u001B[0;32m   2066\u001B[0m \u001B[38;5;28;01mdef\u001B[39;00m \u001B[38;5;21mread_query\u001B[39m(\n\u001B[0;32m   2067\u001B[0m     \u001B[38;5;28mself\u001B[39m,\n\u001B[0;32m   2068\u001B[0m     sql,\n\u001B[1;32m   (...)\u001B[0m\n\u001B[0;32m   2074\u001B[0m     dtype: DtypeArg \u001B[38;5;241m|\u001B[39m \u001B[38;5;28;01mNone\u001B[39;00m \u001B[38;5;241m=\u001B[39m \u001B[38;5;28;01mNone\u001B[39;00m,\n\u001B[0;32m   2075\u001B[0m ) \u001B[38;5;241m-\u001B[39m\u001B[38;5;241m>\u001B[39m DataFrame \u001B[38;5;241m|\u001B[39m Iterator[DataFrame]:\n\u001B[0;32m   2077\u001B[0m     args \u001B[38;5;241m=\u001B[39m _convert_params(sql, params)\n\u001B[1;32m-> 2078\u001B[0m     cursor \u001B[38;5;241m=\u001B[39m \u001B[38;5;28;43mself\u001B[39;49m\u001B[38;5;241;43m.\u001B[39;49m\u001B[43mexecute\u001B[49m\u001B[43m(\u001B[49m\u001B[38;5;241;43m*\u001B[39;49m\u001B[43margs\u001B[49m\u001B[43m)\u001B[49m\n\u001B[0;32m   2079\u001B[0m     columns \u001B[38;5;241m=\u001B[39m [col_desc[\u001B[38;5;241m0\u001B[39m] \u001B[38;5;28;01mfor\u001B[39;00m col_desc \u001B[38;5;129;01min\u001B[39;00m cursor\u001B[38;5;241m.\u001B[39mdescription]\n\u001B[0;32m   2081\u001B[0m     \u001B[38;5;28;01mif\u001B[39;00m chunksize \u001B[38;5;129;01mis\u001B[39;00m \u001B[38;5;129;01mnot\u001B[39;00m \u001B[38;5;28;01mNone\u001B[39;00m:\n",
      "File \u001B[1;32m~\\Documents\\graph4stackoverflow\\venv\\lib\\site-packages\\pandas\\io\\sql.py:2018\u001B[0m, in \u001B[0;36mSQLiteDatabase.execute\u001B[1;34m(self, *args, **kwargs)\u001B[0m\n\u001B[0;32m   2016\u001B[0m cur \u001B[38;5;241m=\u001B[39m \u001B[38;5;28mself\u001B[39m\u001B[38;5;241m.\u001B[39mcon\u001B[38;5;241m.\u001B[39mcursor()\n\u001B[0;32m   2017\u001B[0m \u001B[38;5;28;01mtry\u001B[39;00m:\n\u001B[1;32m-> 2018\u001B[0m     \u001B[43mcur\u001B[49m\u001B[38;5;241;43m.\u001B[39;49m\u001B[43mexecute\u001B[49m\u001B[43m(\u001B[49m\u001B[38;5;241;43m*\u001B[39;49m\u001B[43margs\u001B[49m\u001B[43m,\u001B[49m\u001B[43m \u001B[49m\u001B[38;5;241;43m*\u001B[39;49m\u001B[38;5;241;43m*\u001B[39;49m\u001B[43mkwargs\u001B[49m\u001B[43m)\u001B[49m\n\u001B[0;32m   2019\u001B[0m     \u001B[38;5;28;01mreturn\u001B[39;00m cur\n\u001B[0;32m   2020\u001B[0m \u001B[38;5;28;01mexcept\u001B[39;00m \u001B[38;5;167;01mException\u001B[39;00m \u001B[38;5;28;01mas\u001B[39;00m exc:\n",
      "\u001B[1;31mKeyboardInterrupt\u001B[0m: "
     ]
    }
   ],
   "source": [
    "import sqlite3\n",
    "import pandas as pd\n",
    "from gensim.models import Word2Vec\n",
    "\n",
    "query = '''\n",
    "SELECT PT.pid, PT.track_uri, PT.pos\n",
    "FROM playlist_track PT\n",
    "INNER JOIN (\n",
    "SELECT track_uri\n",
    "FROM playlist_track\n",
    "GROUP BY track_uri\n",
    "HAVING COUNT(pid) > 1000\n",
    ") AS PT2 ON PT.track_uri = PT2.track_uri\n",
    "WHERE pid < 1000000\n",
    "'''\n",
    "playlist_tracks = pd.read_sql_query(query, conn)\n",
    "playlists = playlist_tracks.groupby('pid')['track_uri'].apply(list).tolist()"
   ],
   "metadata": {
    "collapsed": false,
    "ExecuteTime": {
     "end_time": "2024-05-06T21:37:30.632776300Z",
     "start_time": "2024-05-06T21:32:57.686173800Z"
    }
   },
   "id": "9cac0788ba2e2ada"
  },
  {
   "cell_type": "code",
   "execution_count": null,
   "outputs": [],
   "source": [
    "model = Word2Vec(sentences=playlists, vector_size=100, window=5, min_count=1, sg=1)\n",
    "track_embeddings = {track_uri: model.wv[track_uri] for track_uri in playlist_tracks['track_uri'].unique()}"
   ],
   "metadata": {
    "collapsed": false
   },
   "id": "e37744d74aee9178"
  },
  {
   "cell_type": "code",
   "execution_count": null,
   "outputs": [],
   "source": [
    "track_uris, embeddings = zip(*track_embeddings.items())\n",
    "track_uris = np.array(track_uris)\n",
    "embeddings_matrix = np.stack([value for value in embeddings])\n",
    "global_average_embedding = np.mean(embeddings_matrix, axis=0)"
   ],
   "metadata": {
    "collapsed": false
   },
   "id": "fa8a017820d1749b"
  },
  {
   "cell_type": "code",
   "execution_count": null,
   "outputs": [],
   "source": [
    "def get_closest(artist: str, track: str, n: int):\n",
    "    print(\"Finding track uri\")\n",
    "    track_uri = track_df[(track_df[\"artist_name\"] == artist) & (track_df[\"track_name\"] == track)][\"track_uri\"].values[0]\n",
    "    print(f\"Track URI: {track_uri}\")\n",
    "    print(\"Getting track embedding\")\n",
    "    track_emb = track_embeddings[track_uri]\n",
    "    print(\"Calculating scores\")\n",
    "    scores = np.dot(embeddings_matrix, track_emb)\n",
    "    print(\"Getting top n indices\")\n",
    "    top_n_indices = np.argpartition(scores, n)[:n]\n",
    "    print(\"Getting top n track uris\")\n",
    "    top_n_track_uris = track_uris[top_n_indices].tolist()\n",
    "    print(\"Getting top n track data using URIs\")\n",
    "    return track_df[track_df[\"track_uri\"].isin(top_n_track_uris)]\n",
    "\n",
    "get_closest(\"Taylor Swift\", \"Love Story\", 50)"
   ],
   "metadata": {
    "collapsed": false
   },
   "id": "77954e25ef1fe47d"
  },
  {
   "cell_type": "code",
   "outputs": [
    {
     "data": {
      "text/plain": "           pid     playlist_name  num_tracks\n0            0        Throwbacks          52\n1            1  Awesome Playlist          39\n2            2           korean           64\n3            3               mat         126\n4            4               90s          17\n...        ...               ...         ...\n999995  999995            Praise          32\n999996  999996           Worship         122\n999997  999997               Sex          24\n999998  999998                ✝️          11\n999999  999999             BANDA         110\n\n[1000000 rows x 3 columns]",
      "text/html": "<div>\n<style scoped>\n    .dataframe tbody tr th:only-of-type {\n        vertical-align: middle;\n    }\n\n    .dataframe tbody tr th {\n        vertical-align: top;\n    }\n\n    .dataframe thead th {\n        text-align: right;\n    }\n</style>\n<table border=\"1\" class=\"dataframe\">\n  <thead>\n    <tr style=\"text-align: right;\">\n      <th></th>\n      <th>pid</th>\n      <th>playlist_name</th>\n      <th>num_tracks</th>\n    </tr>\n  </thead>\n  <tbody>\n    <tr>\n      <th>0</th>\n      <td>0</td>\n      <td>Throwbacks</td>\n      <td>52</td>\n    </tr>\n    <tr>\n      <th>1</th>\n      <td>1</td>\n      <td>Awesome Playlist</td>\n      <td>39</td>\n    </tr>\n    <tr>\n      <th>2</th>\n      <td>2</td>\n      <td>korean</td>\n      <td>64</td>\n    </tr>\n    <tr>\n      <th>3</th>\n      <td>3</td>\n      <td>mat</td>\n      <td>126</td>\n    </tr>\n    <tr>\n      <th>4</th>\n      <td>4</td>\n      <td>90s</td>\n      <td>17</td>\n    </tr>\n    <tr>\n      <th>...</th>\n      <td>...</td>\n      <td>...</td>\n      <td>...</td>\n    </tr>\n    <tr>\n      <th>999995</th>\n      <td>999995</td>\n      <td>Praise</td>\n      <td>32</td>\n    </tr>\n    <tr>\n      <th>999996</th>\n      <td>999996</td>\n      <td>Worship</td>\n      <td>122</td>\n    </tr>\n    <tr>\n      <th>999997</th>\n      <td>999997</td>\n      <td>Sex</td>\n      <td>24</td>\n    </tr>\n    <tr>\n      <th>999998</th>\n      <td>999998</td>\n      <td>✝️</td>\n      <td>11</td>\n    </tr>\n    <tr>\n      <th>999999</th>\n      <td>999999</td>\n      <td>BANDA</td>\n      <td>110</td>\n    </tr>\n  </tbody>\n</table>\n<p>1000000 rows × 3 columns</p>\n</div>"
     },
     "execution_count": 3,
     "metadata": {},
     "output_type": "execute_result"
    }
   ],
   "source": [
    "sql_query = '''\n",
    "    SELECT \n",
    "        playlist.pid, \n",
    "        playlist.playlist_name,\n",
    "        playlist.num_tracks \n",
    "    FROM playlist\n",
    "'''\n",
    "df = pd.read_sql_query(sql_query, conn)\n",
    "df"
   ],
   "metadata": {
    "collapsed": false,
    "ExecuteTime": {
     "end_time": "2024-05-06T20:18:46.889490Z",
     "start_time": "2024-05-06T20:18:45.024618Z"
    }
   },
   "id": "a0bef4393de294e1",
   "execution_count": 3
  },
  {
   "cell_type": "code",
   "outputs": [],
   "source": [
    "nlp = spacy.load('en_core_web_lg')\n",
    "\n",
    "def word2vec(word: str):\n",
    "    return nlp(word).vector"
   ],
   "metadata": {
    "collapsed": false,
    "ExecuteTime": {
     "end_time": "2024-05-06T20:18:50.216176Z",
     "start_time": "2024-05-06T20:18:46.892448Z"
    }
   },
   "id": "539c45b546e14264",
   "execution_count": 4
  },
  {
   "cell_type": "code",
   "outputs": [],
   "source": [
    "# convert the name of the playlist into an embedding\n",
    "def name_to_vec(name: str):\n",
    "    return np.mean([word2vec(word) for word in name.split()], axis=0)"
   ],
   "metadata": {
    "collapsed": false,
    "ExecuteTime": {
     "end_time": "2024-05-06T20:18:50.232157Z",
     "start_time": "2024-05-06T20:18:50.217175Z"
    }
   },
   "id": "302b9f739b843dd8",
   "execution_count": 5
  },
  {
   "cell_type": "code",
   "outputs": [
    {
     "data": {
      "text/plain": "994587"
     },
     "execution_count": 6,
     "metadata": {},
     "output_type": "execute_result"
    }
   ],
   "source": [
    "df = df[df[\"num_tracks\"] > 5]\n",
    "len(df)"
   ],
   "metadata": {
    "collapsed": false,
    "ExecuteTime": {
     "end_time": "2024-05-06T20:18:50.295094Z",
     "start_time": "2024-05-06T20:18:50.234157Z"
    }
   },
   "id": "b49f1347a7398d8",
   "execution_count": 6
  },
  {
   "cell_type": "code",
   "outputs": [],
   "source": [
    "df = df.sample(10_000)"
   ],
   "metadata": {
    "collapsed": false,
    "ExecuteTime": {
     "end_time": "2024-05-06T20:18:50.358029Z",
     "start_time": "2024-05-06T20:18:50.296092Z"
    }
   },
   "id": "9dc39608ff0df444",
   "execution_count": 7
  },
  {
   "cell_type": "code",
   "outputs": [
    {
     "name": "stderr",
     "output_type": "stream",
     "text": [
      "100%|██████████| 10000/10000 [01:15<00:00, 133.01it/s]\n"
     ]
    }
   ],
   "source": [
    "df[\"emb\"] = df[\"playlist_name\"].progress_apply(name_to_vec)"
   ],
   "metadata": {
    "collapsed": false,
    "ExecuteTime": {
     "end_time": "2024-05-06T20:20:05.564449Z",
     "start_time": "2024-05-06T20:18:50.359029Z"
    }
   },
   "id": "ad0e881897ac503d",
   "execution_count": 8
  },
  {
   "cell_type": "code",
   "outputs": [
    {
     "data": {
      "text/plain": "           pid                 playlist_name  num_tracks  \\\n995463  995463                  Classic Rock         174   \n566390  566390  Sweat like the Pros Playlist          31   \n584832  584832                       Freedom          16   \n367739  367739                         alexa          57   \n40116    40116                        Te Amo         114   \n...        ...                           ...         ...   \n201185  201185                    background          25   \n833628  833628                      My Songs         204   \n783545  783545                          Love          33   \n596550  596550                    My Country          19   \n654579  654579                     road trip          22   \n\n                                                      emb  \n995463  [-2.41615, -2.206575, 3.4168, -0.4584, 4.15445...  \n566390  [-0.92302406, -0.7314321, -0.06482003, 0.73863...  \n584832  [0.23445, -1.5379, -0.79468, 2.3486, 4.5527, -...  \n367739  [1.5555, 1.3354, -0.8374, 0.63024, -2.3189, 0....  \n40116   [-0.177225, 3.1457, 4.102245, -5.8094997, -3.2...  \n...                                                   ...  \n201185  [-0.65939, -1.4118, -2.5557, 0.61374, 1.7389, ...  \n833628  [2.31425, -0.36640006, -5.976115, -4.87505, 3....  \n783545  [-0.83787, -1.9779, 1.3557, -1.231, 3.4842, -3...  \n596550  [3.691945, 1.078375, -4.4241, -4.7962503, 4.36...  \n654579  [-2.22484, 6.9686003, -1.1052499, -5.8142996, ...  \n\n[10000 rows x 4 columns]",
      "text/html": "<div>\n<style scoped>\n    .dataframe tbody tr th:only-of-type {\n        vertical-align: middle;\n    }\n\n    .dataframe tbody tr th {\n        vertical-align: top;\n    }\n\n    .dataframe thead th {\n        text-align: right;\n    }\n</style>\n<table border=\"1\" class=\"dataframe\">\n  <thead>\n    <tr style=\"text-align: right;\">\n      <th></th>\n      <th>pid</th>\n      <th>playlist_name</th>\n      <th>num_tracks</th>\n      <th>emb</th>\n    </tr>\n  </thead>\n  <tbody>\n    <tr>\n      <th>995463</th>\n      <td>995463</td>\n      <td>Classic Rock</td>\n      <td>174</td>\n      <td>[-2.41615, -2.206575, 3.4168, -0.4584, 4.15445...</td>\n    </tr>\n    <tr>\n      <th>566390</th>\n      <td>566390</td>\n      <td>Sweat like the Pros Playlist</td>\n      <td>31</td>\n      <td>[-0.92302406, -0.7314321, -0.06482003, 0.73863...</td>\n    </tr>\n    <tr>\n      <th>584832</th>\n      <td>584832</td>\n      <td>Freedom</td>\n      <td>16</td>\n      <td>[0.23445, -1.5379, -0.79468, 2.3486, 4.5527, -...</td>\n    </tr>\n    <tr>\n      <th>367739</th>\n      <td>367739</td>\n      <td>alexa</td>\n      <td>57</td>\n      <td>[1.5555, 1.3354, -0.8374, 0.63024, -2.3189, 0....</td>\n    </tr>\n    <tr>\n      <th>40116</th>\n      <td>40116</td>\n      <td>Te Amo</td>\n      <td>114</td>\n      <td>[-0.177225, 3.1457, 4.102245, -5.8094997, -3.2...</td>\n    </tr>\n    <tr>\n      <th>...</th>\n      <td>...</td>\n      <td>...</td>\n      <td>...</td>\n      <td>...</td>\n    </tr>\n    <tr>\n      <th>201185</th>\n      <td>201185</td>\n      <td>background</td>\n      <td>25</td>\n      <td>[-0.65939, -1.4118, -2.5557, 0.61374, 1.7389, ...</td>\n    </tr>\n    <tr>\n      <th>833628</th>\n      <td>833628</td>\n      <td>My Songs</td>\n      <td>204</td>\n      <td>[2.31425, -0.36640006, -5.976115, -4.87505, 3....</td>\n    </tr>\n    <tr>\n      <th>783545</th>\n      <td>783545</td>\n      <td>Love</td>\n      <td>33</td>\n      <td>[-0.83787, -1.9779, 1.3557, -1.231, 3.4842, -3...</td>\n    </tr>\n    <tr>\n      <th>596550</th>\n      <td>596550</td>\n      <td>My Country</td>\n      <td>19</td>\n      <td>[3.691945, 1.078375, -4.4241, -4.7962503, 4.36...</td>\n    </tr>\n    <tr>\n      <th>654579</th>\n      <td>654579</td>\n      <td>road trip</td>\n      <td>22</td>\n      <td>[-2.22484, 6.9686003, -1.1052499, -5.8142996, ...</td>\n    </tr>\n  </tbody>\n</table>\n<p>10000 rows × 4 columns</p>\n</div>"
     },
     "execution_count": 9,
     "metadata": {},
     "output_type": "execute_result"
    }
   ],
   "source": [
    "df"
   ],
   "metadata": {
    "collapsed": false,
    "ExecuteTime": {
     "end_time": "2024-05-06T20:20:05.595473Z",
     "start_time": "2024-05-06T20:20:05.565443Z"
    }
   },
   "id": "5b1097cc369c53dd",
   "execution_count": 9
  },
  {
   "cell_type": "code",
   "outputs": [
    {
     "name": "stderr",
     "output_type": "stream",
     "text": [
      "100%|██████████| 10000/10000 [01:14<00:00, 134.63it/s]\n"
     ]
    }
   ],
   "source": [
    "embeddings = df[\"playlist_name\"].progress_apply(name_to_vec)"
   ],
   "metadata": {
    "collapsed": false,
    "ExecuteTime": {
     "end_time": "2024-05-06T20:23:41.467121Z",
     "start_time": "2024-05-06T20:22:27.165677Z"
    }
   },
   "id": "b27d9f3eb3e7bf3f",
   "execution_count": 11
  },
  {
   "cell_type": "code",
   "outputs": [],
   "source": [
    "embeddings.numpy()"
   ],
   "metadata": {
    "collapsed": false,
    "ExecuteTime": {
     "end_time": "2024-05-06T20:29:01.304598Z",
     "start_time": "2024-05-06T20:29:01.272630Z"
    }
   },
   "id": "1a839412e115b818",
   "execution_count": null
  },
  {
   "cell_type": "code",
   "outputs": [
    {
     "data": {
      "text/plain": "pid                                                         479230\nplaylist_name                                                greys\nnum_tracks                                                      12\nemb              [-1.7195, 1.4451, -2.6019, 0.23826, -1.6756, -...\nName: 479230, dtype: object"
     },
     "execution_count": 10,
     "metadata": {},
     "output_type": "execute_result"
    }
   ],
   "source": [
    "df.iloc[100]"
   ],
   "metadata": {
    "collapsed": false,
    "ExecuteTime": {
     "end_time": "2024-05-06T20:20:05.611453Z",
     "start_time": "2024-05-06T20:20:05.597453Z"
    }
   },
   "id": "cc3e80aef516abb7",
   "execution_count": 10
  },
  {
   "cell_type": "code",
   "outputs": [],
   "source": [],
   "metadata": {
    "collapsed": false,
    "ExecuteTime": {
     "end_time": "2024-05-06T20:20:05.627424Z",
     "start_time": "2024-05-06T20:20:05.613437Z"
    }
   },
   "id": "d00bb7deb82d1842",
   "execution_count": 10
  }
 ],
 "metadata": {
  "kernelspec": {
   "display_name": "Python 3",
   "language": "python",
   "name": "python3"
  },
  "language_info": {
   "codemirror_mode": {
    "name": "ipython",
    "version": 2
   },
   "file_extension": ".py",
   "mimetype": "text/x-python",
   "name": "python",
   "nbconvert_exporter": "python",
   "pygments_lexer": "ipython2",
   "version": "2.7.6"
  }
 },
 "nbformat": 4,
 "nbformat_minor": 5
}
