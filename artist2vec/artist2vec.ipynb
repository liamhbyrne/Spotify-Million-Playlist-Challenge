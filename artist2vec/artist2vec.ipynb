{
 "cells": [
  {
   "cell_type": "code",
   "execution_count": null,
   "metadata": {},
   "outputs": [],
   "source": [
    "import sqlite3\n",
    "\n",
    "conn = sqlite3.connect('../data_storage/spotify.db')\n",
    "\n",
    "sql_query = '''\n",
    "    SELECT playlist_track.pid, artist.artist_uri, artist.artist_name\n",
    "    FROM playlist_track\n",
    "    JOIN track ON playlist_track.track_uri = track.track_uri\n",
    "    JOIN album ON track.album_uri = album.album_uri\n",
    "    JOIN artist ON album.artist_uri = artist.artist_uri\n",
    "'''\n",
    "\n",
    "\n",
    "cursor = conn.execute(sql_query)\n",
    "\n",
    "playlist_artists = {}\n",
    "\n",
    "for row in cursor:\n",
    "    playlist_id = row[0]\n",
    "    artist_uri = row[1]\n",
    "    artist_name = row[2]\n",
    "    \n",
    "    if playlist_id not in playlist_artists:\n",
    "        playlist_artists[playlist_id] = []\n",
    "    playlist_artists[playlist_id].append((artist_uri, artist_name))\n",
    "\n",
    "conn.close()\n"
   ]
  },
  {
   "cell_type": "code",
   "execution_count": null,
   "metadata": {},
   "outputs": [],
   "source": [
    "for playlist_id, artists in list(playlist_artists.items())[:10]:\n",
    "    print(f\"Playlist ID: {playlist_id}\")\n",
    "    for artist in artists:\n",
    "        print(artist)\n",
    "    "
   ]
  },
  {
   "cell_type": "code",
   "execution_count": null,
   "metadata": {},
   "outputs": [],
   "source": [
    "artist_dict = {}\n",
    "\n",
    "for playlist_id, artists in list(playlist_artists.items()):\n",
    "    # print(f\"Playlist ID: {playlist_id}\")\n",
    "    for artist in artists:\n",
    "        uri = artist[0]\n",
    "        name = artist[1]\n",
    "        artist_dict[uri] = name \n"
   ]
  },
  {
   "cell_type": "markdown",
   "metadata": {},
   "source": [
    "Word2Vec"
   ]
  },
  {
   "cell_type": "code",
   "execution_count": null,
   "metadata": {},
   "outputs": [],
   "source": [
    "from gensim.models import Word2Vec\n",
    "\n",
    "vector_size = 200\n",
    "window = 5\n",
    "min_count = 1\n",
    "sg = 1  \n",
    "\n",
    "# Extract artist URIs from playlist_artists.values()\n",
    "artist_uris = [[artist_uri for artist_uri, _ in artists] for artists in playlist_artists.values()]\n",
    "\n",
    "# Create Word2Vec model using only artist URIs\n",
    "model = Word2Vec(sentences=artist_uris, vector_size=vector_size, window=window, min_count=min_count, sg=sg)\n"
   ]
  },
  {
   "cell_type": "code",
   "execution_count": null,
   "metadata": {},
   "outputs": [],
   "source": [
    "import matplotlib.pyplot as plt\n",
    "from sklearn.manifold import TSNE\n",
    "import numpy as np\n",
    "\n",
    "# Assuming model.wv and artist_dict are already defined as in your previous snippet\n",
    "embeddings = [model.wv[artist_key] for artist_key in model.wv.index_to_key]\n",
    "embedding_array = np.array(embeddings)\n",
    "tsne = TSNE(n_components=2, random_state=42)\n",
    "embedded_artists = tsne.fit_transform(embedding_array)\n",
    "\n",
    "# Plot the t-SNE visualization\n",
    "plt.figure(figsize=(200, 200))\n",
    "plt.scatter(embedded_artists[:, 0], embedded_artists[:, 1], alpha=0.5)\n",
    "\n",
    "# Label points with artist names, escaping special characters\n",
    "for i, artist_uri in enumerate(model.wv.index_to_key):\n",
    "    artist_name = artist_dict.get(artist_uri, \"Unknown Artist\").replace(\"$\", \"\\$\")\n",
    "    plt.text(embedded_artists[i, 0], embedded_artists[i, 1], artist_name, fontsize=10)\n",
    "\n",
    "plt.title('t-SNE Visualization of Artist Embeddings')\n",
    "plt.xlabel('Dimension 1')\n",
    "plt.ylabel('Dimension 2')\n",
    "plt.show()\n",
    "\n",
    "\n",
    "\n"
   ]
  },
  {
   "cell_type": "markdown",
   "metadata": {},
   "source": [
    "As an alternative could use autoencoders "
   ]
  }
 ],
 "metadata": {
  "kernelspec": {
   "display_name": "base",
   "language": "python",
   "name": "python3"
  },
  "language_info": {
   "codemirror_mode": {
    "name": "ipython",
    "version": 3
   },
   "file_extension": ".py",
   "mimetype": "text/x-python",
   "name": "python",
   "nbconvert_exporter": "python",
   "pygments_lexer": "ipython3",
   "version": "3.10.13"
  }
 },
 "nbformat": 4,
 "nbformat_minor": 2
}
