{
 "cells": [
  {
   "cell_type": "code",
   "execution_count": 6,
   "id": "initial_id",
   "metadata": {
    "collapsed": true,
    "ExecuteTime": {
     "end_time": "2024-05-07T13:15:33.499560Z",
     "start_time": "2024-05-07T13:15:33.483576Z"
    }
   },
   "outputs": [],
   "source": [
    "import numpy as np\n",
    "from tqdm import tqdm\n",
    "import pickle\n",
    "import sqlite3\n",
    "import pandas as pd\n",
    "from gensim.models import Word2Vec\n",
    "import polars as pl\n",
    "import difflib"
   ]
  },
  {
   "cell_type": "code",
   "outputs": [],
   "source": [
    "model = Word2Vec.load(r\"C:\\Users\\Sam\\Spotify-Million-Playlist-Challenge\\word2vec.model\")"
   ],
   "metadata": {
    "collapsed": false,
    "ExecuteTime": {
     "end_time": "2024-05-07T09:01:53.311662Z",
     "start_time": "2024-05-07T09:01:51.899100Z"
    }
   },
   "id": "96ad65dc09cfde7f",
   "execution_count": 14
  },
  {
   "cell_type": "code",
   "outputs": [],
   "source": [
    "conn = sqlite3.connect(r'C:\\Users\\Sam\\spotify\\spotify.db')"
   ],
   "metadata": {
    "collapsed": false,
    "ExecuteTime": {
     "end_time": "2024-05-07T13:12:36.124164Z",
     "start_time": "2024-05-07T13:12:36.103185Z"
    }
   },
   "id": "37c379b22e93359b",
   "execution_count": 2
  },
  {
   "cell_type": "code",
   "outputs": [],
   "source": [
    "query = f\"\"\"\n",
    "    SELECT playlist.pid, playlist.playlist_name\n",
    "    FROM playlist\n",
    "    LIMIT 100000\n",
    "    \"\"\"\n",
    "playlist_df = pl.read_database(query, conn)"
   ],
   "metadata": {
    "collapsed": false,
    "ExecuteTime": {
     "end_time": "2024-05-07T13:17:02.452014Z",
     "start_time": "2024-05-07T13:17:02.107367Z"
    }
   },
   "id": "ec6343332dabed89",
   "execution_count": 17
  },
  {
   "cell_type": "code",
   "outputs": [
    {
     "data": {
      "text/plain": "shape: (1_000, 2)\n┌─────┬──────────────────┐\n│ pid ┆ playlist_name    │\n│ --- ┆ ---              │\n│ i64 ┆ str              │\n╞═════╪══════════════════╡\n│ 0   ┆ Throwbacks       │\n│ 1   ┆ Awesome Playlist │\n│ 2   ┆ korean           │\n│ 3   ┆ mat              │\n│ 4   ┆ 90s              │\n│ …   ┆ …                │\n│ 995 ┆ old              │\n│ 996 ┆ Daze             │\n│ 997 ┆ rap              │\n│ 998 ┆ Country          │\n│ 999 ┆ thinking of you  │\n└─────┴──────────────────┘",
      "text/html": "<div><style>\n.dataframe > thead > tr,\n.dataframe > tbody > tr {\n  text-align: right;\n  white-space: pre-wrap;\n}\n</style>\n<small>shape: (1_000, 2)</small><table border=\"1\" class=\"dataframe\"><thead><tr><th>pid</th><th>playlist_name</th></tr><tr><td>i64</td><td>str</td></tr></thead><tbody><tr><td>0</td><td>&quot;Throwbacks&quot;</td></tr><tr><td>1</td><td>&quot;Awesome Playlist&quot;</td></tr><tr><td>2</td><td>&quot;korean &quot;</td></tr><tr><td>3</td><td>&quot;mat&quot;</td></tr><tr><td>4</td><td>&quot;90s&quot;</td></tr><tr><td>&hellip;</td><td>&hellip;</td></tr><tr><td>995</td><td>&quot;old&quot;</td></tr><tr><td>996</td><td>&quot;Daze&quot;</td></tr><tr><td>997</td><td>&quot;rap&quot;</td></tr><tr><td>998</td><td>&quot;Country&quot;</td></tr><tr><td>999</td><td>&quot;thinking of you&quot;</td></tr></tbody></table></div>"
     },
     "execution_count": 4,
     "metadata": {},
     "output_type": "execute_result"
    }
   ],
   "source": [
    "playlist_df"
   ],
   "metadata": {
    "collapsed": false,
    "ExecuteTime": {
     "end_time": "2024-05-07T13:13:10.106393Z",
     "start_time": "2024-05-07T13:13:10.079420Z"
    }
   },
   "id": "73ca5e9102c7b318",
   "execution_count": 4
  },
  {
   "cell_type": "code",
   "outputs": [
    {
     "data": {
      "text/plain": "[81882]"
     },
     "execution_count": 26,
     "metadata": {},
     "output_type": "execute_result"
    }
   ],
   "source": [
    " playlist_df.filter(pl.col(\"playlist_name\") == \"nicki minaj\")[\"pid\"].to_list()"
   ],
   "metadata": {
    "collapsed": false,
    "ExecuteTime": {
     "end_time": "2024-05-07T13:25:40.232822Z",
     "start_time": "2024-05-07T13:25:40.217837Z"
    }
   },
   "id": "ab39de4b32265647",
   "execution_count": 26
  },
  {
   "cell_type": "code",
   "outputs": [],
   "source": [
    "from typing import List\n",
    "\n",
    "\n",
    "def get_closest_pids(playlist_name: str, n=3) -> List[int]:\n",
    "    closest_playlist_names = difflib.get_close_matches(\n",
    "        playlist_name, playlist_df[\"playlist_name\"].to_list(), \n",
    "        n=n, cutoff=0\n",
    "    )\n",
    "    print(f\"Matched {playlist_name} to {closest_playlist_names}\")\n",
    "    return playlist_df.filter(pl.col(\"playlist_name\").is_in(closest_playlist_names))[\"pid\"].to_list()"
   ],
   "metadata": {
    "collapsed": false,
    "ExecuteTime": {
     "end_time": "2024-05-07T13:37:38.218821Z",
     "start_time": "2024-05-07T13:37:38.205833Z"
    }
   },
   "id": "e5a8f9aebaadd157",
   "execution_count": 45
  },
  {
   "cell_type": "code",
   "outputs": [
    {
     "name": "stdout",
     "output_type": "stream",
     "text": [
      "Matched nicki minaj to ['nicki minaj', 'Nicki Minaj', 'Nicki Minaj']\n"
     ]
    }
   ],
   "source": [
    "pids = get_closest_pids(\"nicki minaj\")"
   ],
   "metadata": {
    "collapsed": false,
    "ExecuteTime": {
     "end_time": "2024-05-07T13:37:45.549728Z",
     "start_time": "2024-05-07T13:37:41.189994Z"
    }
   },
   "id": "55a0f48de29636aa",
   "execution_count": 46
  },
  {
   "cell_type": "code",
   "outputs": [
    {
     "data": {
      "text/plain": "'11877, 23406, 37946, 43337, 46950, 54851, 68126, 71623, 81882, 97805'"
     },
     "execution_count": 47,
     "metadata": {},
     "output_type": "execute_result"
    }
   ],
   "source": [
    "pids_str = \"\"\n",
    "for pid in pids:\n",
    "    pids_str += f\"{pid}, \"\n",
    "pids_str = pids_str[:-2]\n",
    "pids_str"
   ],
   "metadata": {
    "collapsed": false,
    "ExecuteTime": {
     "end_time": "2024-05-07T13:37:46.451804Z",
     "start_time": "2024-05-07T13:37:46.433823Z"
    }
   },
   "id": "d88b3d2a63169a4",
   "execution_count": 47
  },
  {
   "cell_type": "code",
   "outputs": [],
   "source": [
    "query = f\"\"\"\n",
    "    SELECT PT.pid, GROUP_CONCAT(PT.track_uri)\n",
    "    FROM playlist_track PT\n",
    "    WHERE PT.pid IN ({pids_str})\n",
    "    GROUP BY PT.pid;\n",
    "    \"\"\"\n",
    "playlist_tracks = pl.read_database(query, conn)"
   ],
   "metadata": {
    "collapsed": false,
    "ExecuteTime": {
     "end_time": "2024-05-07T13:37:51.358324Z",
     "start_time": "2024-05-07T13:37:51.352330Z"
    }
   },
   "id": "27529e4baffb126f",
   "execution_count": 48
  },
  {
   "cell_type": "code",
   "outputs": [
    {
     "data": {
      "text/plain": "4180"
     },
     "execution_count": 58,
     "metadata": {},
     "output_type": "execute_result"
    }
   ],
   "source": [
    "playlist_tracks[\"GROUP_CONCAT(PT.track_uri)\"].str.len_bytes().max()"
   ],
   "metadata": {
    "collapsed": false,
    "ExecuteTime": {
     "end_time": "2024-05-07T13:41:30.765016Z",
     "start_time": "2024-05-07T13:41:30.747034Z"
    }
   },
   "id": "4a5285b1d18f352c",
   "execution_count": 58
  },
  {
   "cell_type": "code",
   "outputs": [
    {
     "name": "stdout",
     "output_type": "stream",
     "text": [
      "Matched nicki minaj to ['nicki minaj', 'Nicki Minaj', 'Nicki Minaj']\n"
     ]
    },
    {
     "data": {
      "text/plain": "['spotify:track:1yQunV0upd4Eyu3rcOerD9',\n 'spotify:track:5h5sJvkKdIfC4yjALOmPn7',\n 'spotify:track:2Gb3ADUtL6eCribC2T7gqX',\n 'spotify:track:6bzwoiUt0s1KDOedyy4OtQ',\n 'spotify:track:1CSQgn4dTVadTozLlAqbrV',\n 'spotify:track:3y9cCbnBn0zjkJa2YkOj70',\n 'spotify:track:0d6gYlrea7zwNsjfAh9Xba',\n 'spotify:track:63NTlJWNS65JjsE3QJYr20',\n 'spotify:track:5x8W6iNXDCQrHp1DF5j4UW',\n 'spotify:track:7KcGEssn7BnJdTgildK5y0',\n 'spotify:track:7gKIt3rDGIMJDFVSPBnGmj',\n 'spotify:track:6X7xF5He9mB9vFsu56NAe1',\n 'spotify:track:0Jm9XTLs2VP52VvzGWiEAH',\n 'spotify:track:5JuE6xmUGOm3a2o7U18uTU',\n 'spotify:track:2iA8RRYseF4Nif8UxWfNXR',\n 'spotify:track:39XNWKuuBZK0oaV5YmD2dF',\n 'spotify:track:4dL6PO16Ns1kmvzpj9lTFq',\n 'spotify:track:6mjEABpi5cQ5gqFFOkR1Cc',\n 'spotify:track:7oZzcRnS5j3enhjGUJTrBW',\n 'spotify:track:1uqLxPxVgM50Dzoe6l3L00',\n 'spotify:track:2RV8KsoOJbKdTURDpRnP6I',\n 'spotify:track:5moUyr5BliVwQpLYzfn5tr',\n 'spotify:track:13VDHbpoKlRhtgUaWTE2Ld',\n 'spotify:track:4VRAVd6drMjJO4AvRLrd7w',\n 'spotify:track:4XK4rTlGw1i9z0rAPPyCjA',\n 'spotify:track:4JbBFf2y0H2BgJXZT6i9Hi',\n 'spotify:track:1oHNvJVbFkexQc0BpQp7Y4',\n 'spotify:track:5uUiDFSt8DUDlTsb5bhT4v',\n 'spotify:track:13LfHo9gqlczML1VJAlqPh',\n 'spotify:track:0x335qdLBS6o30hYdc8h2I',\n 'spotify:track:6WEDEPZSqLBM69CRwga7I5',\n 'spotify:track:5u5WBORMyoGaNmMsTeMuLN',\n 'spotify:track:4vGNhku2BMTIMsaGnfcNXC',\n 'spotify:track:6wV873oE2F23tdIN84CbSp',\n 'spotify:track:70CYAL35X3T73qVStJNpZ2',\n 'spotify:track:0nnRUsgfm4uQUYTCIH9NZy',\n 'spotify:track:75u9uswC5UMdtv4SQ3xSYf',\n 'spotify:track:5eqiMMbaeUZ32Q7sS00H35',\n 'spotify:track:3Ct0bL2G2Ki3DvrJQef2vo',\n 'spotify:track:4ejtrks9KfRe7keI7FRIPc',\n 'spotify:track:73DydXpS6xXmsFNvYrSpIQ',\n 'spotify:track:46cOludHczb2XfiJdJDFEu',\n 'spotify:track:1UZ25gykR30Oewh3dBRtVZ',\n 'spotify:track:6Sm2YzLtL8FcyTMONOkiFw',\n 'spotify:track:2prGRPQq7EmGcq1fgx3CWx',\n 'spotify:track:5C4PHNJIGuYYcMDsvKmLSV',\n 'spotify:track:5IFSbww3slw5bSBk6yAR8G',\n 'spotify:track:6gR28kStoa1MQrJMxEZNes',\n 'spotify:track:0LohatbcUXRauoeMlR1jnS',\n 'spotify:track:4pLwZjInHj3SimIyN9SnOz',\n 'spotify:track:2bEvCSQQha48I5ZQUCvLzP',\n 'spotify:track:2IpGdrWvIZipmaxo1YRxw5',\n 'spotify:track:3eqT34f3rxmm4dR7madDIM',\n 'spotify:track:4VJ7mnW4wjjIgPBM6KWvPu',\n 'spotify:track:2STxkZwoTQeZ5jxtgXsy9y',\n 'spotify:track:2tcRUmCd2FpgihXTBY1tXG',\n 'spotify:track:2NMIcon70yj6ymGshnrjMI',\n 'spotify:track:7yfg0Eer6UZZt5tZ1XdsWz',\n 'spotify:track:11a6GzsfPoLY1bVw3IFeMs',\n 'spotify:track:2QLHuAwRJzgDAoGVM8V4U7',\n 'spotify:track:64wR8Jdm7ikY3IbJOt5F9Z',\n 'spotify:track:4knL4iPxPOZjQzTUlELGSY',\n 'spotify:track:5w1vhNA2OEWUQ371QzyMmM',\n 'spotify:track:3iL2l5gUqyPS6vDwJFgJTR',\n 'spotify:track:1DDsYldutVWnRrRbZc5X5B',\n 'spotify:track:0syANbL8N5UDjouX7GxDtj',\n 'spotify:track:4F5EmlraTjKnWkXg0hwv6W',\n 'spotify:track:6Ka8OQuZbu0pQkQqygWTl8',\n 'spotify:track:1cGERovSiy5r2Ygz1bLRL3',\n 'spotify:track:0wDbYIl4fN2mccHczCJqEf',\n 'spotify:track:2jIT1TfSIjVik7Qu1B6P5h',\n 'spotify:track:2G60ShHRZZhqxSKbZTWdOh',\n 'spotify:track:3vchM8RVoYP2rAb9NcaaMR',\n 'spotify:track:2kVHAQKVtczchKctctzbtK',\n 'spotify:track:0w2AqrJ9afRXiTgfgW4tLd',\n 'spotify:track:4PxDHEEyHgYC6NUgqMtDFy',\n 'spotify:track:0VFXJrXtfuX2iqlnXpl4zD',\n 'spotify:track:5Eg6N02CTSSbdthjVc7wLA',\n 'spotify:track:3ZAMtgYJFoHwJjFkhkXqKr',\n 'spotify:track:2TJ5ei0GrErhEdAwWITbgd',\n 'spotify:track:0KTsmr6JOuhxZuiXUha1xC',\n 'spotify:track:6F6TsdD0ijquDSjcr9lgIt',\n 'spotify:track:7yO48FWUkqsrdxrwkGcnwl',\n 'spotify:track:285HeuLxsngjFn4GGegGNm',\n 'spotify:track:2ePk5lFdCTjFLkoDyMhmWV',\n 'spotify:track:2RFX8hjyXcoHHOA1TT0wd6',\n 'spotify:track:0OQW83WE4hkmZUIeE0MNJY',\n 'spotify:track:2BZv09QyIm1x8TrBOsZpUJ',\n 'spotify:track:2DM9JVZY1Kl2bvxWE2ifqE',\n 'spotify:track:6Py2oR9vHDDiAiBvezZuta',\n 'spotify:track:019FM2BxcPE2vyGWeOWhvS',\n 'spotify:track:0wpYoahTjbbM3gFwQWRBfL',\n 'spotify:track:2uAbEJGrLecIbkW9p3OqQl',\n 'spotify:track:5z9x3YY4jnP5W9earHccWu',\n 'spotify:track:6GMXOCxhzJD9blqe4jOPGd',\n 'spotify:track:5NJeNjlONdBHFQadfLdSZJ',\n 'spotify:track:2qgTDHe9zAnyHtasBnjMoj',\n 'spotify:track:0QXtw4rDLQtpzqPS4uJbZJ',\n 'spotify:track:3vgNmjuRDnGLxUFGCLkwpm',\n 'spotify:track:4aoTZHeWFCbquvIBhAUZlL',\n 'spotify:track:4zbtLcaTezB0qQZ583XeeK',\n 'spotify:track:3oEekS4xhmFQ88ieCVTZ7H',\n 'spotify:track:1iblVyphI37XOHbE6ts9HI',\n 'spotify:track:7gZvBz8YdretRd1Qhkl2wg',\n 'spotify:track:6e2K5PipTmBVk3UrXhAxB8',\n 'spotify:track:1paIMWwjQxE1GX3hqQ8IUW',\n 'spotify:track:0fg8CqpjdojMyXLNzM2PaJ',\n 'spotify:track:7iDxZ5Cd0Yg08d4fI5WVtG',\n 'spotify:track:4AFgK4wP1iD5i8BYaLr9Vf',\n 'spotify:track:0zVMzJ37VQNFUNvdxxat2E',\n 'spotify:track:5RjS5iW0FWn1U4ZaWjhLlP',\n 'spotify:track:1tyjWMMINb9S0YBynTvJ7s',\n 'spotify:track:1YZfcVLbbJwfizR5cDOp3q']"
     },
     "execution_count": 63,
     "metadata": {},
     "output_type": "execute_result"
    }
   ],
   "source": [
    "conn = sqlite3.connect(r'C:\\Users\\Sam\\spotify\\spotify.db')\n",
    "\n",
    "query = f\"\"\"\n",
    "    SELECT playlist.pid, playlist.playlist_name\n",
    "    FROM playlist\n",
    "    LIMIT 100000\n",
    "    \"\"\"\n",
    "playlist_df = pl.read_database(query, conn)\n",
    "\n",
    "def get_closest_pids(playlist_name: str, n=3) -> List[int]:\n",
    "    closest_playlist_names = difflib.get_close_matches(\n",
    "        playlist_name, playlist_df[\"playlist_name\"].to_list(), \n",
    "        n=n, cutoff=0\n",
    "    )\n",
    "    print(f\"Matched {playlist_name} to {closest_playlist_names}\")\n",
    "    return playlist_df.filter(pl.col(\"playlist_name\").is_in(closest_playlist_names))[\"pid\"].to_list()\n",
    "\n",
    "def get_tracks_of_similar_playlist(playlist_name: str) -> List[str]:\n",
    "    pids = get_closest_pids(playlist_name)\n",
    "    pids_str = \"\"\n",
    "    for pid in pids:\n",
    "        pids_str += f\"{pid}, \"\n",
    "    pids_str = pids_str[:-2]\n",
    "    query = f\"\"\"\n",
    "        SELECT PT.pid, GROUP_CONCAT(PT.track_uri)\n",
    "        FROM playlist_track PT\n",
    "        WHERE PT.pid IN ({pids_str})\n",
    "        GROUP BY PT.pid;\n",
    "        \"\"\"\n",
    "    playlist_tracks = pl.read_database(query, conn)\n",
    "    return playlist_tracks.filter(pl.col(\"GROUP_CONCAT(PT.track_uri)\").str.len_bytes() == playlist_tracks[\"GROUP_CONCAT(PT.track_uri)\"].str.len_bytes().max())[\"GROUP_CONCAT(PT.track_uri)\"].item().split(',')\n",
    "\n",
    "get_tracks_of_similar_playlist(\"nicki minaj\")"
   ],
   "metadata": {
    "collapsed": false,
    "ExecuteTime": {
     "end_time": "2024-05-07T13:44:21.640215Z",
     "start_time": "2024-05-07T13:44:16.656316Z"
    }
   },
   "id": "7e09865cca0c5770",
   "execution_count": 63
  },
  {
   "cell_type": "code",
   "outputs": [
    {
     "data": {
      "text/plain": "['spotify:track:1yQunV0upd4Eyu3rcOerD9',\n 'spotify:track:5h5sJvkKdIfC4yjALOmPn7',\n 'spotify:track:2Gb3ADUtL6eCribC2T7gqX',\n 'spotify:track:6bzwoiUt0s1KDOedyy4OtQ',\n 'spotify:track:1CSQgn4dTVadTozLlAqbrV',\n 'spotify:track:3y9cCbnBn0zjkJa2YkOj70',\n 'spotify:track:0d6gYlrea7zwNsjfAh9Xba',\n 'spotify:track:63NTlJWNS65JjsE3QJYr20',\n 'spotify:track:5x8W6iNXDCQrHp1DF5j4UW',\n 'spotify:track:7KcGEssn7BnJdTgildK5y0',\n 'spotify:track:7gKIt3rDGIMJDFVSPBnGmj',\n 'spotify:track:6X7xF5He9mB9vFsu56NAe1',\n 'spotify:track:0Jm9XTLs2VP52VvzGWiEAH',\n 'spotify:track:5JuE6xmUGOm3a2o7U18uTU',\n 'spotify:track:2iA8RRYseF4Nif8UxWfNXR',\n 'spotify:track:39XNWKuuBZK0oaV5YmD2dF',\n 'spotify:track:4dL6PO16Ns1kmvzpj9lTFq',\n 'spotify:track:6mjEABpi5cQ5gqFFOkR1Cc',\n 'spotify:track:7oZzcRnS5j3enhjGUJTrBW',\n 'spotify:track:1uqLxPxVgM50Dzoe6l3L00',\n 'spotify:track:2RV8KsoOJbKdTURDpRnP6I',\n 'spotify:track:5moUyr5BliVwQpLYzfn5tr',\n 'spotify:track:13VDHbpoKlRhtgUaWTE2Ld',\n 'spotify:track:4VRAVd6drMjJO4AvRLrd7w',\n 'spotify:track:4XK4rTlGw1i9z0rAPPyCjA',\n 'spotify:track:4JbBFf2y0H2BgJXZT6i9Hi',\n 'spotify:track:1oHNvJVbFkexQc0BpQp7Y4',\n 'spotify:track:5uUiDFSt8DUDlTsb5bhT4v',\n 'spotify:track:13LfHo9gqlczML1VJAlqPh',\n 'spotify:track:0x335qdLBS6o30hYdc8h2I',\n 'spotify:track:6WEDEPZSqLBM69CRwga7I5',\n 'spotify:track:5u5WBORMyoGaNmMsTeMuLN',\n 'spotify:track:4vGNhku2BMTIMsaGnfcNXC',\n 'spotify:track:6wV873oE2F23tdIN84CbSp',\n 'spotify:track:70CYAL35X3T73qVStJNpZ2',\n 'spotify:track:0nnRUsgfm4uQUYTCIH9NZy',\n 'spotify:track:75u9uswC5UMdtv4SQ3xSYf',\n 'spotify:track:5eqiMMbaeUZ32Q7sS00H35',\n 'spotify:track:3Ct0bL2G2Ki3DvrJQef2vo',\n 'spotify:track:4ejtrks9KfRe7keI7FRIPc',\n 'spotify:track:73DydXpS6xXmsFNvYrSpIQ',\n 'spotify:track:46cOludHczb2XfiJdJDFEu',\n 'spotify:track:1UZ25gykR30Oewh3dBRtVZ',\n 'spotify:track:6Sm2YzLtL8FcyTMONOkiFw',\n 'spotify:track:2prGRPQq7EmGcq1fgx3CWx',\n 'spotify:track:5C4PHNJIGuYYcMDsvKmLSV',\n 'spotify:track:5IFSbww3slw5bSBk6yAR8G',\n 'spotify:track:6gR28kStoa1MQrJMxEZNes',\n 'spotify:track:0LohatbcUXRauoeMlR1jnS',\n 'spotify:track:4pLwZjInHj3SimIyN9SnOz',\n 'spotify:track:2bEvCSQQha48I5ZQUCvLzP',\n 'spotify:track:2IpGdrWvIZipmaxo1YRxw5',\n 'spotify:track:3eqT34f3rxmm4dR7madDIM',\n 'spotify:track:4VJ7mnW4wjjIgPBM6KWvPu',\n 'spotify:track:2STxkZwoTQeZ5jxtgXsy9y',\n 'spotify:track:2tcRUmCd2FpgihXTBY1tXG',\n 'spotify:track:2NMIcon70yj6ymGshnrjMI',\n 'spotify:track:7yfg0Eer6UZZt5tZ1XdsWz',\n 'spotify:track:11a6GzsfPoLY1bVw3IFeMs',\n 'spotify:track:2QLHuAwRJzgDAoGVM8V4U7',\n 'spotify:track:64wR8Jdm7ikY3IbJOt5F9Z',\n 'spotify:track:4knL4iPxPOZjQzTUlELGSY',\n 'spotify:track:5w1vhNA2OEWUQ371QzyMmM',\n 'spotify:track:3iL2l5gUqyPS6vDwJFgJTR',\n 'spotify:track:1DDsYldutVWnRrRbZc5X5B',\n 'spotify:track:0syANbL8N5UDjouX7GxDtj',\n 'spotify:track:4F5EmlraTjKnWkXg0hwv6W',\n 'spotify:track:6Ka8OQuZbu0pQkQqygWTl8',\n 'spotify:track:1cGERovSiy5r2Ygz1bLRL3',\n 'spotify:track:0wDbYIl4fN2mccHczCJqEf',\n 'spotify:track:2jIT1TfSIjVik7Qu1B6P5h',\n 'spotify:track:2G60ShHRZZhqxSKbZTWdOh',\n 'spotify:track:3vchM8RVoYP2rAb9NcaaMR',\n 'spotify:track:2kVHAQKVtczchKctctzbtK',\n 'spotify:track:0w2AqrJ9afRXiTgfgW4tLd',\n 'spotify:track:4PxDHEEyHgYC6NUgqMtDFy',\n 'spotify:track:0VFXJrXtfuX2iqlnXpl4zD',\n 'spotify:track:5Eg6N02CTSSbdthjVc7wLA',\n 'spotify:track:3ZAMtgYJFoHwJjFkhkXqKr',\n 'spotify:track:2TJ5ei0GrErhEdAwWITbgd',\n 'spotify:track:0KTsmr6JOuhxZuiXUha1xC',\n 'spotify:track:6F6TsdD0ijquDSjcr9lgIt',\n 'spotify:track:7yO48FWUkqsrdxrwkGcnwl',\n 'spotify:track:285HeuLxsngjFn4GGegGNm',\n 'spotify:track:2ePk5lFdCTjFLkoDyMhmWV',\n 'spotify:track:2RFX8hjyXcoHHOA1TT0wd6',\n 'spotify:track:0OQW83WE4hkmZUIeE0MNJY',\n 'spotify:track:2BZv09QyIm1x8TrBOsZpUJ',\n 'spotify:track:2DM9JVZY1Kl2bvxWE2ifqE',\n 'spotify:track:6Py2oR9vHDDiAiBvezZuta',\n 'spotify:track:019FM2BxcPE2vyGWeOWhvS',\n 'spotify:track:0wpYoahTjbbM3gFwQWRBfL',\n 'spotify:track:2uAbEJGrLecIbkW9p3OqQl',\n 'spotify:track:5z9x3YY4jnP5W9earHccWu',\n 'spotify:track:6GMXOCxhzJD9blqe4jOPGd',\n 'spotify:track:5NJeNjlONdBHFQadfLdSZJ',\n 'spotify:track:2qgTDHe9zAnyHtasBnjMoj',\n 'spotify:track:0QXtw4rDLQtpzqPS4uJbZJ',\n 'spotify:track:3vgNmjuRDnGLxUFGCLkwpm',\n 'spotify:track:4aoTZHeWFCbquvIBhAUZlL',\n 'spotify:track:4zbtLcaTezB0qQZ583XeeK',\n 'spotify:track:3oEekS4xhmFQ88ieCVTZ7H',\n 'spotify:track:1iblVyphI37XOHbE6ts9HI',\n 'spotify:track:7gZvBz8YdretRd1Qhkl2wg',\n 'spotify:track:6e2K5PipTmBVk3UrXhAxB8',\n 'spotify:track:1paIMWwjQxE1GX3hqQ8IUW',\n 'spotify:track:0fg8CqpjdojMyXLNzM2PaJ',\n 'spotify:track:7iDxZ5Cd0Yg08d4fI5WVtG',\n 'spotify:track:4AFgK4wP1iD5i8BYaLr9Vf',\n 'spotify:track:0zVMzJ37VQNFUNvdxxat2E',\n 'spotify:track:5RjS5iW0FWn1U4ZaWjhLlP',\n 'spotify:track:1tyjWMMINb9S0YBynTvJ7s',\n 'spotify:track:1YZfcVLbbJwfizR5cDOp3q']"
     },
     "execution_count": 62,
     "metadata": {},
     "output_type": "execute_result"
    }
   ],
   "source": [
    "playlist_tracks.filter(pl.col(\"GROUP_CONCAT(PT.track_uri)\").str.len_bytes() == playlist_tracks[\"GROUP_CONCAT(PT.track_uri)\"].str.len_bytes().max())[\"GROUP_CONCAT(PT.track_uri)\"].item().split(',')"
   ],
   "metadata": {
    "collapsed": false,
    "ExecuteTime": {
     "end_time": "2024-05-07T13:42:15.422322Z",
     "start_time": "2024-05-07T13:42:15.406339Z"
    }
   },
   "id": "ca7b7e58efc5e52",
   "execution_count": 62
  },
  {
   "cell_type": "code",
   "outputs": [],
   "source": [
    "query = f\"\"\"\n",
    "    SELECT track.track_uri, track.track_name, artist.artist_name\n",
    "    FROM track\n",
    "    JOIN album on track.album_uri = album.album_uri\n",
    "    JOIN artist ON album.artist_uri = artist.artist_uri\n",
    "    \"\"\"\n",
    "track_df = pl.read_database(query, conn)"
   ],
   "metadata": {
    "collapsed": false,
    "ExecuteTime": {
     "end_time": "2024-05-07T09:19:04.935986Z",
     "start_time": "2024-05-07T09:18:14.077585Z"
    }
   },
   "id": "68522ecdc470a178",
   "execution_count": 31
  },
  {
   "cell_type": "code",
   "outputs": [
    {
     "data": {
      "text/plain": "shape: (2_262_292, 1)\n┌─────────────────────────────────┐\n│ track_name                      │\n│ ---                             │\n│ str                             │\n╞═════════════════════════════════╡\n│ Sinnerman - Live In New York/1… │\n│ Feeling Good                    │\n│ I've Got A Woman                │\n│ Fly Me To The Moon              │\n│ That's Life                     │\n│ …                               │\n│ Piano Sonata No.8 In C Minor, … │\n│ French Suite No. 4 in E-flat M… │\n│ Bach Concerto in D Minor for T… │\n│ Ma mere l'oye (Mother Goose) (… │\n│ The Well-Tempered Clavier, Boo… │\n└─────────────────────────────────┘",
      "text/html": "<div><style>\n.dataframe > thead > tr,\n.dataframe > tbody > tr {\n  text-align: right;\n  white-space: pre-wrap;\n}\n</style>\n<small>shape: (2_262_292, 1)</small><table border=\"1\" class=\"dataframe\"><thead><tr><th>track_name</th></tr><tr><td>str</td></tr></thead><tbody><tr><td>&quot;Sinnerman - Live In New York/1…</td></tr><tr><td>&quot;Feeling Good&quot;</td></tr><tr><td>&quot;I&#x27;ve Got A Woman&quot;</td></tr><tr><td>&quot;Fly Me To The Moon&quot;</td></tr><tr><td>&quot;That&#x27;s Life&quot;</td></tr><tr><td>&hellip;</td></tr><tr><td>&quot;Piano Sonata No.8 In C Minor, …</td></tr><tr><td>&quot;French Suite No. 4 in E-flat M…</td></tr><tr><td>&quot;Bach Concerto in D Minor for T…</td></tr><tr><td>&quot;Ma mere l&#x27;oye (Mother Goose) (…</td></tr><tr><td>&quot;The Well-Tempered Clavier, Boo…</td></tr></tbody></table></div>"
     },
     "execution_count": 42,
     "metadata": {},
     "output_type": "execute_result"
    }
   ],
   "source": [
    "track_df.select(pl.col(\"track_name\"))"
   ],
   "metadata": {
    "collapsed": false,
    "ExecuteTime": {
     "end_time": "2024-05-07T09:24:10.759520Z",
     "start_time": "2024-05-07T09:24:10.747532Z"
    }
   },
   "id": "885807ba48f0d327",
   "execution_count": 42
  },
  {
   "cell_type": "code",
   "outputs": [
    {
     "data": {
      "text/plain": "True"
     },
     "execution_count": 49,
     "metadata": {},
     "output_type": "execute_result"
    }
   ],
   "source": [
    "track_df[\"track_name\"].str.contains(\"Love Story\").any()"
   ],
   "metadata": {
    "collapsed": false,
    "ExecuteTime": {
     "end_time": "2024-05-07T09:29:42.542386Z",
     "start_time": "2024-05-07T09:29:42.470460Z"
    }
   },
   "id": "3eff5609776805c",
   "execution_count": 49
  },
  {
   "cell_type": "code",
   "outputs": [
    {
     "data": {
      "text/plain": "shape: (194, 3)\n┌─────────────────────────────────┬─────────────────────────────────┬─────────────┐\n│ track_uri                       ┆ track_name                      ┆ artist_name │\n│ ---                             ┆ ---                             ┆ ---         │\n│ str                             ┆ str                             ┆ str         │\n╞═════════════════════════════════╪═════════════════════════════════╪═════════════╡\n│ spotify:track:7iL6o9tox1zgHpKU… ┆ In Da Club                      ┆ 50 Cent     │\n│ spotify:track:3VzJE6yGuj8fDExU… ┆ Candy Shop                      ┆ 50 Cent     │\n│ spotify:track:2D1hlMwWWXpkc3CZ… ┆ P.I.M.P.                        ┆ 50 Cent     │\n│ spotify:track:41bIQPBE1lFN0mmw… ┆ 21 Questions                    ┆ 50 Cent     │\n│ spotify:track:2a4FxeAvHco9UkaV… ┆ Too Rich For The Bitch          ┆ 50 Cent     │\n│ …                               ┆ …                               ┆ …           │\n│ spotify:track:1yF4OLqi6CeSeYk2… ┆ Intro/ 50 Cent/ The Massacre    ┆ 50 Cent     │\n│ spotify:track:3DDYWGvWmTPfvrXZ… ┆ Baby By Me - Benny Benassi Rem… ┆ 50 Cent     │\n│ spotify:track:4mrgISZAsHSrHde2… ┆ In Da Club - A Cappella         ┆ 50 Cent     │\n│ spotify:track:6lH0U9mahP8i3TSt… ┆ Crack A Bottle                  ┆ 50 Cent     │\n│ spotify:track:7JosHgdxTxFQuUBX… ┆ Girls Go Wild                   ┆ 50 Cent     │\n└─────────────────────────────────┴─────────────────────────────────┴─────────────┘",
      "text/html": "<div><style>\n.dataframe > thead > tr,\n.dataframe > tbody > tr {\n  text-align: right;\n  white-space: pre-wrap;\n}\n</style>\n<small>shape: (194, 3)</small><table border=\"1\" class=\"dataframe\"><thead><tr><th>track_uri</th><th>track_name</th><th>artist_name</th></tr><tr><td>str</td><td>str</td><td>str</td></tr></thead><tbody><tr><td>&quot;spotify:track:7iL6o9tox1zgHpKU…</td><td>&quot;In Da Club&quot;</td><td>&quot;50 Cent&quot;</td></tr><tr><td>&quot;spotify:track:3VzJE6yGuj8fDExU…</td><td>&quot;Candy Shop&quot;</td><td>&quot;50 Cent&quot;</td></tr><tr><td>&quot;spotify:track:2D1hlMwWWXpkc3CZ…</td><td>&quot;P.I.M.P.&quot;</td><td>&quot;50 Cent&quot;</td></tr><tr><td>&quot;spotify:track:41bIQPBE1lFN0mmw…</td><td>&quot;21 Questions&quot;</td><td>&quot;50 Cent&quot;</td></tr><tr><td>&quot;spotify:track:2a4FxeAvHco9UkaV…</td><td>&quot;Too Rich For The Bitch&quot;</td><td>&quot;50 Cent&quot;</td></tr><tr><td>&hellip;</td><td>&hellip;</td><td>&hellip;</td></tr><tr><td>&quot;spotify:track:1yF4OLqi6CeSeYk2…</td><td>&quot;Intro/ 50 Cent/ The Massacre&quot;</td><td>&quot;50 Cent&quot;</td></tr><tr><td>&quot;spotify:track:3DDYWGvWmTPfvrXZ…</td><td>&quot;Baby By Me - Benny Benassi Rem…</td><td>&quot;50 Cent&quot;</td></tr><tr><td>&quot;spotify:track:4mrgISZAsHSrHde2…</td><td>&quot;In Da Club - A Cappella&quot;</td><td>&quot;50 Cent&quot;</td></tr><tr><td>&quot;spotify:track:6lH0U9mahP8i3TSt…</td><td>&quot;Crack A Bottle&quot;</td><td>&quot;50 Cent&quot;</td></tr><tr><td>&quot;spotify:track:7JosHgdxTxFQuUBX…</td><td>&quot;Girls Go Wild&quot;</td><td>&quot;50 Cent&quot;</td></tr></tbody></table></div>"
     },
     "execution_count": 62,
     "metadata": {},
     "output_type": "execute_result"
    }
   ],
   "source": [
    "track_df.filter((pl.col(\"artist_name\") == \"50 Cent\"))"
   ],
   "metadata": {
    "collapsed": false,
    "ExecuteTime": {
     "end_time": "2024-05-07T09:34:03.220577Z",
     "start_time": "2024-05-07T09:34:03.196602Z"
    }
   },
   "id": "99abacbe0e7cba54",
   "execution_count": 62
  },
  {
   "cell_type": "code",
   "outputs": [],
   "source": [
    "def get_closest(artist: str, track: str, n: int):\n",
    "    if not track_df[\"track_name\"].str.contains(track).any():\n",
    "        print(\"track not found in database\")\n",
    "    if not track_df[\"artist_name\"].str.contains(artist).any():\n",
    "        print(\"artist not found in database\")\n",
    "    print(\"Finding track uri\")\n",
    "    track_uri = track_df.filter((pl.col(\"artist_name\") == artist) & (pl.col(\"track_name\") == track)).select(pl.col(\"track_uri\"))[0].item()\n",
    "    print(f\"Track URI: {track_uri}\")\n",
    "    print(\"The most similar songs are:\")\n",
    "    for track_uri, similarity in model.wv.most_similar(track_uri, topn=n):\n",
    "        query = f\"\"\"\n",
    "            SELECT track.track_name, artist.artist_name\n",
    "            FROM track\n",
    "            JOIN album on track.album_uri = album.album_uri\n",
    "            JOIN artist ON album.artist_uri = artist.artist_uri\n",
    "            WHERE track.track_uri == '{track_uri}';\n",
    "            \"\"\"\n",
    "        single_track_df = pl.read_database(query, conn)\n",
    "        print(f\" > {similarity:.3f} - {single_track_df['artist_name'][0]}: {single_track_df['track_name'][0]}\")"
   ],
   "metadata": {
    "collapsed": false,
    "ExecuteTime": {
     "end_time": "2024-05-07T09:31:34.740006Z",
     "start_time": "2024-05-07T09:31:34.730016Z"
    }
   },
   "id": "24ee793524539b07",
   "execution_count": 58
  },
  {
   "cell_type": "code",
   "outputs": [
    {
     "name": "stdout",
     "output_type": "stream",
     "text": [
      "track not found in database\n",
      "Finding track uri\n",
      "Track URI: spotify:track:2I9foKseoFQh07p6sD2voE\n",
      "The most similar songs are:\n",
      " > 0.890 - 50 Cent: I'll Whip Ya Head Boy\n",
      " > 0.873 - 50 Cent: Back Down\n",
      " > 0.872 - 50 Cent: I'm Supposed To Die Tonight\n",
      " > 0.872 - 50 Cent: U Not Like Me\n",
      " > 0.869 - 50 Cent: Window Shopper\n",
      " > 0.867 - 50 Cent: My Gun Go Off\n",
      " > 0.866 - 50 Cent: What Up Gangsta\n",
      " > 0.866 - 50 Cent: Blood Hound\n",
      " > 0.864 - 50 Cent: Hustler's Ambition\n",
      " > 0.859 - 50 Cent: Like My Style\n",
      " > 0.858 - 50 Cent: Ski Mask Way\n",
      " > 0.857 - 50 Cent: So Disrespectful\n",
      " > 0.855 - 50 Cent: Patiently Waiting\n",
      " > 0.854 - 50 Cent: In My Hood\n",
      " > 0.853 - 50 Cent: A Baltimore Love Thing\n",
      " > 0.849 - 50 Cent: When It Rains It Pours\n",
      " > 0.849 - 50 Cent: Lifes On The Line\n",
      " > 0.849 - 50 Cent: Gotta Make It To Heaven\n",
      " > 0.849 - 50 Cent: Don't Push Me\n",
      " > 0.848 - 50 Cent: My Toy Soldier\n",
      " > 0.848 - 50 Cent: Gunz Come Out\n",
      " > 0.847 - 50 Cent: If I Can't\n",
      " > 0.844 - 50 Cent: This Is 50\n",
      " > 0.844 - 50 Cent: Wanksta - From \"8 Mile\" Soundtrack\n",
      " > 0.840 - 50 Cent: P.I.M.P.\n",
      " > 0.840 - 50 Cent: Position Of Power\n",
      " > 0.836 - 50 Cent: God Gave Me Style\n",
      " > 0.833 - G-Unit: G-Unit\n",
      " > 0.833 - 50 Cent: Piggy Bank\n",
      " > 0.832 - 50 Cent: Straight To The Bank\n",
      " > 0.829 - 50 Cent: Get In My Car\n",
      " > 0.825 - 50 Cent: High All The Time\n",
      " > 0.823 - 50 Cent: Psycho\n",
      " > 0.822 - 50 Cent: Hate It Or Love It - G-Unit Remix\n",
      " > 0.821 - The Game: Hate It Or Love It\n",
      " > 0.821 - 50 Cent: 21 Questions\n",
      " > 0.819 - 50 Cent: Amusement Park\n",
      " > 0.816 - 50 Cent: I Get Money - Forbes 1,2,3 Remix\n",
      " > 0.814 - The Game: How We Do\n",
      " > 0.814 - 50 Cent: I'll Still Kill\n",
      " > 0.813 - G-Unit: Poppin' Them Thangs\n",
      " > 0.813 - 50 Cent: Hold On\n",
      " > 0.813 - Lloyd Banks: Hands Up\n",
      " > 0.812 - 50 Cent: Ryder Music\n",
      " > 0.810 - G-Unit: G'D Up\n",
      " > 0.809 - 50 Cent: Heat\n",
      " > 0.809 - 50 Cent: Poor Lil Rich\n",
      " > 0.809 - G-Unit: I'm So Hood\n",
      " > 0.808 - Lloyd Banks: I'm So Fly\n",
      " > 0.807 - The Game: Like Father, Like Son\n"
     ]
    }
   ],
   "source": [
    "get_closest(\"50 Cent\", \"Many Men (Wish Death)\", 50)"
   ],
   "metadata": {
    "collapsed": false,
    "ExecuteTime": {
     "end_time": "2024-05-07T09:34:34.690142Z",
     "start_time": "2024-05-07T09:34:34.474363Z"
    }
   },
   "id": "3fe7637a874f9c4e",
   "execution_count": 64
  },
  {
   "cell_type": "code",
   "outputs": [
    {
     "name": "stdout",
     "output_type": "stream",
     "text": [
      "Finding track uri\n"
     ]
    },
    {
     "ename": "ValueError",
     "evalue": "can only call `.item()` if the dataframe is of shape (1, 1), or if explicit row/col values are provided; frame has shape (2, 1)",
     "output_type": "error",
     "traceback": [
      "\u001B[1;31m---------------------------------------------------------------------------\u001B[0m",
      "\u001B[1;31mValueError\u001B[0m                                Traceback (most recent call last)",
      "Cell \u001B[1;32mIn[40], line 1\u001B[0m\n\u001B[1;32m----> 1\u001B[0m \u001B[43mget_closest\u001B[49m\u001B[43m(\u001B[49m\u001B[38;5;124;43m\"\u001B[39;49m\u001B[38;5;124;43mTaylor Swift\u001B[39;49m\u001B[38;5;124;43m\"\u001B[39;49m\u001B[43m,\u001B[49m\u001B[43m \u001B[49m\u001B[38;5;124;43m\"\u001B[39;49m\u001B[38;5;124;43mStyle\u001B[39;49m\u001B[38;5;124;43m\"\u001B[39;49m\u001B[43m,\u001B[49m\u001B[43m \u001B[49m\u001B[38;5;241;43m50\u001B[39;49m\u001B[43m)\u001B[49m\n",
      "Cell \u001B[1;32mIn[38], line 3\u001B[0m, in \u001B[0;36mget_closest\u001B[1;34m(artist, track, n)\u001B[0m\n\u001B[0;32m      1\u001B[0m \u001B[38;5;28;01mdef\u001B[39;00m \u001B[38;5;21mget_closest\u001B[39m(artist: \u001B[38;5;28mstr\u001B[39m, track: \u001B[38;5;28mstr\u001B[39m, n: \u001B[38;5;28mint\u001B[39m):\n\u001B[0;32m      2\u001B[0m     \u001B[38;5;28mprint\u001B[39m(\u001B[38;5;124m\"\u001B[39m\u001B[38;5;124mFinding track uri\u001B[39m\u001B[38;5;124m\"\u001B[39m)\n\u001B[1;32m----> 3\u001B[0m     track_uri \u001B[38;5;241m=\u001B[39m \u001B[43mtrack_df\u001B[49m\u001B[38;5;241;43m.\u001B[39;49m\u001B[43mfilter\u001B[49m\u001B[43m(\u001B[49m\u001B[43m(\u001B[49m\u001B[43mpl\u001B[49m\u001B[38;5;241;43m.\u001B[39;49m\u001B[43mcol\u001B[49m\u001B[43m(\u001B[49m\u001B[38;5;124;43m\"\u001B[39;49m\u001B[38;5;124;43martist_name\u001B[39;49m\u001B[38;5;124;43m\"\u001B[39;49m\u001B[43m)\u001B[49m\u001B[43m \u001B[49m\u001B[38;5;241;43m==\u001B[39;49m\u001B[43m \u001B[49m\u001B[43martist\u001B[49m\u001B[43m)\u001B[49m\u001B[43m \u001B[49m\u001B[38;5;241;43m&\u001B[39;49m\u001B[43m \u001B[49m\u001B[43m(\u001B[49m\u001B[43mpl\u001B[49m\u001B[38;5;241;43m.\u001B[39;49m\u001B[43mcol\u001B[49m\u001B[43m(\u001B[49m\u001B[38;5;124;43m\"\u001B[39;49m\u001B[38;5;124;43mtrack_name\u001B[39;49m\u001B[38;5;124;43m\"\u001B[39;49m\u001B[43m)\u001B[49m\u001B[43m \u001B[49m\u001B[38;5;241;43m==\u001B[39;49m\u001B[43m \u001B[49m\u001B[43mtrack\u001B[49m\u001B[43m)\u001B[49m\u001B[43m)\u001B[49m\u001B[38;5;241;43m.\u001B[39;49m\u001B[43mselect\u001B[49m\u001B[43m(\u001B[49m\u001B[43mpl\u001B[49m\u001B[38;5;241;43m.\u001B[39;49m\u001B[43mcol\u001B[49m\u001B[43m(\u001B[49m\u001B[38;5;124;43m\"\u001B[39;49m\u001B[38;5;124;43mtrack_uri\u001B[39;49m\u001B[38;5;124;43m\"\u001B[39;49m\u001B[43m)\u001B[49m\u001B[43m)\u001B[49m\u001B[38;5;241;43m.\u001B[39;49m\u001B[43mitem\u001B[49m\u001B[43m(\u001B[49m\u001B[43m)\u001B[49m\n\u001B[0;32m      4\u001B[0m     \u001B[38;5;28mprint\u001B[39m(\u001B[38;5;124mf\u001B[39m\u001B[38;5;124m\"\u001B[39m\u001B[38;5;124mTrack URI: \u001B[39m\u001B[38;5;132;01m{\u001B[39;00mtrack_uri\u001B[38;5;132;01m}\u001B[39;00m\u001B[38;5;124m\"\u001B[39m)\n\u001B[0;32m      5\u001B[0m     \u001B[38;5;28mprint\u001B[39m(\u001B[38;5;124m\"\u001B[39m\u001B[38;5;124mThe most similar songs are:\u001B[39m\u001B[38;5;124m\"\u001B[39m)\n",
      "File \u001B[1;32mc:\\users\\sam\\spotify-million-playlist-challenge\\.venv\\lib\\site-packages\\polars\\dataframe\\frame.py:1327\u001B[0m, in \u001B[0;36mDataFrame.item\u001B[1;34m(self, row, column)\u001B[0m\n\u001B[0;32m   1321\u001B[0m     \u001B[38;5;28;01mif\u001B[39;00m \u001B[38;5;28mself\u001B[39m\u001B[38;5;241m.\u001B[39mshape \u001B[38;5;241m!=\u001B[39m (\u001B[38;5;241m1\u001B[39m, \u001B[38;5;241m1\u001B[39m):\n\u001B[0;32m   1322\u001B[0m         msg \u001B[38;5;241m=\u001B[39m (\n\u001B[0;32m   1323\u001B[0m             \u001B[38;5;124m\"\u001B[39m\u001B[38;5;124mcan only call `.item()` if the dataframe is of shape (1, 1),\u001B[39m\u001B[38;5;124m\"\u001B[39m\n\u001B[0;32m   1324\u001B[0m             \u001B[38;5;124m\"\u001B[39m\u001B[38;5;124m or if explicit row/col values are provided;\u001B[39m\u001B[38;5;124m\"\u001B[39m\n\u001B[0;32m   1325\u001B[0m             \u001B[38;5;124mf\u001B[39m\u001B[38;5;124m\"\u001B[39m\u001B[38;5;124m frame has shape \u001B[39m\u001B[38;5;132;01m{\u001B[39;00m\u001B[38;5;28mself\u001B[39m\u001B[38;5;241m.\u001B[39mshape\u001B[38;5;132;01m!r}\u001B[39;00m\u001B[38;5;124m\"\u001B[39m\n\u001B[0;32m   1326\u001B[0m         )\n\u001B[1;32m-> 1327\u001B[0m         \u001B[38;5;28;01mraise\u001B[39;00m \u001B[38;5;167;01mValueError\u001B[39;00m(msg)\n\u001B[0;32m   1328\u001B[0m     \u001B[38;5;28;01mreturn\u001B[39;00m \u001B[38;5;28mself\u001B[39m\u001B[38;5;241m.\u001B[39m_df\u001B[38;5;241m.\u001B[39mselect_at_idx(\u001B[38;5;241m0\u001B[39m)\u001B[38;5;241m.\u001B[39mget_index(\u001B[38;5;241m0\u001B[39m)\n\u001B[0;32m   1330\u001B[0m \u001B[38;5;28;01melif\u001B[39;00m row \u001B[38;5;129;01mis\u001B[39;00m \u001B[38;5;28;01mNone\u001B[39;00m \u001B[38;5;129;01mor\u001B[39;00m column \u001B[38;5;129;01mis\u001B[39;00m \u001B[38;5;28;01mNone\u001B[39;00m:\n",
      "\u001B[1;31mValueError\u001B[0m: can only call `.item()` if the dataframe is of shape (1, 1), or if explicit row/col values are provided; frame has shape (2, 1)"
     ]
    }
   ],
   "source": [
    "get_closest(\"Taylor Swift\", \"Style\", 50)"
   ],
   "metadata": {
    "collapsed": false,
    "ExecuteTime": {
     "end_time": "2024-05-07T09:21:46.159542Z",
     "start_time": "2024-05-07T09:21:46.074626Z"
    }
   },
   "id": "1c54215fa3b191d9",
   "execution_count": 40
  },
  {
   "cell_type": "markdown",
   "source": [
    "# Ignore Below"
   ],
   "metadata": {
    "collapsed": false
   },
   "id": "76a066a3d7361ce5"
  },
  {
   "cell_type": "code",
   "outputs": [],
   "source": [
    "playlists = [row.split(\",\") for row in playlist_tracks[\"GROUP_CONCAT(PT.track_uri)\"]]"
   ],
   "metadata": {
    "collapsed": false,
    "ExecuteTime": {
     "end_time": "2024-05-07T01:16:00.434532Z",
     "start_time": "2024-05-07T01:14:02.978675Z"
    }
   },
   "id": "8b52fe4d09fa83d4",
   "execution_count": 19
  },
  {
   "cell_type": "code",
   "outputs": [],
   "source": [
    "del playlist_tracks"
   ],
   "metadata": {
    "collapsed": false,
    "ExecuteTime": {
     "end_time": "2024-05-07T01:18:05.787590Z",
     "start_time": "2024-05-07T01:18:05.777600Z"
    }
   },
   "id": "3cc1a1087c9b0ed4",
   "execution_count": 21
  },
  {
   "cell_type": "code",
   "outputs": [],
   "source": [
    "from gensim.models.callbacks import CallbackAny2Vec\n",
    "\n",
    "class MonitorCallback(CallbackAny2Vec):\n",
    "    def on_epoch_end(self, model):\n",
    "        print(\"Model loss:\", model.get_latest_training_loss())  # print loss\n",
    "        print(model.wv.most_similar(\"spotify:track:1vrd6UOGamcKNGnSHJQlSt\"))"
   ],
   "metadata": {
    "collapsed": false,
    "ExecuteTime": {
     "end_time": "2024-05-07T01:25:31.077302Z",
     "start_time": "2024-05-07T01:25:31.065315Z"
    }
   },
   "id": "19036d54b2ee9824",
   "execution_count": 24
  },
  {
   "cell_type": "code",
   "outputs": [],
   "source": [
    "import logging\n",
    "logging.basicConfig(level=logging.INFO)\n",
    "model = Word2Vec(sentences=playlists, vector_size=25, window=5, min_count=50, sg=1, callbacks=[MonitorCallback()])\n",
    "model.save(\"word2vec.model\")"
   ],
   "metadata": {
    "collapsed": false,
    "is_executing": true,
    "ExecuteTime": {
     "start_time": "2024-05-07T01:34:32.811633Z"
    }
   },
   "id": "b12658f3f1182464",
   "execution_count": null
  },
  {
   "cell_type": "code",
   "outputs": [],
   "source": [
    "sql_query = '''\n",
    "    SELECT \n",
    "        artist.artist_name,\n",
    "        track.track_uri, \n",
    "        track.track_name\n",
    "    FROM track\n",
    "    JOIN album ON track.album_uri = album.album_uri\n",
    "    JOIN artist ON album.artist_uri = artist.artist_uri\n",
    "'''\n",
    "track_df = pd.read_sql_query(sql_query, conn)\n",
    "track_df"
   ],
   "metadata": {
    "collapsed": false
   },
   "id": "14e9cd4ba9f73652",
   "execution_count": null
  },
  {
   "cell_type": "code",
   "outputs": [],
   "source": [
    "with open(r\"C:\\Users\\liamb\\Documents\\Spotify-Million-Playlist-Challenge\\song_embeddings.pkl\", 'rb') as f:\n",
    "    embeddings_dict = pickle.load(f)"
   ],
   "metadata": {
    "collapsed": false
   },
   "id": "d9ec3de25444d864",
   "execution_count": null
  },
  {
   "cell_type": "code",
   "outputs": [],
   "source": [
    "track_uris, embeddings = zip(*embeddings_dict.items())\n",
    "track_uris = np.array(track_uris)\n",
    "embeddings_matrix = np.stack([value for value in embeddings])\n",
    "global_average_embedding = np.mean(embeddings_matrix, axis=0)"
   ],
   "metadata": {
    "collapsed": false
   },
   "id": "21389dce280aa4b6",
   "execution_count": null
  },
  {
   "cell_type": "code",
   "outputs": [],
   "source": [
    "def get_closest(artist: str, track: str, n: int):\n",
    "    print(\"Finding track uri\")\n",
    "    track_uri = track_df[(track_df[\"artist_name\"] == artist) & (track_df[\"track_name\"] == track)][\"track_uri\"].values[0]\n",
    "    print(f\"Track URI: {track_uri}\")\n",
    "    print(\"Getting track embedding\")\n",
    "    track_emb = embeddings_dict[track_uri]\n",
    "    print(\"Calculating scores\")\n",
    "    scores = np.dot(embeddings_matrix, track_emb)\n",
    "    print(\"Getting top n indices\")\n",
    "    top_n_indices = np.argpartition(scores, n)[:n]\n",
    "    print(\"Getting top n track uris\")\n",
    "    top_n_track_uris = track_uris[top_n_indices].tolist()\n",
    "    print(\"Getting top n track data using URIs\")\n",
    "    return track_df[track_df[\"track_uri\"].isin(top_n_track_uris)]"
   ],
   "metadata": {
    "collapsed": false
   },
   "id": "e50b14d1cc657035",
   "execution_count": null
  },
  {
   "cell_type": "code",
   "outputs": [],
   "source": [
    "get_closest(\"Taylor Swift\", \"Love Story\", 50)"
   ],
   "metadata": {
    "collapsed": false
   },
   "id": "6c743edd51a322d5",
   "execution_count": null
  },
  {
   "cell_type": "code",
   "execution_count": null,
   "outputs": [],
   "source": [
    "query = '''\n",
    "SELECT PT.pid, PT.track_uri, PT.pos\n",
    "FROM playlist_track PT\n",
    "INNER JOIN (\n",
    "SELECT track_uri\n",
    "FROM playlist_track\n",
    "GROUP BY track_uri\n",
    "HAVING COUNT(pid) > 1000\n",
    ") AS PT2 ON PT.track_uri = PT2.track_uri\n",
    "WHERE pid < 1000000\n",
    "'''\n",
    "playlist_tracks = pd.read_sql_query(query, conn)"
   ],
   "metadata": {
    "collapsed": false
   },
   "id": "9cac0788ba2e2ada"
  },
  {
   "cell_type": "code",
   "outputs": [],
   "source": [
    "playlists = playlist_tracks.groupby('pid')['track_uri'].apply(list).tolist()"
   ],
   "metadata": {
    "collapsed": false
   },
   "id": "b8ed2f8a202ca363"
  },
  {
   "cell_type": "code",
   "execution_count": null,
   "outputs": [],
   "source": [
    "model = Word2Vec(sentences=playlists, vector_size=100, window=5, min_count=1, sg=1)\n",
    "track_embeddings = {track_uri: model.wv[track_uri] for track_uri in playlist_tracks['track_uri'].unique()}"
   ],
   "metadata": {
    "collapsed": false
   },
   "id": "e37744d74aee9178"
  },
  {
   "cell_type": "code",
   "execution_count": null,
   "outputs": [],
   "source": [
    "track_uris, embeddings = zip(*track_embeddings.items())\n",
    "track_uris = np.array(track_uris)\n",
    "embeddings_matrix = np.stack([value for value in embeddings])\n",
    "global_average_embedding = np.mean(embeddings_matrix, axis=0)"
   ],
   "metadata": {
    "collapsed": false
   },
   "id": "fa8a017820d1749b"
  },
  {
   "cell_type": "code",
   "execution_count": null,
   "outputs": [],
   "source": [
    "def get_closest(artist: str, track: str, n: int):\n",
    "    print(\"Finding track uri\")\n",
    "    track_uri = track_df[(track_df[\"artist_name\"] == artist) & (track_df[\"track_name\"] == track)][\"track_uri\"].values[0]\n",
    "    print(f\"Track URI: {track_uri}\")\n",
    "    print(\"Getting track embedding\")\n",
    "    track_emb = track_embeddings[track_uri]\n",
    "    print(\"Calculating scores\")\n",
    "    scores = np.dot(embeddings_matrix, track_emb)\n",
    "    print(\"Getting top n indices\")\n",
    "    top_n_indices = np.argpartition(scores, n)[:n]\n",
    "    print(\"Getting top n track uris\")\n",
    "    top_n_track_uris = track_uris[top_n_indices].tolist()\n",
    "    print(\"Getting top n track data using URIs\")\n",
    "    return track_df[track_df[\"track_uri\"].isin(top_n_track_uris)]\n",
    "\n",
    "get_closest(\"Taylor Swift\", \"Love Story\", 50)"
   ],
   "metadata": {
    "collapsed": false
   },
   "id": "77954e25ef1fe47d"
  },
  {
   "cell_type": "code",
   "outputs": [],
   "source": [
    "sql_query = '''\n",
    "    SELECT \n",
    "        playlist.pid, \n",
    "        playlist.playlist_name,\n",
    "        playlist.num_tracks \n",
    "    FROM playlist\n",
    "'''\n",
    "df = pd.read_sql_query(sql_query, conn)\n",
    "df"
   ],
   "metadata": {
    "collapsed": false
   },
   "id": "a0bef4393de294e1",
   "execution_count": null
  },
  {
   "cell_type": "code",
   "outputs": [],
   "source": [
    "nlp = spacy.load('en_core_web_lg')\n",
    "\n",
    "def word2vec(word: str):\n",
    "    return nlp(word).vector"
   ],
   "metadata": {
    "collapsed": false
   },
   "id": "539c45b546e14264",
   "execution_count": null
  },
  {
   "cell_type": "code",
   "outputs": [],
   "source": [
    "# convert the name of the playlist into an embedding\n",
    "def name_to_vec(name: str):\n",
    "    return np.mean([word2vec(word) for word in name.split()], axis=0)"
   ],
   "metadata": {
    "collapsed": false
   },
   "id": "302b9f739b843dd8",
   "execution_count": null
  },
  {
   "cell_type": "code",
   "outputs": [],
   "source": [
    "df = df[df[\"num_tracks\"] > 5]\n",
    "len(df)"
   ],
   "metadata": {
    "collapsed": false
   },
   "id": "b49f1347a7398d8",
   "execution_count": null
  },
  {
   "cell_type": "code",
   "outputs": [],
   "source": [
    "df = df.sample(10_000)"
   ],
   "metadata": {
    "collapsed": false
   },
   "id": "9dc39608ff0df444",
   "execution_count": null
  },
  {
   "cell_type": "code",
   "outputs": [],
   "source": [
    "df[\"emb\"] = df[\"playlist_name\"].progress_apply(name_to_vec)"
   ],
   "metadata": {
    "collapsed": false
   },
   "id": "ad0e881897ac503d",
   "execution_count": null
  },
  {
   "cell_type": "code",
   "outputs": [],
   "source": [
    "df"
   ],
   "metadata": {
    "collapsed": false
   },
   "id": "5b1097cc369c53dd",
   "execution_count": null
  },
  {
   "cell_type": "code",
   "outputs": [],
   "source": [
    "embeddings = df[\"playlist_name\"].progress_apply(name_to_vec)"
   ],
   "metadata": {
    "collapsed": false
   },
   "id": "b27d9f3eb3e7bf3f",
   "execution_count": null
  },
  {
   "cell_type": "code",
   "outputs": [],
   "source": [
    "embeddings.numpy()"
   ],
   "metadata": {
    "collapsed": false
   },
   "id": "1a839412e115b818",
   "execution_count": null
  },
  {
   "cell_type": "code",
   "outputs": [],
   "source": [
    "df.iloc[100]"
   ],
   "metadata": {
    "collapsed": false
   },
   "id": "cc3e80aef516abb7",
   "execution_count": null
  },
  {
   "cell_type": "code",
   "outputs": [],
   "source": [],
   "metadata": {
    "collapsed": false
   },
   "id": "d00bb7deb82d1842",
   "execution_count": null
  }
 ],
 "metadata": {
  "kernelspec": {
   "display_name": "Python 3",
   "language": "python",
   "name": "python3"
  },
  "language_info": {
   "codemirror_mode": {
    "name": "ipython",
    "version": 2
   },
   "file_extension": ".py",
   "mimetype": "text/x-python",
   "name": "python",
   "nbconvert_exporter": "python",
   "pygments_lexer": "ipython2",
   "version": "2.7.6"
  }
 },
 "nbformat": 4,
 "nbformat_minor": 5
}
