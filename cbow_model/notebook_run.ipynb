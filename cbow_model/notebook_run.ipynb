{
 "cells": [
  {
   "cell_type": "code",
   "execution_count": 14,
   "id": "initial_id",
   "metadata": {
    "collapsed": true,
    "ExecuteTime": {
     "end_time": "2024-04-23T20:24:27.118721Z",
     "start_time": "2024-04-23T20:24:27.098862Z"
    }
   },
   "outputs": [],
   "source": [
    "from torch.utils.data import DataLoader\n",
    "import torch.nn as nn\n",
    "from tqdm import tqdm\n",
    "import polars as pl\n",
    "import torch\n",
    "from torch.utils.data import Dataset\n",
    "from data_storage.DBManager import DBManager"
   ]
  },
  {
   "cell_type": "code",
   "outputs": [],
   "source": [
    "class CBOWDataset(Dataset):\n",
    "    \"\"\"\n",
    "    Selects tracks from the dataset on the SQLite database.\n",
    "    \"\"\"\n",
    "    def __init__(self, n_playlists: int, context_size: int = 5):\n",
    "        self.n_playlists = n_playlists\n",
    "        self.context_size = context_size\n",
    "        self._db = DBManager()\n",
    "        self.cur = self._db.get_cursor()\n",
    "        self.dataset = self._make_dataset()\n",
    "\n",
    "    def _make_dataset(self) -> pl.DataFrame:\n",
    "        \"\"\"\n",
    "        Returns polars dataframe containing:\n",
    "            pid: playlist id\n",
    "            pos: position of the track in the playlist\n",
    "            track_idx: internal index of the track\n",
    "        \"\"\"\n",
    "        query = f\"\"\"\n",
    "            SELECT PT.track_uri, PT.pid, PT.pos\n",
    "            FROM playlist_track PT\n",
    "            WHERE PT.pid IN (SELECT pid FROM playlist LIMIT {self.n_playlists});\n",
    "        \"\"\"\n",
    "        # Playlist tracks as dataframe\n",
    "        df_pl_tracks = pl.read_database(query, self._db.get_connection())\n",
    "\n",
    "        # Get a list of unique tracks\n",
    "        self.track_vocab = df_pl_tracks[\"track_uri\"].unique().to_list() + [\"PAD\"]\n",
    "        self.track_2_idx = {track: idx for idx, track in enumerate(self.track_vocab)}\n",
    "        self.idx_2_track = lambda idx: self.track_vocab[idx]\n",
    "\n",
    "        # Map track_uri to track_idx and drop track_uri\n",
    "        df_pl_tracks = df_pl_tracks.with_columns(\n",
    "            track_idx=pl.col(\"track_uri\").replace(\n",
    "                self.track_2_idx,\n",
    "                return_dtype=pl.UInt32\n",
    "            )\n",
    "        )\n",
    "        df_pl_tracks = df_pl_tracks.drop(\"track_uri\")\n",
    "        return df_pl_tracks\n",
    "\n",
    "    @property\n",
    "    def n_tracks(self) -> int:\n",
    "        return len(self.track_vocab)\n",
    "\n",
    "    def __len__(self):\n",
    "        return len(self.dataset)\n",
    "\n",
    "    def __getitem__(self, idx):\n",
    "        \"\"\"\n",
    "        Assumes idx is the index of the out-of-place track.\n",
    "        Gets previous context_size tracks.\n",
    "        \"\"\"\n",
    "        target = self.dataset[\"track_idx\"][idx]\n",
    "\n",
    "        # Get previous context_size tracks\n",
    "        pid = self.dataset[\"pid\"][idx]\n",
    "        pos = self.dataset[\"pos\"][idx]\n",
    "        context = self.dataset.filter(\n",
    "            (self.dataset[\"pid\"] == pid) &\n",
    "            (self.dataset[\"pos\"] < pos)\n",
    "        ).tail(self.context_size)[\"track_idx\"].to_list()\n",
    "\n",
    "        # Pad context if necessary\n",
    "        if len(context) < self.context_size:\n",
    "            pad_size = (self.context_size - len(context))\n",
    "            context = [self.track_2_idx[\"PAD\"]] * pad_size + context\n",
    "\n",
    "        # Convert to pytorch tensors\n",
    "        context = torch.tensor(context)\n",
    "        # no need for one-hot encoding with NLLLoss\n",
    "        return context, target"
   ],
   "metadata": {
    "collapsed": false,
    "ExecuteTime": {
     "end_time": "2024-04-23T21:05:00.224105Z",
     "start_time": "2024-04-23T21:05:00.206704Z"
    }
   },
   "id": "ad45bc85bff8d53d",
   "execution_count": 111
  },
  {
   "cell_type": "code",
   "outputs": [],
   "source": [
    "class Track2Vec(nn.Module):\n",
    "    def __init__(self, num_tracks: int, embedding_dim: int, context_size: int):\n",
    "        super(Track2Vec, self).__init__()\n",
    "        self.model = nn.Sequential(\n",
    "            nn.Embedding(num_tracks, embedding_dim),\n",
    "            nn.Flatten(1),  # concatenate context\n",
    "            nn.Linear(context_size * embedding_dim, 128),\n",
    "            nn.LeakyReLU(),\n",
    "            nn.Linear(128, num_tracks),\n",
    "            nn.LogSoftmax(dim=1)\n",
    "        )\n",
    "    \n",
    "    def forward(self, x):\n",
    "        return self.model(x)"
   ],
   "metadata": {
    "collapsed": false,
    "ExecuteTime": {
     "end_time": "2024-04-23T20:59:08.684140Z",
     "start_time": "2024-04-23T20:59:08.666046Z"
    }
   },
   "id": "c5df7cb6fd2a0a72",
   "execution_count": 102
  },
  {
   "cell_type": "code",
   "outputs": [],
   "source": [
    "def train(model: Track2Vec, ds_train: CBOWDataset, epochs : int) -> None:\n",
    "    print(\"Training CBOW model\")\n",
    "    criterion = nn.NLLLoss()\n",
    "    optimizer = torch.optim.Adam(model.parameters(), lr=0.001)\n",
    "    data_loader = DataLoader(ds_train, batch_size=32, shuffle=True)\n",
    "    for epoch in range(1, epochs + 1):\n",
    "        print(f\"Epoch {epoch}\")\n",
    "        total_loss = 0\n",
    "        for context, target in tqdm(data_loader):\n",
    "            model.zero_grad()\n",
    "            log_probs = model(context)\n",
    "            loss = criterion(log_probs, target)\n",
    "            loss.backward()\n",
    "            optimizer.step()\n",
    "            total_loss += loss.item()\n",
    "        print(f\"Epoch {epoch}: Loss: {total_loss}\")"
   ],
   "metadata": {
    "collapsed": false,
    "ExecuteTime": {
     "end_time": "2024-04-23T21:04:48.600505Z",
     "start_time": "2024-04-23T21:04:48.584002Z"
    }
   },
   "id": "937941648fba6237",
   "execution_count": 110
  },
  {
   "cell_type": "code",
   "outputs": [],
   "source": [
    "CONTEXT_SIZE = 5\n",
    "N_PLAYLISTS = 1_000\n",
    "EMBEDDING_DIM = 250"
   ],
   "metadata": {
    "collapsed": false,
    "ExecuteTime": {
     "end_time": "2024-04-23T20:24:27.196617Z",
     "start_time": "2024-04-23T20:24:27.183398Z"
    }
   },
   "id": "953655fd04a60f81",
   "execution_count": 18
  },
  {
   "cell_type": "code",
   "outputs": [
    {
     "name": "stderr",
     "output_type": "stream",
     "text": [
      "INFO:root:Attempting to connect to database.\n",
      "INFO:root:Connected to database\n"
     ]
    }
   ],
   "source": [
    "ds = CBOWDataset(n_playlists=N_PLAYLISTS, context_size=CONTEXT_SIZE)"
   ],
   "metadata": {
    "collapsed": false,
    "ExecuteTime": {
     "end_time": "2024-04-23T21:04:18.245513Z",
     "start_time": "2024-04-23T21:04:18.112879Z"
    }
   },
   "id": "fd0046ae90400746",
   "execution_count": 108
  },
  {
   "cell_type": "code",
   "outputs": [
    {
     "data": {
      "text/plain": "55"
     },
     "execution_count": 119,
     "metadata": {},
     "output_type": "execute_result"
    }
   ],
   "source": [
    "ds.dataset.filter(ds.dataset['track_idx']==0)['pos'][0]"
   ],
   "metadata": {
    "collapsed": false,
    "ExecuteTime": {
     "end_time": "2024-04-23T23:12:07.411206Z",
     "start_time": "2024-04-23T23:12:07.396209Z"
    }
   },
   "id": "40236892bfd0de79",
   "execution_count": 119
  },
  {
   "cell_type": "code",
   "outputs": [],
   "source": [
    "model = Track2Vec(\n",
    "    num_tracks=ds.n_tracks,\n",
    "    embedding_dim=EMBEDDING_DIM,\n",
    "    context_size=CONTEXT_SIZE\n",
    ")"
   ],
   "metadata": {
    "collapsed": false,
    "ExecuteTime": {
     "end_time": "2024-04-23T20:59:14.335591Z",
     "start_time": "2024-04-23T20:59:14.255368Z"
    }
   },
   "id": "96caf47af823598e",
   "execution_count": 103
  },
  {
   "cell_type": "code",
   "outputs": [
    {
     "name": "stdout",
     "output_type": "stream",
     "text": [
      "Training CBOW model\n",
      "Epoch 1\n"
     ]
    },
    {
     "name": "stderr",
     "output_type": "stream",
     "text": [
      "100%|██████████| 2086/2086 [04:19<00:00,  8.05it/s]\n"
     ]
    },
    {
     "name": "stdout",
     "output_type": "stream",
     "text": [
      "Epoch 1: Loss: 22037.149313926697\n",
      "Epoch 2\n"
     ]
    },
    {
     "name": "stderr",
     "output_type": "stream",
     "text": [
      "100%|██████████| 2086/2086 [04:19<00:00,  8.04it/s]\n"
     ]
    },
    {
     "name": "stdout",
     "output_type": "stream",
     "text": [
      "Epoch 2: Loss: 20631.313497543335\n",
      "Epoch 3\n"
     ]
    },
    {
     "name": "stderr",
     "output_type": "stream",
     "text": [
      "100%|██████████| 2086/2086 [04:12<00:00,  8.25it/s]\n"
     ]
    },
    {
     "name": "stdout",
     "output_type": "stream",
     "text": [
      "Epoch 3: Loss: 17898.65234708786\n",
      "Epoch 4\n"
     ]
    },
    {
     "name": "stderr",
     "output_type": "stream",
     "text": [
      "100%|██████████| 2086/2086 [04:14<00:00,  8.19it/s]\n"
     ]
    },
    {
     "name": "stdout",
     "output_type": "stream",
     "text": [
      "Epoch 4: Loss: 13039.324611663818\n",
      "Epoch 5\n"
     ]
    },
    {
     "name": "stderr",
     "output_type": "stream",
     "text": [
      "100%|██████████| 2086/2086 [04:12<00:00,  8.26it/s]\n"
     ]
    },
    {
     "name": "stdout",
     "output_type": "stream",
     "text": [
      "Epoch 5: Loss: 8195.068344116211\n",
      "Epoch 6\n"
     ]
    },
    {
     "name": "stderr",
     "output_type": "stream",
     "text": [
      "100%|██████████| 2086/2086 [04:19<00:00,  8.03it/s]\n"
     ]
    },
    {
     "name": "stdout",
     "output_type": "stream",
     "text": [
      "Epoch 6: Loss: 4539.532862782478\n",
      "Epoch 7\n"
     ]
    },
    {
     "name": "stderr",
     "output_type": "stream",
     "text": [
      "100%|██████████| 2086/2086 [04:12<00:00,  8.25it/s]\n"
     ]
    },
    {
     "name": "stdout",
     "output_type": "stream",
     "text": [
      "Epoch 7: Loss: 2219.0709552019835\n",
      "Epoch 8\n"
     ]
    },
    {
     "name": "stderr",
     "output_type": "stream",
     "text": [
      "100%|██████████| 2086/2086 [04:10<00:00,  8.32it/s]\n"
     ]
    },
    {
     "name": "stdout",
     "output_type": "stream",
     "text": [
      "Epoch 8: Loss: 1214.2023377857986\n",
      "Epoch 9\n"
     ]
    },
    {
     "name": "stderr",
     "output_type": "stream",
     "text": [
      "100%|██████████| 2086/2086 [04:12<00:00,  8.28it/s]\n"
     ]
    },
    {
     "name": "stdout",
     "output_type": "stream",
     "text": [
      "Epoch 9: Loss: 858.3454581960905\n",
      "Epoch 10\n"
     ]
    },
    {
     "name": "stderr",
     "output_type": "stream",
     "text": [
      "100%|██████████| 2086/2086 [04:11<00:00,  8.30it/s]"
     ]
    },
    {
     "name": "stdout",
     "output_type": "stream",
     "text": [
      "Epoch 10: Loss: 707.6106652672161\n"
     ]
    },
    {
     "name": "stderr",
     "output_type": "stream",
     "text": [
      "\n"
     ]
    }
   ],
   "source": [
    "train(model, ds, epochs=10)"
   ],
   "metadata": {
    "collapsed": false,
    "ExecuteTime": {
     "end_time": "2024-04-23T21:47:29.360187Z",
     "start_time": "2024-04-23T21:05:04.092073Z"
    }
   },
   "id": "37ae41b94dde6f04",
   "execution_count": 112
  }
 ],
 "metadata": {
  "kernelspec": {
   "display_name": "Python 3",
   "language": "python",
   "name": "python3"
  },
  "language_info": {
   "codemirror_mode": {
    "name": "ipython",
    "version": 2
   },
   "file_extension": ".py",
   "mimetype": "text/x-python",
   "name": "python",
   "nbconvert_exporter": "python",
   "pygments_lexer": "ipython2",
   "version": "2.7.6"
  }
 },
 "nbformat": 4,
 "nbformat_minor": 5
}
