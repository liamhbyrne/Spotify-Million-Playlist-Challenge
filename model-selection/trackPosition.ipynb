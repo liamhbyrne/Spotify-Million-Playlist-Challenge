{
 "cells": [
  {
   "cell_type": "markdown",
   "source": [
    "## Investigating track position on playlist"
   ],
   "metadata": {
    "collapsed": false,
    "pycharm": {
     "name": "#%% md\n"
    }
   }
  },
  {
   "cell_type": "markdown",
   "source": [
    "*Imports*"
   ],
   "metadata": {
    "collapsed": false,
    "pycharm": {
     "name": "#%% md\n"
    }
   }
  },
  {
   "cell_type": "code",
   "execution_count": 40,
   "outputs": [],
   "source": [
    "import psycopg2\n",
    "import config\n",
    "import pandas as pd\n",
    "import matplotlib.pyplot as plt\n",
    "import seaborn as sns\n",
    "%matplotlib inline"
   ],
   "metadata": {
    "collapsed": false,
    "pycharm": {
     "name": "#%%\n"
    }
   }
  },
  {
   "cell_type": "code",
   "execution_count": 41,
   "outputs": [],
   "source": [
    "conn = psycopg2.connect(config.POSTGRES_ADDRESS)"
   ],
   "metadata": {
    "collapsed": false,
    "pycharm": {
     "name": "#%%\n"
    }
   }
  },
  {
   "cell_type": "code",
   "execution_count": 42,
   "outputs": [
    {
     "data": {
      "text/plain": "                              track_uri  relative_position\n0  spotify:track:0M9VqYG0wVun054JIdwFO8           0.000000\n1  spotify:track:3utIAb67sOu0QHxBE88P1M           0.006993\n2  spotify:track:1HwpWwa6bnqqRhK8agG4RS           0.013986\n3  spotify:track:0J1Wfjo9H3R62yaCuuNDZX           0.020979\n4  spotify:track:4I2GqMe7L2ccMpUbnDzYLH           0.027972",
      "text/html": "<div>\n<style scoped>\n    .dataframe tbody tr th:only-of-type {\n        vertical-align: middle;\n    }\n\n    .dataframe tbody tr th {\n        vertical-align: top;\n    }\n\n    .dataframe thead th {\n        text-align: right;\n    }\n</style>\n<table border=\"1\" class=\"dataframe\">\n  <thead>\n    <tr style=\"text-align: right;\">\n      <th></th>\n      <th>track_uri</th>\n      <th>relative_position</th>\n    </tr>\n  </thead>\n  <tbody>\n    <tr>\n      <th>0</th>\n      <td>spotify:track:0M9VqYG0wVun054JIdwFO8</td>\n      <td>0.000000</td>\n    </tr>\n    <tr>\n      <th>1</th>\n      <td>spotify:track:3utIAb67sOu0QHxBE88P1M</td>\n      <td>0.006993</td>\n    </tr>\n    <tr>\n      <th>2</th>\n      <td>spotify:track:1HwpWwa6bnqqRhK8agG4RS</td>\n      <td>0.013986</td>\n    </tr>\n    <tr>\n      <th>3</th>\n      <td>spotify:track:0J1Wfjo9H3R62yaCuuNDZX</td>\n      <td>0.020979</td>\n    </tr>\n    <tr>\n      <th>4</th>\n      <td>spotify:track:4I2GqMe7L2ccMpUbnDzYLH</td>\n      <td>0.027972</td>\n    </tr>\n  </tbody>\n</table>\n</div>"
     },
     "execution_count": 42,
     "metadata": {},
     "output_type": "execute_result"
    }
   ],
   "source": [
    "statement = '''\n",
    "    SELECT playlist_track.track_uri, (playlist_track.pos::decimal/playlist.num_tracks::decimal) AS relative_position\n",
    "    FROM playlist_track\n",
    "    JOIN playlist ON playlist_track.pid=playlist.pid\n",
    "    WHERE playlist.num_tracks > 10\n",
    "    LIMIT 1000000\n",
    "    '''\n",
    "df = pd.read_sql_query(statement, conn)\n",
    "df.head()"
   ],
   "metadata": {
    "collapsed": false,
    "pycharm": {
     "name": "#%%\n"
    }
   }
  },
  {
   "cell_type": "code",
   "execution_count": 43,
   "outputs": [],
   "source": [
    "conn.close()"
   ],
   "metadata": {
    "collapsed": false,
    "pycharm": {
     "name": "#%%\n"
    }
   }
  },
  {
   "cell_type": "code",
   "execution_count": 45,
   "outputs": [],
   "source": [
    "track_list = ['spotify:track:7KXjTSCq5nL1LoYtL7XAwS', 'spotify:track:1xznGGDReH1oQq0xzbwXa3',\n",
    "              'spotify:track:7yyRTcZmCiyzzJlNzGC9Ol', 'spotify:track:7w9bgPAmPTtrkt2v16QWvQ']\n",
    "curated_tracks = df.loc[df['track_uri'].isin(track_list)]"
   ],
   "metadata": {
    "collapsed": false,
    "pycharm": {
     "name": "#%%\n"
    }
   }
  },
  {
   "cell_type": "code",
   "execution_count": 46,
   "outputs": [
    {
     "data": {
      "text/plain": "<AxesSubplot:xlabel='track_uri', ylabel='relative_position'>"
     },
     "execution_count": 46,
     "metadata": {},
     "output_type": "execute_result"
    },
    {
     "data": {
      "text/plain": "<Figure size 432x288 with 1 Axes>",
      "image/png": "[encoded data removed]"
     },
     "metadata": {
      "needs_background": "light"
     },
     "output_type": "display_data"
    }
   ],
   "source": [
    "sns.boxplot(x='track_uri', y='relative_position', data=curated_tracks)"
   ],
   "metadata": {
    "collapsed": false,
    "pycharm": {
     "name": "#%%\n"
    }
   }
  }
 ],
 "metadata": {
  "kernelspec": {
   "display_name": "Python 3",
   "language": "python",
   "name": "python3"
  },
  "language_info": {
   "codemirror_mode": {
    "name": "ipython",
    "version": 2
   },
   "file_extension": ".py",
   "mimetype": "text/x-python",
   "name": "python",
   "nbconvert_exporter": "python",
   "pygments_lexer": "ipython2",
   "version": "2.7.6"
  },
  "pycharm": {
   "stem_cell": {
    "cell_type": "raw",
    "source": [],
    "metadata": {
     "collapsed": false
    }
   }
  }
 },
 "nbformat": 4,
 "nbformat_minor": 0
}