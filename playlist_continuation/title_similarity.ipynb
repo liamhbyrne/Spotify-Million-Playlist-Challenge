{
 "cells": [
  {
   "cell_type": "code",
   "execution_count": 16,
   "id": "initial_id",
   "metadata": {
    "collapsed": true,
    "ExecuteTime": {
     "end_time": "2024-05-06T20:47:48.098735Z",
     "start_time": "2024-05-06T20:47:48.078756Z"
    }
   },
   "outputs": [],
   "source": [
    "import pandas as pd\n",
    "import sqlite3\n",
    "import numpy as np\n",
    "import spacy\n",
    "from tqdm import tqdm\n",
    "import pickle\n",
    "tqdm.pandas()"
   ]
  },
  {
   "cell_type": "code",
   "outputs": [],
   "source": [
    "conn = sqlite3.connect('C:/spotify.db')"
   ],
   "metadata": {
    "collapsed": false,
    "ExecuteTime": {
     "end_time": "2024-05-06T20:18:45.023659Z",
     "start_time": "2024-05-06T20:18:45.009590Z"
    }
   },
   "id": "a85603314fd12249",
   "execution_count": 2
  },
  {
   "cell_type": "code",
   "outputs": [
    {
     "data": {
      "text/plain": "                      artist_name                             track_uri  \\\n0                     Nina Simone  spotify:track:2HDwGSgOBJD9lE3BF5JEec   \n1                     Nina Simone  spotify:track:61S0mEfdRtJ62Fc7fPqx0U   \n2                     Ray Charles  spotify:track:2xar08Fq5xra2KKZs5Bw9j   \n3                   Frank Sinatra  spotify:track:2y8Eez5cFFf2JzD546LThM   \n4                   Frank Sinatra  spotify:track:70oCQbSwh1a2iY08n3WfoD   \n...                           ...                                   ...   \n2262287      Ludwig van Beethoven  spotify:track:0j7J1eAab3ZxGssDi6zDS6   \n2262288     Johann Sebastian Bach  spotify:track:27Lw0hWfvxWhVrC5dkGI7o   \n2262289  London Conchord Ensemble  spotify:track:2w6qSS5stCN9CXZpqVJ2AH   \n2262290             Maurice Ravel  spotify:track:2yE3vqnLHCvf5kxg0DliUT   \n2262291     Johann Sebastian Bach  spotify:track:4kIKDIbcUrxd582Nr153Dv   \n\n                                                track_name  \n0                        Sinnerman - Live In New York/1965  \n1                                             Feeling Good  \n2                                         I've Got A Woman  \n3                                       Fly Me To The Moon  \n4                                              That's Life  \n...                                                    ...  \n2262287  Piano Sonata No.8 In C Minor, Op.13 - \"Patheti...  \n2262288  French Suite No. 4 in E-flat Major, BWV815: i....  \n2262289  Bach Concerto in D Minor for Two Violins, BWV ...  \n2262290  Ma mere l'oye (Mother Goose) (version for orch...  \n2262291  The Well-Tempered Clavier, Book 2, BWV 870-893...  \n\n[2262292 rows x 3 columns]",
      "text/html": "<div>\n<style scoped>\n    .dataframe tbody tr th:only-of-type {\n        vertical-align: middle;\n    }\n\n    .dataframe tbody tr th {\n        vertical-align: top;\n    }\n\n    .dataframe thead th {\n        text-align: right;\n    }\n</style>\n<table border=\"1\" class=\"dataframe\">\n  <thead>\n    <tr style=\"text-align: right;\">\n      <th></th>\n      <th>artist_name</th>\n      <th>track_uri</th>\n      <th>track_name</th>\n    </tr>\n  </thead>\n  <tbody>\n    <tr>\n      <th>0</th>\n      <td>Nina Simone</td>\n      <td>spotify:track:2HDwGSgOBJD9lE3BF5JEec</td>\n      <td>Sinnerman - Live In New York/1965</td>\n    </tr>\n    <tr>\n      <th>1</th>\n      <td>Nina Simone</td>\n      <td>spotify:track:61S0mEfdRtJ62Fc7fPqx0U</td>\n      <td>Feeling Good</td>\n    </tr>\n    <tr>\n      <th>2</th>\n      <td>Ray Charles</td>\n      <td>spotify:track:2xar08Fq5xra2KKZs5Bw9j</td>\n      <td>I've Got A Woman</td>\n    </tr>\n    <tr>\n      <th>3</th>\n      <td>Frank Sinatra</td>\n      <td>spotify:track:2y8Eez5cFFf2JzD546LThM</td>\n      <td>Fly Me To The Moon</td>\n    </tr>\n    <tr>\n      <th>4</th>\n      <td>Frank Sinatra</td>\n      <td>spotify:track:70oCQbSwh1a2iY08n3WfoD</td>\n      <td>That's Life</td>\n    </tr>\n    <tr>\n      <th>...</th>\n      <td>...</td>\n      <td>...</td>\n      <td>...</td>\n    </tr>\n    <tr>\n      <th>2262287</th>\n      <td>Ludwig van Beethoven</td>\n      <td>spotify:track:0j7J1eAab3ZxGssDi6zDS6</td>\n      <td>Piano Sonata No.8 In C Minor, Op.13 - \"Patheti...</td>\n    </tr>\n    <tr>\n      <th>2262288</th>\n      <td>Johann Sebastian Bach</td>\n      <td>spotify:track:27Lw0hWfvxWhVrC5dkGI7o</td>\n      <td>French Suite No. 4 in E-flat Major, BWV815: i....</td>\n    </tr>\n    <tr>\n      <th>2262289</th>\n      <td>London Conchord Ensemble</td>\n      <td>spotify:track:2w6qSS5stCN9CXZpqVJ2AH</td>\n      <td>Bach Concerto in D Minor for Two Violins, BWV ...</td>\n    </tr>\n    <tr>\n      <th>2262290</th>\n      <td>Maurice Ravel</td>\n      <td>spotify:track:2yE3vqnLHCvf5kxg0DliUT</td>\n      <td>Ma mere l'oye (Mother Goose) (version for orch...</td>\n    </tr>\n    <tr>\n      <th>2262291</th>\n      <td>Johann Sebastian Bach</td>\n      <td>spotify:track:4kIKDIbcUrxd582Nr153Dv</td>\n      <td>The Well-Tempered Clavier, Book 2, BWV 870-893...</td>\n    </tr>\n  </tbody>\n</table>\n<p>2262292 rows × 3 columns</p>\n</div>"
     },
     "execution_count": 22,
     "metadata": {},
     "output_type": "execute_result"
    }
   ],
   "source": [
    "sql_query = '''\n",
    "    SELECT \n",
    "        artist.artist_name,\n",
    "        track.track_uri, \n",
    "        track.track_name\n",
    "    FROM track\n",
    "    JOIN album ON track.album_uri = album.album_uri\n",
    "    JOIN artist ON album.artist_uri = artist.artist_uri\n",
    "'''\n",
    "track_df = pd.read_sql_query(sql_query, conn)\n",
    "track_df"
   ],
   "metadata": {
    "collapsed": false,
    "ExecuteTime": {
     "end_time": "2024-05-06T20:50:57.379695Z",
     "start_time": "2024-05-06T20:49:59.967980Z"
    }
   },
   "id": "14e9cd4ba9f73652",
   "execution_count": 22
  },
  {
   "cell_type": "code",
   "outputs": [],
   "source": [
    "with open(r\"C:\\Users\\Sam\\spotify\\song_embeddings.pkl\", 'rb') as f:\n",
    "    embeddings_dict = pickle.load(f)"
   ],
   "metadata": {
    "collapsed": false,
    "ExecuteTime": {
     "end_time": "2024-05-06T20:48:54.515367Z",
     "start_time": "2024-05-06T20:48:35.552016Z"
    }
   },
   "id": "d9ec3de25444d864",
   "execution_count": 20
  },
  {
   "cell_type": "code",
   "outputs": [
    {
     "data": {
      "text/plain": "array([-0.36927438,  0.9229998 ,  0.78838503,  0.50456417, -0.5490132 ,\n       -1.0426029 ,  0.35952175, -0.608865  ,  0.10243092,  0.2649767 ,\n        0.03310614,  0.31028834, -0.7059179 ,  1.1078572 , -0.16028902,\n       -0.931207  , -0.08627288, -1.2794883 ,  0.36061698, -0.15389757,\n        1.3357977 , -1.2118173 ,  0.49112654, -0.86701137, -0.55779487,\n        0.8887201 , -1.0586736 ,  0.7145269 ,  0.30209488, -0.96451336,\n        0.10157688, -0.826951  ,  1.2119412 , -0.24279037, -0.44545886,\n        0.6405409 , -1.0130908 , -0.6756321 , -1.1218574 , -0.7544207 ,\n        0.21352383,  1.1315243 ,  0.87437296,  0.08632185,  0.19946931,\n        0.5584908 , -0.32062554, -0.99118674, -0.45849773,  0.6986598 ,\n       -0.71683717,  0.1918522 ,  0.46195802, -0.64970446, -0.6656138 ,\n       -0.11017503, -0.39030185, -0.32123494,  0.31253478,  0.9219208 ,\n       -0.72206265, -0.54723114, -0.00992155,  0.14516163], dtype=float32)"
     },
     "execution_count": 26,
     "metadata": {},
     "output_type": "execute_result"
    }
   ],
   "source": [
    "embeddings_dict[\"spotify:track:1vrd6UOGamcKNGnSHJQlSt\"]"
   ],
   "metadata": {
    "collapsed": false,
    "ExecuteTime": {
     "end_time": "2024-05-06T20:52:16.614394Z",
     "start_time": "2024-05-06T20:52:16.592417Z"
    }
   },
   "id": "d058c2dc8458a416",
   "execution_count": 26
  },
  {
   "cell_type": "code",
   "outputs": [],
   "source": [
    "track_uris, embeddings = zip(*embeddings_dict.items())\n",
    "track_uris = np.array(track_uris)\n",
    "embeddings_matrix = np.stack([value for value in embeddings])\n",
    "global_average_embedding = np.mean(embeddings_matrix, axis=0)"
   ],
   "metadata": {
    "collapsed": false,
    "ExecuteTime": {
     "end_time": "2024-05-06T20:53:51.079214Z",
     "start_time": "2024-05-06T20:53:37.280570Z"
    }
   },
   "id": "21389dce280aa4b6",
   "execution_count": 28
  },
  {
   "cell_type": "code",
   "outputs": [],
   "source": [
    "def get_closest(artist: str, track: str, n: int):\n",
    "    track_emb = track_df[(track_df[\"artist_name\"] == artist) & (track_df[\"track_name\"] == track)][\"track_uri\"].values[0]\n",
    "    scores = np.dot(embeddings_matrix, track_emb)\n",
    "    top_n_indices = np.argpartition(scores, n)[:n]\n",
    "    top_n_track_uris = track_uris[top_n_indices].tolist()\n",
    "    return track_df[track_df[\"track_uri\"].isin(top_n_track_uris)]"
   ],
   "metadata": {
    "collapsed": false,
    "ExecuteTime": {
     "end_time": "2024-05-06T20:58:49.372626Z",
     "start_time": "2024-05-06T20:58:49.360639Z"
    }
   },
   "id": "e50b14d1cc657035",
   "execution_count": 34
  },
  {
   "cell_type": "code",
   "outputs": [
    {
     "ename": "MemoryError",
     "evalue": "Unable to allocate 17.3 GiB for an array with shape (2262292, 64) and data type <U32",
     "output_type": "error",
     "traceback": [
      "\u001B[1;31m---------------------------------------------------------------------------\u001B[0m",
      "\u001B[1;31mMemoryError\u001B[0m                               Traceback (most recent call last)",
      "Cell \u001B[1;32mIn[35], line 1\u001B[0m\n\u001B[1;32m----> 1\u001B[0m \u001B[43mget_closest\u001B[49m\u001B[43m(\u001B[49m\u001B[38;5;124;43m\"\u001B[39;49m\u001B[38;5;124;43mTaylor Swift\u001B[39;49m\u001B[38;5;124;43m\"\u001B[39;49m\u001B[43m,\u001B[49m\u001B[43m \u001B[49m\u001B[38;5;124;43m\"\u001B[39;49m\u001B[38;5;124;43mLove Story\u001B[39;49m\u001B[38;5;124;43m\"\u001B[39;49m\u001B[43m,\u001B[49m\u001B[43m \u001B[49m\u001B[38;5;241;43m50\u001B[39;49m\u001B[43m)\u001B[49m\n",
      "Cell \u001B[1;32mIn[34], line 3\u001B[0m, in \u001B[0;36mget_closest\u001B[1;34m(artist, track, n)\u001B[0m\n\u001B[0;32m      1\u001B[0m \u001B[38;5;28;01mdef\u001B[39;00m \u001B[38;5;21mget_closest\u001B[39m(artist: \u001B[38;5;28mstr\u001B[39m, track: \u001B[38;5;28mstr\u001B[39m, n: \u001B[38;5;28mint\u001B[39m) \u001B[38;5;241m-\u001B[39m\u001B[38;5;241m>\u001B[39m \u001B[38;5;28mtuple\u001B[39m:\n\u001B[0;32m      2\u001B[0m     track_emb \u001B[38;5;241m=\u001B[39m track_df[(track_df[\u001B[38;5;124m\"\u001B[39m\u001B[38;5;124martist_name\u001B[39m\u001B[38;5;124m\"\u001B[39m] \u001B[38;5;241m==\u001B[39m artist) \u001B[38;5;241m&\u001B[39m (track_df[\u001B[38;5;124m\"\u001B[39m\u001B[38;5;124mtrack_name\u001B[39m\u001B[38;5;124m\"\u001B[39m] \u001B[38;5;241m==\u001B[39m track)][\u001B[38;5;124m\"\u001B[39m\u001B[38;5;124mtrack_uri\u001B[39m\u001B[38;5;124m\"\u001B[39m]\u001B[38;5;241m.\u001B[39mvalues[\u001B[38;5;241m0\u001B[39m]\n\u001B[1;32m----> 3\u001B[0m     scores \u001B[38;5;241m=\u001B[39m \u001B[43mnp\u001B[49m\u001B[38;5;241;43m.\u001B[39;49m\u001B[43mdot\u001B[49m\u001B[43m(\u001B[49m\u001B[43membeddings_matrix\u001B[49m\u001B[43m,\u001B[49m\u001B[43m \u001B[49m\u001B[43mtrack_emb\u001B[49m\u001B[43m)\u001B[49m\n\u001B[0;32m      4\u001B[0m     top_n_indices \u001B[38;5;241m=\u001B[39m np\u001B[38;5;241m.\u001B[39margpartition(scores, n)[:n]\n\u001B[0;32m      5\u001B[0m     top_n_track_uris \u001B[38;5;241m=\u001B[39m track_uris[top_n_indices]\u001B[38;5;241m.\u001B[39mtolist()\n",
      "\u001B[1;31mMemoryError\u001B[0m: Unable to allocate 17.3 GiB for an array with shape (2262292, 64) and data type <U32"
     ]
    }
   ],
   "source": [
    "get_closest(\"Taylor Swift\", \"Love Story\", 50)"
   ],
   "metadata": {
    "collapsed": false,
    "ExecuteTime": {
     "end_time": "2024-05-06T20:59:02.342524Z",
     "start_time": "2024-05-06T20:59:01.712169Z"
    }
   },
   "id": "6c743edd51a322d5",
   "execution_count": 35
  },
  {
   "cell_type": "code",
   "outputs": [
    {
     "data": {
      "text/plain": "           pid     playlist_name  num_tracks\n0            0        Throwbacks          52\n1            1  Awesome Playlist          39\n2            2           korean           64\n3            3               mat         126\n4            4               90s          17\n...        ...               ...         ...\n999995  999995            Praise          32\n999996  999996           Worship         122\n999997  999997               Sex          24\n999998  999998                ✝️          11\n999999  999999             BANDA         110\n\n[1000000 rows x 3 columns]",
      "text/html": "<div>\n<style scoped>\n    .dataframe tbody tr th:only-of-type {\n        vertical-align: middle;\n    }\n\n    .dataframe tbody tr th {\n        vertical-align: top;\n    }\n\n    .dataframe thead th {\n        text-align: right;\n    }\n</style>\n<table border=\"1\" class=\"dataframe\">\n  <thead>\n    <tr style=\"text-align: right;\">\n      <th></th>\n      <th>pid</th>\n      <th>playlist_name</th>\n      <th>num_tracks</th>\n    </tr>\n  </thead>\n  <tbody>\n    <tr>\n      <th>0</th>\n      <td>0</td>\n      <td>Throwbacks</td>\n      <td>52</td>\n    </tr>\n    <tr>\n      <th>1</th>\n      <td>1</td>\n      <td>Awesome Playlist</td>\n      <td>39</td>\n    </tr>\n    <tr>\n      <th>2</th>\n      <td>2</td>\n      <td>korean</td>\n      <td>64</td>\n    </tr>\n    <tr>\n      <th>3</th>\n      <td>3</td>\n      <td>mat</td>\n      <td>126</td>\n    </tr>\n    <tr>\n      <th>4</th>\n      <td>4</td>\n      <td>90s</td>\n      <td>17</td>\n    </tr>\n    <tr>\n      <th>...</th>\n      <td>...</td>\n      <td>...</td>\n      <td>...</td>\n    </tr>\n    <tr>\n      <th>999995</th>\n      <td>999995</td>\n      <td>Praise</td>\n      <td>32</td>\n    </tr>\n    <tr>\n      <th>999996</th>\n      <td>999996</td>\n      <td>Worship</td>\n      <td>122</td>\n    </tr>\n    <tr>\n      <th>999997</th>\n      <td>999997</td>\n      <td>Sex</td>\n      <td>24</td>\n    </tr>\n    <tr>\n      <th>999998</th>\n      <td>999998</td>\n      <td>✝️</td>\n      <td>11</td>\n    </tr>\n    <tr>\n      <th>999999</th>\n      <td>999999</td>\n      <td>BANDA</td>\n      <td>110</td>\n    </tr>\n  </tbody>\n</table>\n<p>1000000 rows × 3 columns</p>\n</div>"
     },
     "execution_count": 3,
     "metadata": {},
     "output_type": "execute_result"
    }
   ],
   "source": [
    "sql_query = '''\n",
    "    SELECT \n",
    "        playlist.pid, \n",
    "        playlist.playlist_name,\n",
    "        playlist.num_tracks \n",
    "    FROM playlist\n",
    "'''\n",
    "df = pd.read_sql_query(sql_query, conn)\n",
    "df"
   ],
   "metadata": {
    "collapsed": false,
    "ExecuteTime": {
     "end_time": "2024-05-06T20:18:46.889490Z",
     "start_time": "2024-05-06T20:18:45.024618Z"
    }
   },
   "id": "a0bef4393de294e1",
   "execution_count": 3
  },
  {
   "cell_type": "code",
   "outputs": [],
   "source": [
    "nlp = spacy.load('en_core_web_lg')\n",
    "\n",
    "def word2vec(word: str):\n",
    "    return nlp(word).vector"
   ],
   "metadata": {
    "collapsed": false,
    "ExecuteTime": {
     "end_time": "2024-05-06T20:18:50.216176Z",
     "start_time": "2024-05-06T20:18:46.892448Z"
    }
   },
   "id": "539c45b546e14264",
   "execution_count": 4
  },
  {
   "cell_type": "code",
   "outputs": [],
   "source": [
    "# convert the name of the playlist into an embedding\n",
    "def name_to_vec(name: str):\n",
    "    return np.mean([word2vec(word) for word in name.split()], axis=0)"
   ],
   "metadata": {
    "collapsed": false,
    "ExecuteTime": {
     "end_time": "2024-05-06T20:18:50.232157Z",
     "start_time": "2024-05-06T20:18:50.217175Z"
    }
   },
   "id": "302b9f739b843dd8",
   "execution_count": 5
  },
  {
   "cell_type": "code",
   "outputs": [
    {
     "data": {
      "text/plain": "994587"
     },
     "execution_count": 6,
     "metadata": {},
     "output_type": "execute_result"
    }
   ],
   "source": [
    "df = df[df[\"num_tracks\"] > 5]\n",
    "len(df)"
   ],
   "metadata": {
    "collapsed": false,
    "ExecuteTime": {
     "end_time": "2024-05-06T20:18:50.295094Z",
     "start_time": "2024-05-06T20:18:50.234157Z"
    }
   },
   "id": "b49f1347a7398d8",
   "execution_count": 6
  },
  {
   "cell_type": "code",
   "outputs": [],
   "source": [
    "df = df.sample(10_000)"
   ],
   "metadata": {
    "collapsed": false,
    "ExecuteTime": {
     "end_time": "2024-05-06T20:18:50.358029Z",
     "start_time": "2024-05-06T20:18:50.296092Z"
    }
   },
   "id": "9dc39608ff0df444",
   "execution_count": 7
  },
  {
   "cell_type": "code",
   "outputs": [
    {
     "name": "stderr",
     "output_type": "stream",
     "text": [
      "100%|██████████| 10000/10000 [01:15<00:00, 133.01it/s]\n"
     ]
    }
   ],
   "source": [
    "df[\"emb\"] = df[\"playlist_name\"].progress_apply(name_to_vec)"
   ],
   "metadata": {
    "collapsed": false,
    "ExecuteTime": {
     "end_time": "2024-05-06T20:20:05.564449Z",
     "start_time": "2024-05-06T20:18:50.359029Z"
    }
   },
   "id": "ad0e881897ac503d",
   "execution_count": 8
  },
  {
   "cell_type": "code",
   "outputs": [
    {
     "data": {
      "text/plain": "           pid                 playlist_name  num_tracks  \\\n995463  995463                  Classic Rock         174   \n566390  566390  Sweat like the Pros Playlist          31   \n584832  584832                       Freedom          16   \n367739  367739                         alexa          57   \n40116    40116                        Te Amo         114   \n...        ...                           ...         ...   \n201185  201185                    background          25   \n833628  833628                      My Songs         204   \n783545  783545                          Love          33   \n596550  596550                    My Country          19   \n654579  654579                     road trip          22   \n\n                                                      emb  \n995463  [-2.41615, -2.206575, 3.4168, -0.4584, 4.15445...  \n566390  [-0.92302406, -0.7314321, -0.06482003, 0.73863...  \n584832  [0.23445, -1.5379, -0.79468, 2.3486, 4.5527, -...  \n367739  [1.5555, 1.3354, -0.8374, 0.63024, -2.3189, 0....  \n40116   [-0.177225, 3.1457, 4.102245, -5.8094997, -3.2...  \n...                                                   ...  \n201185  [-0.65939, -1.4118, -2.5557, 0.61374, 1.7389, ...  \n833628  [2.31425, -0.36640006, -5.976115, -4.87505, 3....  \n783545  [-0.83787, -1.9779, 1.3557, -1.231, 3.4842, -3...  \n596550  [3.691945, 1.078375, -4.4241, -4.7962503, 4.36...  \n654579  [-2.22484, 6.9686003, -1.1052499, -5.8142996, ...  \n\n[10000 rows x 4 columns]",
      "text/html": "<div>\n<style scoped>\n    .dataframe tbody tr th:only-of-type {\n        vertical-align: middle;\n    }\n\n    .dataframe tbody tr th {\n        vertical-align: top;\n    }\n\n    .dataframe thead th {\n        text-align: right;\n    }\n</style>\n<table border=\"1\" class=\"dataframe\">\n  <thead>\n    <tr style=\"text-align: right;\">\n      <th></th>\n      <th>pid</th>\n      <th>playlist_name</th>\n      <th>num_tracks</th>\n      <th>emb</th>\n    </tr>\n  </thead>\n  <tbody>\n    <tr>\n      <th>995463</th>\n      <td>995463</td>\n      <td>Classic Rock</td>\n      <td>174</td>\n      <td>[-2.41615, -2.206575, 3.4168, -0.4584, 4.15445...</td>\n    </tr>\n    <tr>\n      <th>566390</th>\n      <td>566390</td>\n      <td>Sweat like the Pros Playlist</td>\n      <td>31</td>\n      <td>[-0.92302406, -0.7314321, -0.06482003, 0.73863...</td>\n    </tr>\n    <tr>\n      <th>584832</th>\n      <td>584832</td>\n      <td>Freedom</td>\n      <td>16</td>\n      <td>[0.23445, -1.5379, -0.79468, 2.3486, 4.5527, -...</td>\n    </tr>\n    <tr>\n      <th>367739</th>\n      <td>367739</td>\n      <td>alexa</td>\n      <td>57</td>\n      <td>[1.5555, 1.3354, -0.8374, 0.63024, -2.3189, 0....</td>\n    </tr>\n    <tr>\n      <th>40116</th>\n      <td>40116</td>\n      <td>Te Amo</td>\n      <td>114</td>\n      <td>[-0.177225, 3.1457, 4.102245, -5.8094997, -3.2...</td>\n    </tr>\n    <tr>\n      <th>...</th>\n      <td>...</td>\n      <td>...</td>\n      <td>...</td>\n      <td>...</td>\n    </tr>\n    <tr>\n      <th>201185</th>\n      <td>201185</td>\n      <td>background</td>\n      <td>25</td>\n      <td>[-0.65939, -1.4118, -2.5557, 0.61374, 1.7389, ...</td>\n    </tr>\n    <tr>\n      <th>833628</th>\n      <td>833628</td>\n      <td>My Songs</td>\n      <td>204</td>\n      <td>[2.31425, -0.36640006, -5.976115, -4.87505, 3....</td>\n    </tr>\n    <tr>\n      <th>783545</th>\n      <td>783545</td>\n      <td>Love</td>\n      <td>33</td>\n      <td>[-0.83787, -1.9779, 1.3557, -1.231, 3.4842, -3...</td>\n    </tr>\n    <tr>\n      <th>596550</th>\n      <td>596550</td>\n      <td>My Country</td>\n      <td>19</td>\n      <td>[3.691945, 1.078375, -4.4241, -4.7962503, 4.36...</td>\n    </tr>\n    <tr>\n      <th>654579</th>\n      <td>654579</td>\n      <td>road trip</td>\n      <td>22</td>\n      <td>[-2.22484, 6.9686003, -1.1052499, -5.8142996, ...</td>\n    </tr>\n  </tbody>\n</table>\n<p>10000 rows × 4 columns</p>\n</div>"
     },
     "execution_count": 9,
     "metadata": {},
     "output_type": "execute_result"
    }
   ],
   "source": [
    "df"
   ],
   "metadata": {
    "collapsed": false,
    "ExecuteTime": {
     "end_time": "2024-05-06T20:20:05.595473Z",
     "start_time": "2024-05-06T20:20:05.565443Z"
    }
   },
   "id": "5b1097cc369c53dd",
   "execution_count": 9
  },
  {
   "cell_type": "code",
   "outputs": [
    {
     "name": "stderr",
     "output_type": "stream",
     "text": [
      "100%|██████████| 10000/10000 [01:14<00:00, 134.63it/s]\n"
     ]
    }
   ],
   "source": [
    "embeddings = df[\"playlist_name\"].progress_apply(name_to_vec)"
   ],
   "metadata": {
    "collapsed": false,
    "ExecuteTime": {
     "end_time": "2024-05-06T20:23:41.467121Z",
     "start_time": "2024-05-06T20:22:27.165677Z"
    }
   },
   "id": "b27d9f3eb3e7bf3f",
   "execution_count": 11
  },
  {
   "cell_type": "code",
   "outputs": [],
   "source": [
    "embeddings.numpy()"
   ],
   "metadata": {
    "collapsed": false,
    "ExecuteTime": {
     "end_time": "2024-05-06T20:29:01.304598Z",
     "start_time": "2024-05-06T20:29:01.272630Z"
    }
   },
   "id": "1a839412e115b818",
   "execution_count": null
  },
  {
   "cell_type": "code",
   "outputs": [
    {
     "data": {
      "text/plain": "pid                                                         479230\nplaylist_name                                                greys\nnum_tracks                                                      12\nemb              [-1.7195, 1.4451, -2.6019, 0.23826, -1.6756, -...\nName: 479230, dtype: object"
     },
     "execution_count": 10,
     "metadata": {},
     "output_type": "execute_result"
    }
   ],
   "source": [
    "df.iloc[100]"
   ],
   "metadata": {
    "collapsed": false,
    "ExecuteTime": {
     "end_time": "2024-05-06T20:20:05.611453Z",
     "start_time": "2024-05-06T20:20:05.597453Z"
    }
   },
   "id": "cc3e80aef516abb7",
   "execution_count": 10
  },
  {
   "cell_type": "code",
   "outputs": [],
   "source": [],
   "metadata": {
    "collapsed": false,
    "ExecuteTime": {
     "end_time": "2024-05-06T20:20:05.627424Z",
     "start_time": "2024-05-06T20:20:05.613437Z"
    }
   },
   "id": "d00bb7deb82d1842",
   "execution_count": 10
  }
 ],
 "metadata": {
  "kernelspec": {
   "display_name": "Python 3",
   "language": "python",
   "name": "python3"
  },
  "language_info": {
   "codemirror_mode": {
    "name": "ipython",
    "version": 2
   },
   "file_extension": ".py",
   "mimetype": "text/x-python",
   "name": "python",
   "nbconvert_exporter": "python",
   "pygments_lexer": "ipython2",
   "version": "2.7.6"
  }
 },
 "nbformat": 4,
 "nbformat_minor": 5
}
