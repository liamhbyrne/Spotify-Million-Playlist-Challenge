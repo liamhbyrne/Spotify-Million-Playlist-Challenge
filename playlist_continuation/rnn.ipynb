{
 "cells": [
  {
   "metadata": {
    "ExecuteTime": {
     "end_time": "2024-05-06T17:52:57.876894Z",
     "start_time": "2024-05-06T17:52:51.825684Z"
    }
   },
   "cell_type": "code",
   "source": [
    "import cursor\n",
    "import torch\n",
    "\n",
    "print(torch.__version__)\n",
    "print(torch.cuda.is_available())"
   ],
   "outputs": [
    {
     "name": "stdout",
     "output_type": "stream",
     "text": [
      "2.0.0+cu118\n",
      "True\n"
     ]
    }
   ],
   "execution_count": 1
  },
  {
   "metadata": {
    "ExecuteTime": {
     "end_time": "2024-05-06T17:52:58.034500Z",
     "start_time": "2024-05-06T17:52:57.877919Z"
    }
   },
   "cell_type": "code",
   "source": [
    "import pickle\n",
    "\n",
    "with open('../data_storage/CBOW_run_1M_min_5_PP@2024-04-26-10-27-43_con5_pl1000000_emb64_ep1-track2idx.pkl', 'rb') as f:\n",
    "    data_uris = pickle.load(f)"
   ],
   "outputs": [],
   "execution_count": 2
  },
  {
   "cell_type": "code",
   "metadata": {
    "ExecuteTime": {
     "end_time": "2024-05-06T17:52:58.335764Z",
     "start_time": "2024-05-06T17:52:58.035480Z"
    }
   },
   "source": [
    "import torch\n",
    "\n",
    "# Load the model\n",
    "model_data = torch.load('../data_storage/CBOW_run_1M_min_5_PP@2024-04-26-10-27-43_con5_pl1000000_emb64_ep1.pt', map_location=torch.device('cpu'))\n",
    "\n",
    "# Access embeddings and layers\n",
    "embeddings = model_data['embedding.weight']"
   ],
   "outputs": [],
   "execution_count": 3
  },
  {
   "cell_type": "code",
   "metadata": {
    "ExecuteTime": {
     "end_time": "2024-05-06T17:53:00.059906Z",
     "start_time": "2024-05-06T17:52:58.336762Z"
    }
   },
   "source": [
    "# Creating a dictionary of song uri's and their corresponding embeddings\n",
    "embeddings_dict = {}\n",
    "\n",
    "for uri, idx in iter(data_uris.items()):\n",
    "    embeddings_dict[uri] = embeddings[idx]\n"
   ],
   "outputs": [],
   "execution_count": 4
  },
  {
   "cell_type": "code",
   "metadata": {
    "ExecuteTime": {
     "end_time": "2024-05-06T17:53:00.106781Z",
     "start_time": "2024-05-06T17:53:00.060904Z"
    }
   },
   "source": [
    "# Average embedding calculated to use as PAD embedding\n",
    "\n",
    "average_embedding = torch.mean(embeddings, dim=0)\n",
    "average_embedding.unsqueeze(0)"
   ],
   "outputs": [
    {
     "data": {
      "text/plain": [
       "tensor([[-0.2239, -0.1767, -0.1768,  0.0902,  0.1923,  0.0818, -0.1311, -0.2306,\n",
       "         -0.1818, -0.2775,  0.1100,  0.2362,  0.1705, -0.1840,  0.2217,  0.1891,\n",
       "         -0.1653, -0.2227, -0.2156, -0.2622,  0.1852, -0.2316, -0.2309, -0.2677,\n",
       "         -0.2711,  0.1375,  0.2533, -0.2247, -0.2740, -0.2182, -0.1831, -0.0821,\n",
       "         -0.2757, -0.0676, -0.1172,  0.1671, -0.1226, -0.2171, -0.0354,  0.2321,\n",
       "         -0.2044,  0.0036,  0.2123,  0.2110, -0.1658, -0.2394,  0.2912,  0.1897,\n",
       "         -0.2654, -0.1867, -0.1602,  0.1672, -0.2275, -0.1471, -0.2599,  0.1432,\n",
       "         -0.2142,  0.2324,  0.2473, -0.0061,  0.1438,  0.1202,  0.2522,  0.0536]])"
      ]
     },
     "execution_count": 5,
     "metadata": {},
     "output_type": "execute_result"
    }
   ],
   "execution_count": 5
  },
  {
   "cell_type": "code",
   "metadata": {
    "ExecuteTime": {
     "end_time": "2024-05-06T17:58:03.784097Z",
     "start_time": "2024-05-06T17:53:00.107778Z"
    }
   },
   "source": [
    "# creation of dataframe where each row holds a playlist id, name, songs and artists\n",
    "\n",
    "import sqlite3\n",
    "import pandas as pd\n",
    "\n",
    "# # Connect to the SQLite database\n",
    "# conn = sqlite3.connect('../data_storage/spotify.db')\n",
    "\n",
    "# # Define the SQL query to retrieve playlist information\n",
    "# sql_query = '''\n",
    "#     SELECT playlist_track.pid, playlist.playlist_name, artist.artist_name, track.track_uri\n",
    "#     FROM playlist_track\n",
    "#     JOIN track ON playlist_track.track_uri = track.track_uri\n",
    "#     JOIN album ON track.album_uri = album.album_uri\n",
    "#     JOIN artist ON album.artist_uri = artist.artist_uri\n",
    "#     JOIN playlist ON playlist_track.pid = playlist.pid\n",
    "# '''\n",
    "\n",
    "# # Execute the SQL query and load results into a DataFrame\n",
    "# df = pd.read_sql_query(sql_query, conn)\n",
    "\n",
    "# # Group by playlist ID and aggregate artists and songs into lists\n",
    "# grouped = df.groupby(['pid', 'playlist_name']).agg({\n",
    "#     'artist_name': lambda x: list(x),\n",
    "#     'track_uri': lambda x: list(x)\n",
    "# }).reset_index()\n",
    "\n",
    "# # Rename columns for clarity\n",
    "# grouped.rename(columns={'artist_name': 'artists', 'track_uri': 'songs'}, inplace=True)\n",
    "\n",
    "# # Close the database connection\n",
    "# conn.close()\n",
    "\n",
    "# grouped.to_csv('back_up.csv', index=False)\n",
    "\n",
    "import ast\n",
    "grouped = pd.read_csv('back_up.csv')\n",
    "grouped['artists'] = grouped['artists'].apply(ast.literal_eval)\n",
    "grouped['songs'] = grouped['songs'].apply(ast.literal_eval)\n"
   ],
   "outputs": [],
   "execution_count": 6
  },
  {
   "cell_type": "code",
   "metadata": {
    "ExecuteTime": {
     "end_time": "2024-05-06T17:58:03.846133Z",
     "start_time": "2024-05-06T17:58:03.812143Z"
    }
   },
   "source": [
    "# # Save time by saving dataframe to a CSV file.\n",
    "# grouped.to_csv('back_up.csv', index=False)\n",
    "# # read_from_csv = False"
   ],
   "outputs": [],
   "execution_count": 7
  },
  {
   "metadata": {
    "ExecuteTime": {
     "end_time": "2024-05-06T17:58:10.980199Z",
     "start_time": "2024-05-06T17:58:03.848127Z"
    }
   },
   "cell_type": "code",
   "source": [
    "# Load artist embeddings from pickle file\n",
    "with open(\"../data_storage/artist_embeddings.pkl\", \"rb\") as f:\n",
    "    artist_embeddings = pickle.load(f)\n",
    "\n",
    "# Load playlist name embeddings from pickle file\n",
    "with open(\"../data_storage/playlist_name_embeddings.pkl\", \"rb\") as f:\n",
    "    playlist_embeddings = pickle.load(f)"
   ],
   "outputs": [],
   "execution_count": 8
  },
  {
   "metadata": {
    "ExecuteTime": {
     "end_time": "2024-05-06T17:58:12.104970Z",
     "start_time": "2024-05-06T17:58:10.984188Z"
    }
   },
   "cell_type": "code",
   "source": [
    "conn = sqlite3.connect('../data_storage/spotify.db')\n",
    "\n",
    "# Define the SQL query to retrieve playlist information\n",
    "sql_query = '''\n",
    "    SELECT * FROM artist;\n",
    "'''\n",
    "\n",
    "# Execute the SQL query and load results into a DataFrame\n",
    "artist_df = pd.read_sql_query(sql_query, conn)\n",
    "\n"
   ],
   "outputs": [],
   "execution_count": 9
  },
  {
   "metadata": {
    "ExecuteTime": {
     "end_time": "2024-05-06T18:14:22.685067Z",
     "start_time": "2024-05-06T18:14:22.432714Z"
    }
   },
   "cell_type": "code",
   "source": [
    "artist_dict = artist_df.set_index('artist_name')['artist_uri'].to_dict()\n",
    "# artist_embeddings['The Apryl Fool']\n",
    "# artist_embeddings['spotify:artist:7hJcb9fa4alzcOq3EaNPoG']"
   ],
   "outputs": [],
   "execution_count": 24
  },
  {
   "cell_type": "code",
   "metadata": {
    "ExecuteTime": {
     "end_time": "2024-05-06T18:18:26.269977Z",
     "start_time": "2024-05-06T18:18:25.887999Z"
    }
   },
   "source": [
    "from sklearn.model_selection import train_test_split\n",
    "import random\n",
    "import ast\n",
    "\n",
    "#first clean dataset and remove playlists with < 15 songs??????\n",
    "filtered_grouped = grouped[grouped['songs'].apply(len) >= 15]\n",
    "\n",
    "def createDatasets(filtered_grouped, k, read_from_csv, embeddings_dict, average_embedding, artist_dict, artist_embeddings, playlist_embeddings_dict):\n",
    "    # Split data into train and test sets\n",
    "    train_df, test_df = train_test_split(filtered_grouped, test_size=0.2, random_state=42)\n",
    "\n",
    "    # Function to process each subset (train/test)\n",
    "    def process_data(df, read_from_csv, k):\n",
    "        tensors = []  # Holds the tensor of concatenated song, artist, and playlist embeddings for each playlist\n",
    "        remaining_songs = []  # Holds the remaining songs in the playlist to be predicted\n",
    "\n",
    "        for _, row in df.iterrows():\n",
    "            p_songs = row['songs']\n",
    "            p_artists = row['artists']\n",
    "            playlist_name = row['playlist_name']\n",
    "            if read_from_csv and isinstance(p_songs, str):\n",
    "                p_songs = ast.literal_eval(p_songs)\n",
    "                p_artists = ast.literal_eval(p_artists)\n",
    "\n",
    "            if len(p_songs) >= k:\n",
    "                selected_songs = random.sample(p_songs, k)\n",
    "                selected_artists = [p_artists[p_songs.index(song)] for song in selected_songs]\n",
    "\n",
    "                playlist_embedding = playlist_embeddings_dict.get(playlist_name, torch.zeros_like(average_embedding))\n",
    "\n",
    "                # Retrieve and concatenate artist embeddings to track embeddings, and add playlist embeddings\n",
    "                p_embeddings = []\n",
    "                for song, artist in zip(selected_songs, selected_artists):\n",
    "                    song_embedding = embeddings_dict.get(song, average_embedding)\n",
    "                    artist_uri = artist_dict.get(artist, None)\n",
    "                    if artist_uri:\n",
    "                        artist_embedding = torch.tensor(artist_embeddings.get(artist_uri, torch.zeros_like(average_embedding)))\n",
    "                    else:\n",
    "                        artist_embedding = torch.zeros_like(average_embedding)\n",
    "                    \n",
    "                    if not isinstance(song_embedding, torch.Tensor) or not isinstance(artist_embedding, torch.Tensor):\n",
    "                        raise ValueError(\"Embedding is not a tensor.\")\n",
    "                    \n",
    "                    combined_embedding = torch.cat((song_embedding, artist_embedding, playlist_embedding), dim=0)\n",
    "                    p_embeddings.append(combined_embedding)\n",
    "\n",
    "                tensors.append(torch.stack(p_embeddings, dim=0))\n",
    "                remaining_songs.append([song for song in p_songs if song not in selected_songs])\n",
    "\n",
    "        # Convert embeddings to tensors\n",
    "        tensor = torch.stack(tensors, dim=0) if tensors else torch.tensor([])\n",
    "\n",
    "        return tensor, remaining_songs\n",
    "\n",
    "    # Process training data\n",
    "    x_train, y_train = process_data(train_df, read_from_csv, k)\n",
    "    \n",
    "    # Process testing data\n",
    "    x_test, y_test = process_data(test_df, read_from_csv, k)\n",
    "    \n",
    "    return x_train, y_train, x_test, y_test\n",
    "\n",
    "# def createDatasets(filtered_grouped, k, read_from_csv, embeddings_dict, average_embedding):\n",
    "#     # Split data into train and test sets\n",
    "#     train_df, test_df = train_test_split(filtered_grouped, test_size=0.2, random_state=42)\n",
    "#     \n",
    "#     # Function to process each subset (train/test)\n",
    "#     def process_data(df, read_from_csv, k):\n",
    "#         embeddings = []  # Holds the embeddings of k songs in the playlist\n",
    "#         remaining_songs = []  # Holds the remaining songs in the playlist to be predicted\n",
    "#         \n",
    "#         for _, row in df.iterrows():\n",
    "#             p_songs = row['songs']\n",
    "#             if read_from_csv and isinstance(p_songs, str):\n",
    "#                 p_songs = ast.literal_eval(p_songs)\n",
    "#             if len(p_songs) >= k:\n",
    "#                 selected_songs = random.sample(p_songs, k)\n",
    "#                 p_embeddings = [embeddings_dict.get(song, average_embedding) for song in selected_songs]\n",
    "#                 embeddings.append(p_embeddings)\n",
    "#                 remaining_songs.append([song for song in p_songs if song not in selected_songs])\n",
    "#         \n",
    "#         # Convert embeddings to tensors\n",
    "#         tensors = []\n",
    "#         for embedding_list in embeddings:\n",
    "#             if embedding_list:  # Check if list is not empty\n",
    "#                 tensor_list = [torch.tensor(embedding) for embedding in embedding_list]\n",
    "#                 tensors.append(torch.stack(tensor_list, dim=0))\n",
    "#         \n",
    "#         # Stack tensors to create a single tensor for each subset\n",
    "#         tensor = torch.stack(tensors, dim=0) if tensors else torch.tensor([])\n",
    "# \n",
    "#         return tensor, remaining_songs\n",
    "#     \n",
    "#     # Process training data\n",
    "#     x_train, y_train = process_data(train_df, read_from_csv, k)\n",
    "#     \n",
    "#     # Process testing data\n",
    "#     x_test, y_test = process_data(test_df, read_from_csv, k)\n",
    "#     \n",
    "#     return x_train, y_train, x_test, y_test"
   ],
   "outputs": [],
   "execution_count": 32
  },
  {
   "cell_type": "code",
   "metadata": {
    "ExecuteTime": {
     "end_time": "2024-05-06T17:58:30.096284Z",
     "start_time": "2024-05-06T17:58:30.071047Z"
    }
   },
   "source": [
    "import numpy as np\n",
    "\n",
    "def r_precision(y_true, y_pred):\n",
    "    # Convert y_true to a set for quick lookup -- Probably not needed\n",
    "    y_true_set = set(y_true)\n",
    "\n",
    "    # Determine the number of relevant items -- Not 100% sure\n",
    "    r = len(y_true_set)\n",
    "    \n",
    "    # Filter y_pred to only include items that are in y_true -- Not 100% sure if this is correct\n",
    "    relevant_predictions = [song for song in y_pred if song in y_true_set]\n",
    "    \n",
    "    # Calculate the number of relevant items that should be considered\n",
    "    r_actual = min(r, len(relevant_predictions))\n",
    "    \n",
    "    # Count how many of the top-r_actual predictions are in the true set of relevant songs\n",
    "    relevant_count = len(relevant_predictions[:r_actual])\n",
    "    \n",
    "    if r == 0:\n",
    "        return 0  # Avoid division by zero if there are no relevant items\n",
    "    return relevant_count / r\n",
    "\n",
    "def recommended_songs_clicks(y_true, y_pred):\n",
    "    # Convert ground truth list to set for quick look-up -- Again, probably not needed\n",
    "    true_set = set(y_true)\n",
    "    \n",
    "    # Find the first relevant track in the predictions\n",
    "    for i, track in enumerate(y_pred, start=1):\n",
    "        if track in true_set:\n",
    "            # how many blocks of 10 tracks are needed\n",
    "            return (i - 1) // 10 + 1\n",
    "    \n",
    "    # If no relevant track is found, set a default value\n",
    "    # Since the max number of clicks possible plus one is mentioned as 51\n",
    "    return 51\n",
    "\n",
    "\n",
    "def dcg(relevances, rank):\n",
    "    relevances = np.array(relevances)\n",
    "    if relevances.size:\n",
    "        return relevances[0] + np.sum(relevances[1:] / np.log2(np.arange(2, relevances.size + 1)))\n",
    "    return 0\n",
    "\n",
    "def idcg(relevances):\n",
    "    sorted_relevances = sorted(relevances, reverse=True)\n",
    "    return dcg(sorted_relevances, len(sorted_relevances))\n",
    "\n",
    "def ndcg(y_true, y_pred):\n",
    "    relevances = [1 if song in y_true else 0 for song in y_pred]\n",
    "    actual_dcg = dcg(relevances, len(relevances))\n",
    "    ideal_dcg = idcg(relevances)\n",
    "    if ideal_dcg == 0:\n",
    "        return 0\n",
    "    return actual_dcg / ideal_dcg\n",
    "\n",
    "def playlist_loss(y_true, y_pred):\n",
    "    total_loss = 0\n",
    "    num_samples = len(y_true)\n",
    "    \n",
    "    for i in range(num_samples):\n",
    "        # Convert y_true and y_pred to sets for quick lookup\n",
    "        y_true_set = set(y_true[i])\n",
    "        y_pred_set = set(y_pred[i])\n",
    "\n",
    "        # Calculate R-Precision\n",
    "        r_precision_value = r_precision(y_true_set, y_pred_set)\n",
    "\n",
    "        # Calculate NDCG\n",
    "        ndcg_value = ndcg(y_true_set, y_pred_set)\n",
    "\n",
    "        # Calculate clicks\n",
    "        clicks_value = recommended_songs_clicks(y_true_set, y_pred_set)\n",
    "\n",
    "        # Define weights\n",
    "        weight_r = 1\n",
    "        weight_ndcg = 1\n",
    "        weight_clicks = 1/50  # Adjusted weight for clicks\n",
    "\n",
    "        # Calculate individual losses\n",
    "        r_loss = 1 - r_precision_value\n",
    "        ndcg_loss = 1 - ndcg_value\n",
    "\n",
    "        # Subtract 1/50 to keep loss within the range of 0 to 3, as 1 click (1/50) is the minimum\n",
    "        clicks_loss = clicks_value * weight_clicks - 1/50\n",
    "\n",
    "        # Combine individual losses\n",
    "        loss = (r_loss * weight_r) + (ndcg_loss * weight_ndcg) + clicks_loss\n",
    "\n",
    "        # print(f'Loss: {loss} R loss: {r_loss} NDCG: {ndcg_loss} Clicks: {clicks_value}')\n",
    "\n",
    "        # Accumulate total loss\n",
    "        total_loss += loss\n",
    "    \n",
    "    # Calculate average loss\n",
    "    average_loss = total_loss / num_samples\n",
    "    \n",
    "    return average_loss\n"
   ],
   "outputs": [],
   "execution_count": 11
  },
  {
   "cell_type": "code",
   "metadata": {
    "ExecuteTime": {
     "end_time": "2024-05-06T19:03:41.300366Z",
     "start_time": "2024-05-06T19:03:00.888862Z"
    }
   },
   "source": [
    "import torch\n",
    "import torch.optim as optim\n",
    "import torch.nn as nn\n",
    "from torch.nn.utils.rnn import pad_sequence\n",
    "\n",
    "## embedding length 64\n",
    "## lstm taking k track embeddings\n",
    "\n",
    "# Initialize an empty dictionary to store the embeddings of songs that appear in more than 5 playlists\n",
    "filtered_embeddings_dict = {}\n",
    "\n",
    "# # Calculate playlist counts for each song URI\n",
    "playlist_counts = {}\n",
    "for songs_list in filtered_grouped['songs']:\n",
    "    for song_uri in songs_list:\n",
    "        playlist_counts[song_uri] = playlist_counts.get(song_uri, 0) + 1\n",
    "\n",
    "\n",
    "# print(f'Playlist counts size: {len(playlist_counts)}')\n",
    "# Filter embeddings dictionary to include only songs that appear in more than 5 playlists\n",
    "for song_uri, embedding in embeddings_dict.items():\n",
    "    # print(song_uri)\n",
    "    if playlist_counts.get(song_uri, 0) > 400:\n",
    "        filtered_embeddings_dict[song_uri] = embedding\n",
    "\n",
    "print(len(filtered_embeddings_dict))\n",
    "\n",
    "# filtered_embeddings_dict = {k: v.to(device) for k, v in embeddings_dict.items()}\n"
   ],
   "outputs": [
    {
     "name": "stdout",
     "output_type": "stream",
     "text": [
      "22441\n"
     ]
    }
   ],
   "execution_count": 57
  },
  {
   "cell_type": "code",
   "metadata": {
    "ExecuteTime": {
     "end_time": "2024-05-06T19:03:45.042711Z",
     "start_time": "2024-05-06T19:03:45.017749Z"
    }
   },
   "source": [
    "class ClosestEmbeddingsLayer(nn.Module):\n",
    "    def __init__(self, num_closest=500):\n",
    "        super(ClosestEmbeddingsLayer, self).__init__()\n",
    "        self.num_closest = num_closest\n",
    "\n",
    "    def forward(self, generated_embeddings):\n",
    "        print(f'...Finding closest embeddings...')\n",
    "        closest_embeddings_batch = []\n",
    "        generated_embeddings = generated_embeddings.to('cpu')\n",
    "        for generated_embedding in generated_embeddings:\n",
    "            # Compute cosine similarity between the generated embedding and all embeddings in embeddings_dict\n",
    "            similarities = {}\n",
    "            # for key, value in embeddings_dict.items():\n",
    "            for key, value in filtered_embeddings_dict.items():\n",
    "                similarity = torch.nn.functional.cosine_similarity(generated_embedding.unsqueeze(0), value.unsqueeze(0))\n",
    "                similarities[key] = similarity.item()\n",
    "            \n",
    "            # Sort the similarities and get the top num_closest embeddings\n",
    "            closest_embeddings = sorted(similarities, key=similarities.get, reverse=True)[:self.num_closest]\n",
    "            closest_embeddings_batch.append(closest_embeddings)\n",
    "        \n",
    "        return closest_embeddings_batch\n",
    "\n",
    "class DynamicRNN(nn.Module):\n",
    "    def __init__(self, input_size, hidden_size, output_size):\n",
    "        super(DynamicRNN, self).__init__()\n",
    "        self.lstm = nn.LSTM(input_size, hidden_size, batch_first=True)\n",
    "        self.fc = nn.Linear(hidden_size, output_size)\n",
    "        self.closest_embeddings_layer = ClosestEmbeddingsLayer()\n",
    "\n",
    "    def forward(self, x):\n",
    "        print(f'...Model forward pass...')\n",
    "        # Feed the input through the LSTM layer\n",
    "        output, (hidden, cell) = self.lstm(x)\n",
    "        # Applying the linear layer and closest embeddings layer on the last hidden state of the outputs\n",
    "        output = self.fc(output[:, -1, :])  # Select the output at the last time step of each sequence directly\n",
    "        closest_embeddings = self.closest_embeddings_layer(output)\n",
    "        return closest_embeddings\n",
    "    # def forward(self, x, lengths):\n",
    "    #     print(f'...Model forward pass...')\n",
    "    #     print(x)\n",
    "    #     # Packing the padded sequence\n",
    "    #     packed_input = nn.utils.rnn.pack_padded_sequence(x, lengths, batch_first=True, enforce_sorted=False)\n",
    "    #     print(packed_input)\n",
    "    #     packed_output, (hidden, cell) = self.lstm(packed_input)\n",
    "    #     print(packed_output)\n",
    "    #     # Unpacking the sequence\n",
    "    #     output, _ = nn.utils.rnn.pad_packed_sequence(packed_output, batch_first=True)\n",
    "    #     # Applying the linear layer and closest embeddings layer on the last hidden state of the outputs\n",
    "    #     output = self.fc(output[range(len(output)), lengths - 1])  # Select the output at the last time step of each sequence\n",
    "    #     closest_embeddings = self.closest_embeddings_layer(output)\n",
    "    #     return closest_embeddings"
   ],
   "outputs": [],
   "execution_count": 58
  },
  {
   "cell_type": "code",
   "metadata": {
    "ExecuteTime": {
     "end_time": "2024-05-06T19:04:30.214447Z",
     "start_time": "2024-05-06T19:03:48.163265Z"
    }
   },
   "source": [
    "def train_model_for_k(model, x_train, y_train, epochs, batch_size):\n",
    "    device = torch.device(\"cuda\" if torch.cuda.is_available() else \"cpu\")\n",
    "    optimizer = torch.optim.Adam(model.parameters(), lr=0.01)\n",
    "    # criterion = playlist_loss()  # Or any other appropriate loss function\n",
    "    # closest_embeddings_layer = ClosestEmbeddingsLayer().to(device)\n",
    "\n",
    "    # Convert datasets to tensors and move to the appropriate device\n",
    "    x_train.to(device)\n",
    "    # y_train = torch.tensor(y_train, dtype=torch.float).to(device)\n",
    "\n",
    "\n",
    "    for epoch in range(epochs):\n",
    "        model.train()\n",
    "        total_loss = 0\n",
    "        for i in range(0, len(x_train), batch_size):\n",
    "            # print(f'Batch: {i}')\n",
    "            optimizer.zero_grad()\n",
    "            batch_input = x_train[i:i+batch_size].to(device)\n",
    "            batch_target = y_train[i:i+batch_size]\n",
    "            print(f'Trained: {i} / {len(x_train)}')\n",
    "            # lengths = torch.tensor([len(x) for x in batch_input], dtype=torch.int64)\n",
    "            output = model(batch_input)\n",
    "            # closest_embeddings = closest_embeddings_layer(output)\n",
    "            #returns list of 500 closest embeddings\n",
    "            loss = playlist_loss(batch_target, output)\n",
    "            print(f'Loss: {loss}')\n",
    "            loss_tensor = torch.tensor(loss, requires_grad=True, device=device)  # Convert loss to a tensor and move to CUDA device\n",
    "            loss_tensor.backward()  # Compute gradients\n",
    "            optimizer.step()  # Update weights\n",
    "        \n",
    "        print(f'Epoch {epoch+1}, Loss: {total_loss / (len(x_train) / batch_size)}')\n",
    "        \n",
    "        torch.save({\n",
    "            'model_state_dict': model.state_dict(),\n",
    "            'optimizer_state_dict': optimizer.state_dict(),\n",
    "            }, 'model_checkpoint.pth')\n",
    "    \n",
    "\n",
    "def evaluate_model(model, x_test, y_test, batch_size):\n",
    "    device = torch.device(\"cuda\" if torch.cuda.is_available() else \"cpu\")\n",
    "    model.eval()\n",
    "    total_loss = 0\n",
    "    with torch.no_grad():\n",
    "        for i in range(0, len(x_test), batch_size):\n",
    "            batch_input = x_test[i:i+batch_size].to(device)\n",
    "            batch_target = y_test[i:i+batch_size]\n",
    "            lengths = torch.tensor([len(x) for x in batch_input], dtype=torch.int64)\n",
    "            val_output = model(batch_input, lengths)\n",
    "            # val_closest_embeddings = closest_embeddings_layer(val_output)\n",
    "            val_loss = playlist_loss(batch_target, val_output)\n",
    "            total_loss += val_loss\n",
    "\n",
    "    print(f'Test Loss: {total_loss / (len(x_test) / batch_size)}')\n",
    "\n",
    "# Example usage for each k\n",
    "# print(f'Size of filtered dict: {len(embeddings_dict)}')\n",
    "small_df = filtered_grouped.sample(frac=0.01)\n",
    "\n",
    "device = torch.device(\"cuda\" if torch.cuda.is_available() else \"cpu\")\n",
    "epochs = 5\n",
    "batch_size = 64\n",
    "\n",
    "# k_values = [5, 10, 20]\n",
    "k_values = [10]\n",
    "for k in k_values:\n",
    "    x_train, y_train, x_test, y_test = createDatasets(small_df, k, True, filtered_embeddings_dict, average_embedding, artist_dict, artist_embeddings, playlist_embeddings)\n",
    "    print(x_train.shape)\n",
    "    model = DynamicRNN(input_size=192, hidden_size=128, output_size=64).to(device)\n",
    "    train_model_for_k(model, x_train, y_train, epochs=epochs, batch_size=batch_size)\n",
    "    with open('modelk10.pkl', 'wb') as f:\n",
    "        pickle.dump(model, f)\n",
    "    evaluate_model(model, x_test, y_test, batch_size)\n",
    "\n",
    "\n",
    "# train_model_for_k(model, x_train, y_train, x_test, y_test, epochs=10, batch_size=32, k=k)"
   ],
   "outputs": [
    {
     "name": "stderr",
     "output_type": "stream",
     "text": [
      "C:\\Users\\benhi\\AppData\\Local\\Temp\\ipykernel_2144\\104190308.py:37: UserWarning: To copy construct from a tensor, it is recommended to use sourceTensor.clone().detach() or sourceTensor.clone().detach().requires_grad_(True), rather than torch.tensor(sourceTensor).\n",
      "  artist_embedding = torch.tensor(artist_embeddings.get(artist_uri, torch.zeros_like(average_embedding)))\n"
     ]
    },
    {
     "name": "stdout",
     "output_type": "stream",
     "text": [
      "torch.Size([7232, 10, 192])\n",
      "Trained: 0 / 7232\n",
      "...Model forward pass...\n",
      "...Finding closest embeddings...\n"
     ]
    },
    {
     "ename": "KeyboardInterrupt",
     "evalue": "",
     "output_type": "error",
     "traceback": [
      "\u001B[1;31m---------------------------------------------------------------------------\u001B[0m",
      "\u001B[1;31mKeyboardInterrupt\u001B[0m                         Traceback (most recent call last)",
      "Cell \u001B[1;32mIn[59], line 69\u001B[0m\n\u001B[0;32m     67\u001B[0m \u001B[38;5;28mprint\u001B[39m(x_train\u001B[38;5;241m.\u001B[39mshape)\n\u001B[0;32m     68\u001B[0m model \u001B[38;5;241m=\u001B[39m DynamicRNN(input_size\u001B[38;5;241m=\u001B[39m\u001B[38;5;241m192\u001B[39m, hidden_size\u001B[38;5;241m=\u001B[39m\u001B[38;5;241m128\u001B[39m, output_size\u001B[38;5;241m=\u001B[39m\u001B[38;5;241m64\u001B[39m)\u001B[38;5;241m.\u001B[39mto(device)\n\u001B[1;32m---> 69\u001B[0m \u001B[43mtrain_model_for_k\u001B[49m\u001B[43m(\u001B[49m\u001B[43mmodel\u001B[49m\u001B[43m,\u001B[49m\u001B[43m \u001B[49m\u001B[43mx_train\u001B[49m\u001B[43m,\u001B[49m\u001B[43m \u001B[49m\u001B[43my_train\u001B[49m\u001B[43m,\u001B[49m\u001B[43m \u001B[49m\u001B[43mepochs\u001B[49m\u001B[38;5;241;43m=\u001B[39;49m\u001B[43mepochs\u001B[49m\u001B[43m,\u001B[49m\u001B[43m \u001B[49m\u001B[43mbatch_size\u001B[49m\u001B[38;5;241;43m=\u001B[39;49m\u001B[43mbatch_size\u001B[49m\u001B[43m)\u001B[49m\n\u001B[0;32m     70\u001B[0m \u001B[38;5;28;01mwith\u001B[39;00m \u001B[38;5;28mopen\u001B[39m(\u001B[38;5;124m'\u001B[39m\u001B[38;5;124mmodelk10.pkl\u001B[39m\u001B[38;5;124m'\u001B[39m, \u001B[38;5;124m'\u001B[39m\u001B[38;5;124mwb\u001B[39m\u001B[38;5;124m'\u001B[39m) \u001B[38;5;28;01mas\u001B[39;00m f:\n\u001B[0;32m     71\u001B[0m     pickle\u001B[38;5;241m.\u001B[39mdump(model, f)\n",
      "Cell \u001B[1;32mIn[59], line 22\u001B[0m, in \u001B[0;36mtrain_model_for_k\u001B[1;34m(model, x_train, y_train, epochs, batch_size)\u001B[0m\n\u001B[0;32m     20\u001B[0m \u001B[38;5;28mprint\u001B[39m(\u001B[38;5;124mf\u001B[39m\u001B[38;5;124m'\u001B[39m\u001B[38;5;124mTrained: \u001B[39m\u001B[38;5;132;01m{\u001B[39;00mi\u001B[38;5;132;01m}\u001B[39;00m\u001B[38;5;124m / \u001B[39m\u001B[38;5;132;01m{\u001B[39;00m\u001B[38;5;28mlen\u001B[39m(x_train)\u001B[38;5;132;01m}\u001B[39;00m\u001B[38;5;124m'\u001B[39m)\n\u001B[0;32m     21\u001B[0m \u001B[38;5;66;03m# lengths = torch.tensor([len(x) for x in batch_input], dtype=torch.int64)\u001B[39;00m\n\u001B[1;32m---> 22\u001B[0m output \u001B[38;5;241m=\u001B[39m \u001B[43mmodel\u001B[49m\u001B[43m(\u001B[49m\u001B[43mbatch_input\u001B[49m\u001B[43m)\u001B[49m\n\u001B[0;32m     23\u001B[0m \u001B[38;5;66;03m# closest_embeddings = closest_embeddings_layer(output)\u001B[39;00m\n\u001B[0;32m     24\u001B[0m \u001B[38;5;66;03m#returns list of 500 closest embeddings\u001B[39;00m\n\u001B[0;32m     25\u001B[0m loss \u001B[38;5;241m=\u001B[39m playlist_loss(batch_target, output)\n",
      "File \u001B[1;32m~\\AppData\\Local\\Programs\\Python\\Python310\\lib\\site-packages\\torch\\nn\\modules\\module.py:1501\u001B[0m, in \u001B[0;36mModule._call_impl\u001B[1;34m(self, *args, **kwargs)\u001B[0m\n\u001B[0;32m   1496\u001B[0m \u001B[38;5;66;03m# If we don't have any hooks, we want to skip the rest of the logic in\u001B[39;00m\n\u001B[0;32m   1497\u001B[0m \u001B[38;5;66;03m# this function, and just call forward.\u001B[39;00m\n\u001B[0;32m   1498\u001B[0m \u001B[38;5;28;01mif\u001B[39;00m \u001B[38;5;129;01mnot\u001B[39;00m (\u001B[38;5;28mself\u001B[39m\u001B[38;5;241m.\u001B[39m_backward_hooks \u001B[38;5;129;01mor\u001B[39;00m \u001B[38;5;28mself\u001B[39m\u001B[38;5;241m.\u001B[39m_backward_pre_hooks \u001B[38;5;129;01mor\u001B[39;00m \u001B[38;5;28mself\u001B[39m\u001B[38;5;241m.\u001B[39m_forward_hooks \u001B[38;5;129;01mor\u001B[39;00m \u001B[38;5;28mself\u001B[39m\u001B[38;5;241m.\u001B[39m_forward_pre_hooks\n\u001B[0;32m   1499\u001B[0m         \u001B[38;5;129;01mor\u001B[39;00m _global_backward_pre_hooks \u001B[38;5;129;01mor\u001B[39;00m _global_backward_hooks\n\u001B[0;32m   1500\u001B[0m         \u001B[38;5;129;01mor\u001B[39;00m _global_forward_hooks \u001B[38;5;129;01mor\u001B[39;00m _global_forward_pre_hooks):\n\u001B[1;32m-> 1501\u001B[0m     \u001B[38;5;28;01mreturn\u001B[39;00m forward_call(\u001B[38;5;241m*\u001B[39margs, \u001B[38;5;241m*\u001B[39m\u001B[38;5;241m*\u001B[39mkwargs)\n\u001B[0;32m   1502\u001B[0m \u001B[38;5;66;03m# Do not call functions when jit is used\u001B[39;00m\n\u001B[0;32m   1503\u001B[0m full_backward_hooks, non_full_backward_hooks \u001B[38;5;241m=\u001B[39m [], []\n",
      "Cell \u001B[1;32mIn[58], line 37\u001B[0m, in \u001B[0;36mDynamicRNN.forward\u001B[1;34m(self, x)\u001B[0m\n\u001B[0;32m     35\u001B[0m \u001B[38;5;66;03m# Applying the linear layer and closest embeddings layer on the last hidden state of the outputs\u001B[39;00m\n\u001B[0;32m     36\u001B[0m output \u001B[38;5;241m=\u001B[39m \u001B[38;5;28mself\u001B[39m\u001B[38;5;241m.\u001B[39mfc(output[:, \u001B[38;5;241m-\u001B[39m\u001B[38;5;241m1\u001B[39m, :])  \u001B[38;5;66;03m# Select the output at the last time step of each sequence directly\u001B[39;00m\n\u001B[1;32m---> 37\u001B[0m closest_embeddings \u001B[38;5;241m=\u001B[39m \u001B[38;5;28;43mself\u001B[39;49m\u001B[38;5;241;43m.\u001B[39;49m\u001B[43mclosest_embeddings_layer\u001B[49m\u001B[43m(\u001B[49m\u001B[43moutput\u001B[49m\u001B[43m)\u001B[49m\n\u001B[0;32m     38\u001B[0m \u001B[38;5;28;01mreturn\u001B[39;00m closest_embeddings\n",
      "File \u001B[1;32m~\\AppData\\Local\\Programs\\Python\\Python310\\lib\\site-packages\\torch\\nn\\modules\\module.py:1501\u001B[0m, in \u001B[0;36mModule._call_impl\u001B[1;34m(self, *args, **kwargs)\u001B[0m\n\u001B[0;32m   1496\u001B[0m \u001B[38;5;66;03m# If we don't have any hooks, we want to skip the rest of the logic in\u001B[39;00m\n\u001B[0;32m   1497\u001B[0m \u001B[38;5;66;03m# this function, and just call forward.\u001B[39;00m\n\u001B[0;32m   1498\u001B[0m \u001B[38;5;28;01mif\u001B[39;00m \u001B[38;5;129;01mnot\u001B[39;00m (\u001B[38;5;28mself\u001B[39m\u001B[38;5;241m.\u001B[39m_backward_hooks \u001B[38;5;129;01mor\u001B[39;00m \u001B[38;5;28mself\u001B[39m\u001B[38;5;241m.\u001B[39m_backward_pre_hooks \u001B[38;5;129;01mor\u001B[39;00m \u001B[38;5;28mself\u001B[39m\u001B[38;5;241m.\u001B[39m_forward_hooks \u001B[38;5;129;01mor\u001B[39;00m \u001B[38;5;28mself\u001B[39m\u001B[38;5;241m.\u001B[39m_forward_pre_hooks\n\u001B[0;32m   1499\u001B[0m         \u001B[38;5;129;01mor\u001B[39;00m _global_backward_pre_hooks \u001B[38;5;129;01mor\u001B[39;00m _global_backward_hooks\n\u001B[0;32m   1500\u001B[0m         \u001B[38;5;129;01mor\u001B[39;00m _global_forward_hooks \u001B[38;5;129;01mor\u001B[39;00m _global_forward_pre_hooks):\n\u001B[1;32m-> 1501\u001B[0m     \u001B[38;5;28;01mreturn\u001B[39;00m forward_call(\u001B[38;5;241m*\u001B[39margs, \u001B[38;5;241m*\u001B[39m\u001B[38;5;241m*\u001B[39mkwargs)\n\u001B[0;32m   1502\u001B[0m \u001B[38;5;66;03m# Do not call functions when jit is used\u001B[39;00m\n\u001B[0;32m   1503\u001B[0m full_backward_hooks, non_full_backward_hooks \u001B[38;5;241m=\u001B[39m [], []\n",
      "Cell \u001B[1;32mIn[58], line 16\u001B[0m, in \u001B[0;36mClosestEmbeddingsLayer.forward\u001B[1;34m(self, generated_embeddings)\u001B[0m\n\u001B[0;32m     14\u001B[0m \u001B[38;5;28;01mfor\u001B[39;00m key, value \u001B[38;5;129;01min\u001B[39;00m filtered_embeddings_dict\u001B[38;5;241m.\u001B[39mitems():\n\u001B[0;32m     15\u001B[0m     similarity \u001B[38;5;241m=\u001B[39m torch\u001B[38;5;241m.\u001B[39mnn\u001B[38;5;241m.\u001B[39mfunctional\u001B[38;5;241m.\u001B[39mcosine_similarity(generated_embedding\u001B[38;5;241m.\u001B[39munsqueeze(\u001B[38;5;241m0\u001B[39m), value\u001B[38;5;241m.\u001B[39munsqueeze(\u001B[38;5;241m0\u001B[39m))\n\u001B[1;32m---> 16\u001B[0m     similarities[key] \u001B[38;5;241m=\u001B[39m \u001B[43msimilarity\u001B[49m\u001B[38;5;241;43m.\u001B[39;49m\u001B[43mitem\u001B[49m\u001B[43m(\u001B[49m\u001B[43m)\u001B[49m\n\u001B[0;32m     18\u001B[0m \u001B[38;5;66;03m# Sort the similarities and get the top num_closest embeddings\u001B[39;00m\n\u001B[0;32m     19\u001B[0m closest_embeddings \u001B[38;5;241m=\u001B[39m \u001B[38;5;28msorted\u001B[39m(similarities, key\u001B[38;5;241m=\u001B[39msimilarities\u001B[38;5;241m.\u001B[39mget, reverse\u001B[38;5;241m=\u001B[39m\u001B[38;5;28;01mTrue\u001B[39;00m)[:\u001B[38;5;28mself\u001B[39m\u001B[38;5;241m.\u001B[39mnum_closest]\n",
      "\u001B[1;31mKeyboardInterrupt\u001B[0m: "
     ]
    }
   ],
   "execution_count": 59
  },
  {
   "metadata": {},
   "cell_type": "code",
   "source": [
    "# from torch.nn.utils.rnn import pack_padded_sequence\n",
    "# \n",
    "# k_values = [5, 10, 20]\n",
    "# \n",
    "# # Initialize empty lists for data collection\n",
    "# x_train_all, lengths_train_all, y_train_all = [], [], []\n",
    "# x_test_all, lengths_test_all, y_test_all = [], [], []\n",
    "# \n",
    "# # Collect and process datasets for each k\n",
    "# for k in k_values:\n",
    "#     x_train, lengths_train, y_train, x_test, lengths_test, y_test = createDatasets(small_df, k, True, filtered_embeddings_dict, average_embedding)\n",
    "#     \n",
    "#     # Append data without padding\n",
    "#     x_train_all.extend(x_train)\n",
    "#     x_test_all.extend(x_test)\n",
    "#     \n",
    "#     lengths_train_all.extend(lengths_train)\n",
    "#     y_train_all.extend(y_train)\n",
    "#     lengths_test_all.extend(lengths_test)\n",
    "#     y_test_all.extend(y_test)\n",
    "# \n",
    "# # Function to pad tensors to the same length and concatenate them\n",
    "# def pad_and_concatenate(tensors):\n",
    "#     max_length = max(tensor.size(0) for tensor in tensors)  # Find the global maximum length\n",
    "#     padded_tensors = [torch.nn.functional.pad(tensor, (0, 0, 0, max_length - tensor.size(0))) for tensor in tensors]\n",
    "#     return torch.cat(padded_tensors, dim=0)\n",
    "# \n",
    "# # Pad and concatenate all sequence tensors\n",
    "# x_train_all = pad_and_concatenate(x_train_all)\n",
    "# x_test_all = pad_and_concatenate(x_test_all)\n",
    "# \n",
    "# # Convert lists to tensors and concatenate\n",
    "# lengths_train_all = torch.tensor(lengths_train_all)\n",
    "# lengths_test_all = torch.tensor(lengths_test_all)\n",
    "# \n",
    "# # Debug: Print sizes for verification\n",
    "# print('Sizes:', x_train_all.size(0), lengths_train_all.size(0))\n",
    "# \n",
    "# # Shuffle the training dataset before packing\n",
    "# train_indices = torch.randperm(x_train_all.size(0))\n",
    "# x_train_all = x_train_all[train_indices]\n",
    "# lengths_train_all = lengths_train_all[train_indices]\n",
    "# y_train_all = y_train_all[train_indices]\n",
    "# \n",
    "# # Pack the padded sequences\n",
    "# packed_x_train_all = pack_padded_sequence(x_train_all, lengths_train_all, batch_first=True, enforce_sorted=False)\n",
    "# packed_x_test_all = pack_padded_sequence(x_test_all, lengths_test_all, batch_first=True, enforce_sorted=False)\n",
    "# \n",
    "# \n",
    "# batch_size = 32\n",
    "# epochs = 10\n",
    "# \n",
    "# train_model_for_k(model,x_train_all, y_train_all, epochs, batch_size)\n",
    "# \n",
    "# evaluate_model(model, x_test_all, y_test_all, batch_size)\n",
    "\n",
    "    "
   ],
   "outputs": [],
   "execution_count": null
  }
 ],
 "metadata": {
  "kernelspec": {
   "display_name": "Python 3",
   "language": "python",
   "name": "python3"
  },
  "language_info": {
   "codemirror_mode": {
    "name": "ipython",
    "version": 3
   },
   "file_extension": ".py",
   "mimetype": "text/x-python",
   "name": "python",
   "nbconvert_exporter": "python",
   "pygments_lexer": "ipython3",
   "version": "3.10.9"
  }
 },
 "nbformat": 4,
 "nbformat_minor": 2
}
